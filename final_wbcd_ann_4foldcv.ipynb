{
  "nbformat": 4,
  "nbformat_minor": 0,
  "metadata": {
    "colab": {
      "provenance": []
    },
    "kernelspec": {
      "name": "python3",
      "display_name": "Python 3"
    },
    "language_info": {
      "name": "python"
    }
  },
  "cells": [
    {
      "cell_type": "code",
      "execution_count": 875,
      "metadata": {
        "id": "UI1mgbu-zMpR"
      },
      "outputs": [],
      "source": [
        "#manipulation data libraries\n",
        "import pandas as pd\n",
        "import numpy as np\n",
        "#visualiation data libraries\n",
        "import matplotlib.pyplot as plt\n",
        "import seaborn as sns \n",
        "import matplotlib\n",
        "import plotly.graph_objects as go\n",
        "import plotly.express as px\n",
        "import sklearn as sk\n",
        "from sklearn.preprocessing import StandardScaler \n",
        "from sklearn.model_selection import KFold\n",
        "from sklearn.model_selection import StratifiedKFold\n",
        "from sklearn.model_selection import cross_validate\n",
        "from sklearn.model_selection import train_test_split\n",
        "from sklearn.model_selection import cross_val_predict\n",
        "from sklearn.preprocessing import LabelEncoder\n",
        "from sklearn.metrics import precision_score, recall_score, accuracy_score, roc_auc_score, roc_curve, f1_score, confusion_matrix, plot_confusion_matrix\n",
        "import tensorflow as tf\n",
        "import keras as ks\n",
        "from keras.models import Sequential\n",
        "from keras.layers import Dense\n",
        "from keras.layers import LeakyReLU,PReLU,ELU\n",
        "from keras.layers import Dropout\n",
        "from keras.layers import BatchNormalization\n",
        "from keras.callbacks import EarlyStopping\n",
        "from keras.wrappers.scikit_learn import KerasClassifier\n",
        "from keras.utils import to_categorical\n",
        "from keras.optimizers import Adamax"
      ]
    },
    {
      "cell_type": "code",
      "source": [],
      "metadata": {
        "id": "UBN5sBX_zQ4g"
      },
      "execution_count": 875,
      "outputs": []
    },
    {
      "cell_type": "code",
      "source": [
        "#set default theme\n",
        "sns.set(context='notebook', style='darkgrid', palette='colorblind', font='sans-serif', font_scale=1, rc=None)\n",
        "matplotlib.rcParams['figure.figsize'] =[8,8]\n",
        "matplotlib.rcParams.update({'font.size': 15})\n",
        "matplotlib.rcParams['font.family'] = 'sans-serif'"
      ],
      "metadata": {
        "id": "uwW-EWZIzS0-"
      },
      "execution_count": 876,
      "outputs": []
    },
    {
      "cell_type": "code",
      "source": [
        "#import the dataset\n",
        "dataLabelled = pd.read_csv('https://archive.ics.uci.edu/ml/machine-learning-databases/breast-cancer-wisconsin/breast-cancer-wisconsin.data', sep=\",\", header=None, names=['id','clump_thickness','uniformity_of_cell_size','uniformity_of_cell_shape','marginal_adhesion','single_epithelial_cell_size','bare_nuclei','bland_chromatin','normal_nucleoli','mitoses','diagnosis'])\n",
        "print(dataLabelled.dtypes)"
      ],
      "metadata": {
        "colab": {
          "base_uri": "https://localhost:8080/"
        },
        "id": "aARXvU-Z--ix",
        "outputId": "fd170459-ecc0-487e-f1f9-bc778b54f094"
      },
      "execution_count": 877,
      "outputs": [
        {
          "output_type": "stream",
          "name": "stdout",
          "text": [
            "id                              int64\n",
            "clump_thickness                 int64\n",
            "uniformity_of_cell_size         int64\n",
            "uniformity_of_cell_shape        int64\n",
            "marginal_adhesion               int64\n",
            "single_epithelial_cell_size     int64\n",
            "bare_nuclei                    object\n",
            "bland_chromatin                 int64\n",
            "normal_nucleoli                 int64\n",
            "mitoses                         int64\n",
            "diagnosis                       int64\n",
            "dtype: object\n"
          ]
        }
      ]
    },
    {
      "cell_type": "code",
      "source": [
        "#drop the 16 instances where bare_nuclei has a \"?\" as a value\n",
        "#the total value of instances is now 683\n",
        "dataLabelled.drop(dataLabelled[(dataLabelled['bare_nuclei'] == '?')].index, inplace=True)"
      ],
      "metadata": {
        "id": "_PGNikzZzY1f"
      },
      "execution_count": 878,
      "outputs": []
    },
    {
      "cell_type": "code",
      "source": [
        "#check the data types and entries\n",
        "dataLabelled.info()"
      ],
      "metadata": {
        "colab": {
          "base_uri": "https://localhost:8080/"
        },
        "id": "vGAszVD9zdXM",
        "outputId": "855751f4-149b-47df-94ad-6a33a38afd83"
      },
      "execution_count": 879,
      "outputs": [
        {
          "output_type": "stream",
          "name": "stdout",
          "text": [
            "<class 'pandas.core.frame.DataFrame'>\n",
            "Int64Index: 683 entries, 0 to 698\n",
            "Data columns (total 11 columns):\n",
            " #   Column                       Non-Null Count  Dtype \n",
            "---  ------                       --------------  ----- \n",
            " 0   id                           683 non-null    int64 \n",
            " 1   clump_thickness              683 non-null    int64 \n",
            " 2   uniformity_of_cell_size      683 non-null    int64 \n",
            " 3   uniformity_of_cell_shape     683 non-null    int64 \n",
            " 4   marginal_adhesion            683 non-null    int64 \n",
            " 5   single_epithelial_cell_size  683 non-null    int64 \n",
            " 6   bare_nuclei                  683 non-null    object\n",
            " 7   bland_chromatin              683 non-null    int64 \n",
            " 8   normal_nucleoli              683 non-null    int64 \n",
            " 9   mitoses                      683 non-null    int64 \n",
            " 10  diagnosis                    683 non-null    int64 \n",
            "dtypes: int64(10), object(1)\n",
            "memory usage: 64.0+ KB\n"
          ]
        }
      ]
    },
    {
      "cell_type": "code",
      "source": [
        "print(\"\")\n",
        "print(\"Finding the mean of each column\")\n",
        "\n",
        "dataLabelled.mean()"
      ],
      "metadata": {
        "colab": {
          "base_uri": "https://localhost:8080/"
        },
        "id": "3SxyCFamypaK",
        "outputId": "b761bda0-a85e-41f2-ab36-5d0df7af3950"
      },
      "execution_count": 880,
      "outputs": [
        {
          "output_type": "stream",
          "name": "stdout",
          "text": [
            "\n",
            "Finding the mean of each column\n"
          ]
        },
        {
          "output_type": "execute_result",
          "data": {
            "text/plain": [
              "id                             1.076720e+06\n",
              "clump_thickness                4.442167e+00\n",
              "uniformity_of_cell_size        3.150805e+00\n",
              "uniformity_of_cell_shape       3.215227e+00\n",
              "marginal_adhesion              2.830161e+00\n",
              "single_epithelial_cell_size    3.234261e+00\n",
              "bare_nuclei                             inf\n",
              "bland_chromatin                3.445095e+00\n",
              "normal_nucleoli                2.869693e+00\n",
              "mitoses                        1.603221e+00\n",
              "diagnosis                      2.699854e+00\n",
              "dtype: float64"
            ]
          },
          "metadata": {},
          "execution_count": 880
        }
      ]
    },
    {
      "cell_type": "code",
      "source": [
        "#plotting material"
      ],
      "metadata": {
        "id": "yLiAXAW10_F2"
      },
      "execution_count": null,
      "outputs": []
    },
    {
      "cell_type": "code",
      "source": [
        "#convert the bare_nuclei column from object type to a float64\n",
        "dataLabelled['bare_nuclei'] = pd.to_numeric(dataLabelled['bare_nuclei'],errors='coerce')"
      ],
      "metadata": {
        "id": "gwzihNo4zfPo"
      },
      "execution_count": 881,
      "outputs": []
    },
    {
      "cell_type": "code",
      "source": [
        "#replace the 2 (benign ) and 4 (malignant) with 0 and 1\n",
        "dataLabelled['diagnosis'].replace({2:0,4:1},inplace=True)"
      ],
      "metadata": {
        "id": "8GtH8pnqzfUd"
      },
      "execution_count": 882,
      "outputs": []
    },
    {
      "cell_type": "code",
      "source": [
        "#plot the benign and malicious diagnosis \n",
        "plt.figure(figsize = (8,6))\n",
        "sns.countplot(x = 'diagnosis', data = dataLabelled)"
      ],
      "metadata": {
        "colab": {
          "base_uri": "https://localhost:8080/",
          "height": 411
        },
        "id": "JhPrmGW6zfW2",
        "outputId": "6cdbbb33-b1c3-437e-e7fc-171f11f765d8"
      },
      "execution_count": 883,
      "outputs": [
        {
          "output_type": "execute_result",
          "data": {
            "text/plain": [
              "<matplotlib.axes._subplots.AxesSubplot at 0x7fcb8e454c70>"
            ]
          },
          "metadata": {},
          "execution_count": 883
        },
        {
          "output_type": "display_data",
          "data": {
            "text/plain": [
              "<Figure size 576x432 with 1 Axes>"
            ],
            "image/png": "[encoded data removed]"
          },
          "metadata": {}
        }
      ]
    },
    {
      "cell_type": "code",
      "source": [
        "# drop the id columns\n",
        "dataLabelled.drop('id',axis=1, inplace=True)\n",
        "dataLabelled = dataLabelled.reset_index(drop=True)"
      ],
      "metadata": {
        "id": "mVdo3Z9fzfaI"
      },
      "execution_count": 884,
      "outputs": []
    },
    {
      "cell_type": "code",
      "source": [
        "dataLabelled.info()"
      ],
      "metadata": {
        "colab": {
          "base_uri": "https://localhost:8080/"
        },
        "id": "h6v112WGzfew",
        "outputId": "5889d6ec-8efa-4dcd-a6c6-bbdfedf2a065"
      },
      "execution_count": 885,
      "outputs": [
        {
          "output_type": "stream",
          "name": "stdout",
          "text": [
            "<class 'pandas.core.frame.DataFrame'>\n",
            "RangeIndex: 683 entries, 0 to 682\n",
            "Data columns (total 10 columns):\n",
            " #   Column                       Non-Null Count  Dtype\n",
            "---  ------                       --------------  -----\n",
            " 0   clump_thickness              683 non-null    int64\n",
            " 1   uniformity_of_cell_size      683 non-null    int64\n",
            " 2   uniformity_of_cell_shape     683 non-null    int64\n",
            " 3   marginal_adhesion            683 non-null    int64\n",
            " 4   single_epithelial_cell_size  683 non-null    int64\n",
            " 5   bare_nuclei                  683 non-null    int64\n",
            " 6   bland_chromatin              683 non-null    int64\n",
            " 7   normal_nucleoli              683 non-null    int64\n",
            " 8   mitoses                      683 non-null    int64\n",
            " 9   diagnosis                    683 non-null    int64\n",
            "dtypes: int64(10)\n",
            "memory usage: 53.5 KB\n"
          ]
        }
      ]
    },
    {
      "cell_type": "code",
      "source": [
        "#display the dataframe that will be used\n",
        "dataLabelled.describe().transpose()"
      ],
      "metadata": {
        "colab": {
          "base_uri": "https://localhost:8080/",
          "height": 363
        },
        "id": "vx5Vihf-zfh3",
        "outputId": "02c9facd-7628-45c6-d0cb-1b86122436d6"
      },
      "execution_count": 886,
      "outputs": [
        {
          "output_type": "execute_result",
          "data": {
            "text/plain": [
              "                             count      mean       std  min  25%  50%  75%  \\\n",
              "clump_thickness              683.0  4.442167  2.820761  1.0  2.0  4.0  6.0   \n",
              "uniformity_of_cell_size      683.0  3.150805  3.065145  1.0  1.0  1.0  5.0   \n",
              "uniformity_of_cell_shape     683.0  3.215227  2.988581  1.0  1.0  1.0  5.0   \n",
              "marginal_adhesion            683.0  2.830161  2.864562  1.0  1.0  1.0  4.0   \n",
              "single_epithelial_cell_size  683.0  3.234261  2.223085  1.0  2.0  2.0  4.0   \n",
              "bare_nuclei                  683.0  3.544656  3.643857  1.0  1.0  1.0  6.0   \n",
              "bland_chromatin              683.0  3.445095  2.449697  1.0  2.0  3.0  5.0   \n",
              "normal_nucleoli              683.0  2.869693  3.052666  1.0  1.0  1.0  4.0   \n",
              "mitoses                      683.0  1.603221  1.732674  1.0  1.0  1.0  1.0   \n",
              "diagnosis                    683.0  0.349927  0.477296  0.0  0.0  0.0  1.0   \n",
              "\n",
              "                              max  \n",
              "clump_thickness              10.0  \n",
              "uniformity_of_cell_size      10.0  \n",
              "uniformity_of_cell_shape     10.0  \n",
              "marginal_adhesion            10.0  \n",
              "single_epithelial_cell_size  10.0  \n",
              "bare_nuclei                  10.0  \n",
              "bland_chromatin              10.0  \n",
              "normal_nucleoli              10.0  \n",
              "mitoses                      10.0  \n",
              "diagnosis                     1.0  "
            ],
            "text/html": [
              "\n",
              "  <div id=\"df-81336640-b337-4c51-a5b8-304a28e3b632\">\n",
              "    <div class=\"colab-df-container\">\n",
              "      <div>\n",
              "<style scoped>\n",
              "    .dataframe tbody tr th:only-of-type {\n",
              "        vertical-align: middle;\n",
              "    }\n",
              "\n",
              "    .dataframe tbody tr th {\n",
              "        vertical-align: top;\n",
              "    }\n",
              "\n",
              "    .dataframe thead th {\n",
              "        text-align: right;\n",
              "    }\n",
              "</style>\n",
              "<table border=\"1\" class=\"dataframe\">\n",
              "  <thead>\n",
              "    <tr style=\"text-align: right;\">\n",
              "      <th></th>\n",
              "      <th>count</th>\n",
              "      <th>mean</th>\n",
              "      <th>std</th>\n",
              "      <th>min</th>\n",
              "      <th>25%</th>\n",
              "      <th>50%</th>\n",
              "      <th>75%</th>\n",
              "      <th>max</th>\n",
              "    </tr>\n",
              "  </thead>\n",
              "  <tbody>\n",
              "    <tr>\n",
              "      <th>clump_thickness</th>\n",
              "      <td>683.0</td>\n",
              "      <td>4.442167</td>\n",
              "      <td>2.820761</td>\n",
              "      <td>1.0</td>\n",
              "      <td>2.0</td>\n",
              "      <td>4.0</td>\n",
              "      <td>6.0</td>\n",
              "      <td>10.0</td>\n",
              "    </tr>\n",
              "    <tr>\n",
              "      <th>uniformity_of_cell_size</th>\n",
              "      <td>683.0</td>\n",
              "      <td>3.150805</td>\n",
              "      <td>3.065145</td>\n",
              "      <td>1.0</td>\n",
              "      <td>1.0</td>\n",
              "      <td>1.0</td>\n",
              "      <td>5.0</td>\n",
              "      <td>10.0</td>\n",
              "    </tr>\n",
              "    <tr>\n",
              "      <th>uniformity_of_cell_shape</th>\n",
              "      <td>683.0</td>\n",
              "      <td>3.215227</td>\n",
              "      <td>2.988581</td>\n",
              "      <td>1.0</td>\n",
              "      <td>1.0</td>\n",
              "      <td>1.0</td>\n",
              "      <td>5.0</td>\n",
              "      <td>10.0</td>\n",
              "    </tr>\n",
              "    <tr>\n",
              "      <th>marginal_adhesion</th>\n",
              "      <td>683.0</td>\n",
              "      <td>2.830161</td>\n",
              "      <td>2.864562</td>\n",
              "      <td>1.0</td>\n",
              "      <td>1.0</td>\n",
              "      <td>1.0</td>\n",
              "      <td>4.0</td>\n",
              "      <td>10.0</td>\n",
              "    </tr>\n",
              "    <tr>\n",
              "      <th>single_epithelial_cell_size</th>\n",
              "      <td>683.0</td>\n",
              "      <td>3.234261</td>\n",
              "      <td>2.223085</td>\n",
              "      <td>1.0</td>\n",
              "      <td>2.0</td>\n",
              "      <td>2.0</td>\n",
              "      <td>4.0</td>\n",
              "      <td>10.0</td>\n",
              "    </tr>\n",
              "    <tr>\n",
              "      <th>bare_nuclei</th>\n",
              "      <td>683.0</td>\n",
              "      <td>3.544656</td>\n",
              "      <td>3.643857</td>\n",
              "      <td>1.0</td>\n",
              "      <td>1.0</td>\n",
              "      <td>1.0</td>\n",
              "      <td>6.0</td>\n",
              "      <td>10.0</td>\n",
              "    </tr>\n",
              "    <tr>\n",
              "      <th>bland_chromatin</th>\n",
              "      <td>683.0</td>\n",
              "      <td>3.445095</td>\n",
              "      <td>2.449697</td>\n",
              "      <td>1.0</td>\n",
              "      <td>2.0</td>\n",
              "      <td>3.0</td>\n",
              "      <td>5.0</td>\n",
              "      <td>10.0</td>\n",
              "    </tr>\n",
              "    <tr>\n",
              "      <th>normal_nucleoli</th>\n",
              "      <td>683.0</td>\n",
              "      <td>2.869693</td>\n",
              "      <td>3.052666</td>\n",
              "      <td>1.0</td>\n",
              "      <td>1.0</td>\n",
              "      <td>1.0</td>\n",
              "      <td>4.0</td>\n",
              "      <td>10.0</td>\n",
              "    </tr>\n",
              "    <tr>\n",
              "      <th>mitoses</th>\n",
              "      <td>683.0</td>\n",
              "      <td>1.603221</td>\n",
              "      <td>1.732674</td>\n",
              "      <td>1.0</td>\n",
              "      <td>1.0</td>\n",
              "      <td>1.0</td>\n",
              "      <td>1.0</td>\n",
              "      <td>10.0</td>\n",
              "    </tr>\n",
              "    <tr>\n",
              "      <th>diagnosis</th>\n",
              "      <td>683.0</td>\n",
              "      <td>0.349927</td>\n",
              "      <td>0.477296</td>\n",
              "      <td>0.0</td>\n",
              "      <td>0.0</td>\n",
              "      <td>0.0</td>\n",
              "      <td>1.0</td>\n",
              "      <td>1.0</td>\n",
              "    </tr>\n",
              "  </tbody>\n",
              "</table>\n",
              "</div>\n",
              "      <button class=\"colab-df-convert\" onclick=\"convertToInteractive('df-81336640-b337-4c51-a5b8-304a28e3b632')\"\n",
              "              title=\"Convert this dataframe to an interactive table.\"\n",
              "              style=\"display:none;\">\n",
              "        \n",
              "  <svg xmlns=\"http://www.w3.org/2000/svg\" height=\"24px\"viewBox=\"0 0 24 24\"\n",
              "       width=\"24px\">\n",
              "    <path d=\"M0 0h24v24H0V0z\" fill=\"none\"/>\n",
              "    <path d=\"M18.56 5.44l.94 2.06.94-2.06 2.06-.94-2.06-.94-.94-2.06-.94 2.06-2.06.94zm-11 1L8.5 8.5l.94-2.06 2.06-.94-2.06-.94L8.5 2.5l-.94 2.06-2.06.94zm10 10l.94 2.06.94-2.06 2.06-.94-2.06-.94-.94-2.06-.94 2.06-2.06.94z\"/><path d=\"M17.41 7.96l-1.37-1.37c-.4-.4-.92-.59-1.43-.59-.52 0-1.04.2-1.43.59L10.3 9.45l-7.72 7.72c-.78.78-.78 2.05 0 2.83L4 21.41c.39.39.9.59 1.41.59.51 0 1.02-.2 1.41-.59l7.78-7.78 2.81-2.81c.8-.78.8-2.07 0-2.86zM5.41 20L4 18.59l7.72-7.72 1.47 1.35L5.41 20z\"/>\n",
              "  </svg>\n",
              "      </button>\n",
              "      \n",
              "  <style>\n",
              "    .colab-df-container {\n",
              "      display:flex;\n",
              "      flex-wrap:wrap;\n",
              "      gap: 12px;\n",
              "    }\n",
              "\n",
              "    .colab-df-convert {\n",
              "      background-color: #E8F0FE;\n",
              "      border: none;\n",
              "      border-radius: 50%;\n",
              "      cursor: pointer;\n",
              "      display: none;\n",
              "      fill: #1967D2;\n",
              "      height: 32px;\n",
              "      padding: 0 0 0 0;\n",
              "      width: 32px;\n",
              "    }\n",
              "\n",
              "    .colab-df-convert:hover {\n",
              "      background-color: #E2EBFA;\n",
              "      box-shadow: 0px 1px 2px rgba(60, 64, 67, 0.3), 0px 1px 3px 1px rgba(60, 64, 67, 0.15);\n",
              "      fill: #174EA6;\n",
              "    }\n",
              "\n",
              "    [theme=dark] .colab-df-convert {\n",
              "      background-color: #3B4455;\n",
              "      fill: #D2E3FC;\n",
              "    }\n",
              "\n",
              "    [theme=dark] .colab-df-convert:hover {\n",
              "      background-color: #434B5C;\n",
              "      box-shadow: 0px 1px 3px 1px rgba(0, 0, 0, 0.15);\n",
              "      filter: drop-shadow(0px 1px 2px rgba(0, 0, 0, 0.3));\n",
              "      fill: #FFFFFF;\n",
              "    }\n",
              "  </style>\n",
              "\n",
              "      <script>\n",
              "        const buttonEl =\n",
              "          document.querySelector('#df-81336640-b337-4c51-a5b8-304a28e3b632 button.colab-df-convert');\n",
              "        buttonEl.style.display =\n",
              "          google.colab.kernel.accessAllowed ? 'block' : 'none';\n",
              "\n",
              "        async function convertToInteractive(key) {\n",
              "          const element = document.querySelector('#df-81336640-b337-4c51-a5b8-304a28e3b632');\n",
              "          const dataTable =\n",
              "            await google.colab.kernel.invokeFunction('convertToInteractive',\n",
              "                                                     [key], {});\n",
              "          if (!dataTable) return;\n",
              "\n",
              "          const docLinkHtml = 'Like what you see? Visit the ' +\n",
              "            '<a target=\"_blank\" href=https://colab.research.google.com/notebooks/data_table.ipynb>data table notebook</a>'\n",
              "            + ' to learn more about interactive tables.';\n",
              "          element.innerHTML = '';\n",
              "          dataTable['output_type'] = 'display_data';\n",
              "          await google.colab.output.renderOutput(dataTable, element);\n",
              "          const docLink = document.createElement('div');\n",
              "          docLink.innerHTML = docLinkHtml;\n",
              "          element.appendChild(docLink);\n",
              "        }\n",
              "      </script>\n",
              "    </div>\n",
              "  </div>\n",
              "  "
            ]
          },
          "metadata": {},
          "execution_count": 886
        }
      ]
    },
    {
      "cell_type": "code",
      "source": [
        "#create a confusion matrix to identify highly correlated features\n",
        "plt.figure(figsize=(16,14))\n",
        "sns.heatmap(dataLabelled.corr(), cmap='Greens', annot = True)\n",
        "plt.title(\"Correlation Map\", fontweight = \"bold\", fontsize=16)"
      ],
      "metadata": {
        "colab": {
          "base_uri": "https://localhost:8080/",
          "height": 978
        },
        "id": "IGJ9K49ozst0",
        "outputId": "21faa837-54f8-4a41-d8fa-d58c1e044938"
      },
      "execution_count": 887,
      "outputs": [
        {
          "output_type": "execute_result",
          "data": {
            "text/plain": [
              "Text(0.5, 1.0, 'Correlation Map')"
            ]
          },
          "metadata": {},
          "execution_count": 887
        },
        {
          "output_type": "display_data",
          "data": {
            "text/plain": [
              "<Figure size 1152x1008 with 2 Axes>"
            ],
            "image/png": "[encoded data removed]"
          },
          "metadata": {}
        }
      ]
    },
    {
      "cell_type": "code",
      "source": [
        "#define dependent (x) and independent (y) variables\n",
        "x = dataLabelled.drop('diagnosis', axis=1)\n",
        "y = dataLabelled['diagnosis']"
      ],
      "metadata": {
        "id": "KCv-OmO2zuVC"
      },
      "execution_count": 888,
      "outputs": []
    },
    {
      "cell_type": "code",
      "source": [
        "#remove the two highly correlated features identified\n",
        "dataLabelled.drop(columns='uniformity_of_cell_size',inplace=True)\n",
        "dataLabelled.drop(columns='uniformity_of_cell_shape',inplace=True)\n",
        "dataLabelled = dataLabelled.reset_index(drop=True)"
      ],
      "metadata": {
        "id": "pvGdGLh9zwQY"
      },
      "execution_count": 889,
      "outputs": []
    },
    {
      "cell_type": "code",
      "source": [
        "#split the data into training and testing set\n",
        "x_train, x_test, y_train, y_test = train_test_split(x, y, test_size = 0.3, random_state = 42)"
      ],
      "metadata": {
        "id": "lsfSQlbQzw-c"
      },
      "execution_count": 890,
      "outputs": []
    },
    {
      "cell_type": "code",
      "source": [
        "# Scale the features using standardization\n",
        "scaler = StandardScaler() \n",
        "x_train = scaler.fit_transform(x_train) \n",
        "X_test = scaler.transform(x_test) "
      ],
      "metadata": {
        "id": "9sVFcYI6zxAx"
      },
      "execution_count": 891,
      "outputs": []
    },
    {
      "cell_type": "code",
      "source": [
        "#create the object\n",
        "lb = LabelEncoder()\n",
        "y = lb.fit_transform(y)"
      ],
      "metadata": {
        "id": "SCn_RncuzxDD"
      },
      "execution_count": 892,
      "outputs": []
    },
    {
      "cell_type": "code",
      "source": [
        "#create the model\n",
        "def create_model():\n",
        "    model = Sequential()\n",
        "    model.add(Dense(units=30, kernel_initializer='uniform', activation='relu', input_shape=(9,)))\n",
        "    model.add(BatchNormalization())\n",
        "    model.add(Dropout(0.5))\n",
        "    model.add(Dense(units=25, activation='relu'))\n",
        "    model.add(BatchNormalization())\n",
        "    model.add(Dropout(0.5))\n",
        "    model.add(Dense(units=1, activation='sigmoid'))\n",
        "    model.compile(loss='binary_crossentropy', optimizer=Adamax(lr=0.002, beta_1=0.9, beta_2=0.999), metrics=['accuracy'])\n",
        "    return model"
      ],
      "metadata": {
        "id": "wGFk25apzxFn"
      },
      "execution_count": 893,
      "outputs": []
    },
    {
      "cell_type": "code",
      "source": [
        "model = KerasClassifier(build_fn=create_model, epochs=100, batch_size=32, validation_data = (x_test, y_test))"
      ],
      "metadata": {
        "colab": {
          "base_uri": "https://localhost:8080/"
        },
        "id": "8vEXm36fzxIJ",
        "outputId": "fbcba6f9-80db-4c0a-c526-5810931fc4df"
      },
      "execution_count": 894,
      "outputs": [
        {
          "output_type": "stream",
          "name": "stderr",
          "text": [
            "<ipython-input-894-abb8bf45b3a2>:1: DeprecationWarning: KerasClassifier is deprecated, use Sci-Keras (https://github.com/adriangb/scikeras) instead. See https://www.adriangb.com/scikeras/stable/migration.html for help migrating.\n",
            "  model = KerasClassifier(build_fn=create_model, epochs=100, batch_size=32, validation_data = (x_test, y_test))\n"
          ]
        }
      ]
    },
    {
      "cell_type": "code",
      "source": [
        "# Set up early stopping\n",
        "early_stopping = EarlyStopping(monitor='accuracy', mode='max', patience=20)"
      ],
      "metadata": {
        "id": "iN14rBBBzxL9"
      },
      "execution_count": 895,
      "outputs": []
    },
    {
      "cell_type": "code",
      "source": [
        "history = model.fit(x_train, y_train,batch_size = 32, validation_data=(x_test, y_test),epochs = 500,callbacks = [early_stopping])"
      ],
      "metadata": {
        "colab": {
          "base_uri": "https://localhost:8080/"
        },
        "id": "AK_nREGVzxSZ",
        "outputId": "dac05d4a-6678-4875-937c-bb8714a7c7d0"
      },
      "execution_count": 896,
      "outputs": [
        {
          "output_type": "stream",
          "name": "stdout",
          "text": [
            "Epoch 1/500\n"
          ]
        },
        {
          "output_type": "stream",
          "name": "stderr",
          "text": [
            "/usr/local/lib/python3.8/dist-packages/keras/optimizers/optimizer_v2/adamax.py:95: UserWarning: The `lr` argument is deprecated, use `learning_rate` instead.\n",
            "  super(Adamax, self).__init__(name, **kwargs)\n"
          ]
        },
        {
          "output_type": "stream",
          "name": "stdout",
          "text": [
            "15/15 [==============================] - 1s 19ms/step - loss: 0.5112 - accuracy: 0.8013 - val_loss: 0.5835 - val_accuracy: 0.4927\n",
            "Epoch 2/500\n",
            "15/15 [==============================] - 0s 5ms/step - loss: 0.2611 - accuracy: 0.9289 - val_loss: 0.5299 - val_accuracy: 0.7415\n",
            "Epoch 3/500\n",
            "15/15 [==============================] - 0s 5ms/step - loss: 0.2847 - accuracy: 0.9247 - val_loss: 0.4880 - val_accuracy: 0.8634\n",
            "Epoch 4/500\n",
            "15/15 [==============================] - 0s 5ms/step - loss: 0.2044 - accuracy: 0.9372 - val_loss: 0.4587 - val_accuracy: 0.9073\n",
            "Epoch 5/500\n",
            "15/15 [==============================] - 0s 6ms/step - loss: 0.2253 - accuracy: 0.9310 - val_loss: 0.4400 - val_accuracy: 0.9073\n",
            "Epoch 6/500\n",
            "15/15 [==============================] - 0s 5ms/step - loss: 0.1828 - accuracy: 0.9623 - val_loss: 0.4248 - val_accuracy: 0.9073\n",
            "Epoch 7/500\n",
            "15/15 [==============================] - 0s 5ms/step - loss: 0.1932 - accuracy: 0.9351 - val_loss: 0.4190 - val_accuracy: 0.9024\n",
            "Epoch 8/500\n",
            "15/15 [==============================] - 0s 4ms/step - loss: 0.1892 - accuracy: 0.9372 - val_loss: 0.4226 - val_accuracy: 0.8732\n",
            "Epoch 9/500\n",
            "15/15 [==============================] - 0s 4ms/step - loss: 0.1736 - accuracy: 0.9582 - val_loss: 0.4360 - val_accuracy: 0.8439\n",
            "Epoch 10/500\n",
            "15/15 [==============================] - 0s 5ms/step - loss: 0.1491 - accuracy: 0.9582 - val_loss: 0.4583 - val_accuracy: 0.7951\n",
            "Epoch 11/500\n",
            "15/15 [==============================] - 0s 6ms/step - loss: 0.1730 - accuracy: 0.9477 - val_loss: 0.4849 - val_accuracy: 0.7122\n",
            "Epoch 12/500\n",
            "15/15 [==============================] - 0s 5ms/step - loss: 0.1500 - accuracy: 0.9665 - val_loss: 0.5199 - val_accuracy: 0.6390\n",
            "Epoch 13/500\n",
            "15/15 [==============================] - 0s 6ms/step - loss: 0.1927 - accuracy: 0.9540 - val_loss: 0.5590 - val_accuracy: 0.5707\n",
            "Epoch 14/500\n",
            "15/15 [==============================] - 0s 4ms/step - loss: 0.1472 - accuracy: 0.9477 - val_loss: 0.6235 - val_accuracy: 0.5415\n",
            "Epoch 15/500\n",
            "15/15 [==============================] - 0s 5ms/step - loss: 0.1387 - accuracy: 0.9540 - val_loss: 0.7015 - val_accuracy: 0.4732\n",
            "Epoch 16/500\n",
            "15/15 [==============================] - 0s 5ms/step - loss: 0.1306 - accuracy: 0.9582 - val_loss: 0.7935 - val_accuracy: 0.4585\n",
            "Epoch 17/500\n",
            "15/15 [==============================] - 0s 5ms/step - loss: 0.1385 - accuracy: 0.9519 - val_loss: 0.9177 - val_accuracy: 0.4341\n",
            "Epoch 18/500\n",
            "15/15 [==============================] - 0s 4ms/step - loss: 0.1642 - accuracy: 0.9519 - val_loss: 1.0342 - val_accuracy: 0.3805\n",
            "Epoch 19/500\n",
            "15/15 [==============================] - 0s 5ms/step - loss: 0.1302 - accuracy: 0.9623 - val_loss: 1.1690 - val_accuracy: 0.3805\n",
            "Epoch 20/500\n",
            "15/15 [==============================] - 0s 6ms/step - loss: 0.1452 - accuracy: 0.9498 - val_loss: 1.3174 - val_accuracy: 0.3805\n",
            "Epoch 21/500\n",
            "15/15 [==============================] - 0s 5ms/step - loss: 0.1391 - accuracy: 0.9582 - val_loss: 1.4549 - val_accuracy: 0.3805\n",
            "Epoch 22/500\n",
            "15/15 [==============================] - 0s 6ms/step - loss: 0.1505 - accuracy: 0.9561 - val_loss: 1.5878 - val_accuracy: 0.3805\n",
            "Epoch 23/500\n",
            "15/15 [==============================] - 0s 5ms/step - loss: 0.1446 - accuracy: 0.9582 - val_loss: 1.7493 - val_accuracy: 0.3805\n",
            "Epoch 24/500\n",
            "15/15 [==============================] - 0s 4ms/step - loss: 0.1513 - accuracy: 0.9665 - val_loss: 1.9265 - val_accuracy: 0.3805\n",
            "Epoch 25/500\n",
            "15/15 [==============================] - 0s 5ms/step - loss: 0.1363 - accuracy: 0.9623 - val_loss: 2.1006 - val_accuracy: 0.3805\n",
            "Epoch 26/500\n",
            "15/15 [==============================] - 0s 5ms/step - loss: 0.1098 - accuracy: 0.9644 - val_loss: 2.2885 - val_accuracy: 0.3805\n",
            "Epoch 27/500\n",
            "15/15 [==============================] - 0s 4ms/step - loss: 0.1188 - accuracy: 0.9686 - val_loss: 2.4885 - val_accuracy: 0.3805\n",
            "Epoch 28/500\n",
            "15/15 [==============================] - 0s 4ms/step - loss: 0.1293 - accuracy: 0.9582 - val_loss: 2.6828 - val_accuracy: 0.3805\n",
            "Epoch 29/500\n",
            "15/15 [==============================] - 0s 4ms/step - loss: 0.1181 - accuracy: 0.9644 - val_loss: 2.8273 - val_accuracy: 0.3805\n",
            "Epoch 30/500\n",
            "15/15 [==============================] - 0s 7ms/step - loss: 0.1172 - accuracy: 0.9623 - val_loss: 3.0241 - val_accuracy: 0.3805\n",
            "Epoch 31/500\n",
            "15/15 [==============================] - 0s 4ms/step - loss: 0.1317 - accuracy: 0.9582 - val_loss: 3.2340 - val_accuracy: 0.3805\n",
            "Epoch 32/500\n",
            "15/15 [==============================] - 0s 4ms/step - loss: 0.1329 - accuracy: 0.9644 - val_loss: 3.4093 - val_accuracy: 0.3805\n",
            "Epoch 33/500\n",
            "15/15 [==============================] - 0s 4ms/step - loss: 0.1153 - accuracy: 0.9582 - val_loss: 3.5901 - val_accuracy: 0.3805\n",
            "Epoch 34/500\n",
            "15/15 [==============================] - 0s 6ms/step - loss: 0.0934 - accuracy: 0.9707 - val_loss: 3.7977 - val_accuracy: 0.3805\n",
            "Epoch 35/500\n",
            "15/15 [==============================] - 0s 6ms/step - loss: 0.1130 - accuracy: 0.9623 - val_loss: 3.9712 - val_accuracy: 0.3805\n",
            "Epoch 36/500\n",
            "15/15 [==============================] - 0s 5ms/step - loss: 0.1503 - accuracy: 0.9519 - val_loss: 4.1945 - val_accuracy: 0.3805\n",
            "Epoch 37/500\n",
            "15/15 [==============================] - 0s 5ms/step - loss: 0.1154 - accuracy: 0.9623 - val_loss: 4.3850 - val_accuracy: 0.3805\n",
            "Epoch 38/500\n",
            "15/15 [==============================] - 0s 5ms/step - loss: 0.1042 - accuracy: 0.9644 - val_loss: 4.5764 - val_accuracy: 0.3805\n",
            "Epoch 39/500\n",
            "15/15 [==============================] - 0s 5ms/step - loss: 0.1264 - accuracy: 0.9603 - val_loss: 4.6776 - val_accuracy: 0.3805\n",
            "Epoch 40/500\n",
            "15/15 [==============================] - 0s 5ms/step - loss: 0.1284 - accuracy: 0.9623 - val_loss: 4.7913 - val_accuracy: 0.3805\n",
            "Epoch 41/500\n",
            "15/15 [==============================] - 0s 4ms/step - loss: 0.1127 - accuracy: 0.9644 - val_loss: 4.9355 - val_accuracy: 0.3805\n",
            "Epoch 42/500\n",
            "15/15 [==============================] - 0s 5ms/step - loss: 0.0974 - accuracy: 0.9770 - val_loss: 5.0907 - val_accuracy: 0.3805\n",
            "Epoch 43/500\n",
            "15/15 [==============================] - 0s 5ms/step - loss: 0.1130 - accuracy: 0.9707 - val_loss: 5.2154 - val_accuracy: 0.3805\n",
            "Epoch 44/500\n",
            "15/15 [==============================] - 0s 5ms/step - loss: 0.1287 - accuracy: 0.9686 - val_loss: 5.2971 - val_accuracy: 0.3805\n",
            "Epoch 45/500\n",
            "15/15 [==============================] - 0s 5ms/step - loss: 0.1392 - accuracy: 0.9686 - val_loss: 5.4269 - val_accuracy: 0.3805\n",
            "Epoch 46/500\n",
            "15/15 [==============================] - 0s 5ms/step - loss: 0.1201 - accuracy: 0.9728 - val_loss: 5.5462 - val_accuracy: 0.3805\n",
            "Epoch 47/500\n",
            "15/15 [==============================] - 0s 4ms/step - loss: 0.1479 - accuracy: 0.9707 - val_loss: 5.5475 - val_accuracy: 0.3805\n",
            "Epoch 48/500\n",
            "15/15 [==============================] - 0s 4ms/step - loss: 0.0919 - accuracy: 0.9686 - val_loss: 5.5979 - val_accuracy: 0.3805\n",
            "Epoch 49/500\n",
            "15/15 [==============================] - 0s 4ms/step - loss: 0.1160 - accuracy: 0.9603 - val_loss: 5.7086 - val_accuracy: 0.3805\n",
            "Epoch 50/500\n",
            "15/15 [==============================] - 0s 5ms/step - loss: 0.0983 - accuracy: 0.9728 - val_loss: 5.8449 - val_accuracy: 0.3805\n",
            "Epoch 51/500\n",
            "15/15 [==============================] - 0s 6ms/step - loss: 0.1020 - accuracy: 0.9749 - val_loss: 5.9322 - val_accuracy: 0.3805\n",
            "Epoch 52/500\n",
            "15/15 [==============================] - 0s 4ms/step - loss: 0.1005 - accuracy: 0.9623 - val_loss: 5.9958 - val_accuracy: 0.3805\n",
            "Epoch 53/500\n",
            "15/15 [==============================] - 0s 5ms/step - loss: 0.1032 - accuracy: 0.9665 - val_loss: 5.9718 - val_accuracy: 0.3805\n",
            "Epoch 54/500\n",
            "15/15 [==============================] - 0s 4ms/step - loss: 0.0972 - accuracy: 0.9603 - val_loss: 6.0896 - val_accuracy: 0.3805\n",
            "Epoch 55/500\n",
            "15/15 [==============================] - 0s 5ms/step - loss: 0.1000 - accuracy: 0.9665 - val_loss: 6.1912 - val_accuracy: 0.3805\n",
            "Epoch 56/500\n",
            "15/15 [==============================] - 0s 5ms/step - loss: 0.0932 - accuracy: 0.9623 - val_loss: 6.2097 - val_accuracy: 0.3805\n",
            "Epoch 57/500\n",
            "15/15 [==============================] - 0s 5ms/step - loss: 0.1123 - accuracy: 0.9665 - val_loss: 6.2173 - val_accuracy: 0.3805\n",
            "Epoch 58/500\n",
            "15/15 [==============================] - 0s 6ms/step - loss: 0.1243 - accuracy: 0.9665 - val_loss: 6.2558 - val_accuracy: 0.3805\n",
            "Epoch 59/500\n",
            "15/15 [==============================] - 0s 6ms/step - loss: 0.1042 - accuracy: 0.9686 - val_loss: 6.3805 - val_accuracy: 0.3805\n",
            "Epoch 60/500\n",
            "15/15 [==============================] - 0s 5ms/step - loss: 0.1027 - accuracy: 0.9707 - val_loss: 6.3232 - val_accuracy: 0.3805\n",
            "Epoch 61/500\n",
            "15/15 [==============================] - 0s 4ms/step - loss: 0.1280 - accuracy: 0.9623 - val_loss: 6.2816 - val_accuracy: 0.3805\n",
            "Epoch 62/500\n",
            "15/15 [==============================] - 0s 5ms/step - loss: 0.0988 - accuracy: 0.9623 - val_loss: 6.3009 - val_accuracy: 0.3805\n"
          ]
        }
      ]
    },
    {
      "cell_type": "code",
      "source": [
        "metrics = ('accuracy', 'roc_auc', 'precision', 'recall')\n",
        "# Use cross_validation to perform 4-fold cross-validation\n",
        "scores = cross_validate(model, x, y, cv=4, scoring=metrics)"
      ],
      "metadata": {
        "colab": {
          "base_uri": "https://localhost:8080/"
        },
        "id": "bETTB316zxXM",
        "outputId": "10c58eeb-fd0a-475b-9696-b2663a8af3a1"
      },
      "execution_count": 897,
      "outputs": [
        {
          "output_type": "stream",
          "name": "stdout",
          "text": [
            "Epoch 1/100\n"
          ]
        },
        {
          "output_type": "stream",
          "name": "stderr",
          "text": [
            "/usr/local/lib/python3.8/dist-packages/keras/optimizers/optimizer_v2/adamax.py:95: UserWarning: The `lr` argument is deprecated, use `learning_rate` instead.\n",
            "  super(Adamax, self).__init__(name, **kwargs)\n"
          ]
        },
        {
          "output_type": "stream",
          "name": "stdout",
          "text": [
            "16/16 [==============================] - 1s 17ms/step - loss: 0.6618 - accuracy: 0.6895 - val_loss: 0.5881 - val_accuracy: 0.7024\n",
            "Epoch 2/100\n",
            "16/16 [==============================] - 0s 5ms/step - loss: 0.4468 - accuracy: 0.8027 - val_loss: 0.5166 - val_accuracy: 0.8585\n",
            "Epoch 3/100\n",
            "16/16 [==============================] - 0s 5ms/step - loss: 0.3524 - accuracy: 0.8594 - val_loss: 0.4519 - val_accuracy: 0.9366\n",
            "Epoch 4/100\n",
            "16/16 [==============================] - 0s 4ms/step - loss: 0.2735 - accuracy: 0.8965 - val_loss: 0.3955 - val_accuracy: 0.9707\n",
            "Epoch 5/100\n",
            "16/16 [==============================] - 0s 4ms/step - loss: 0.2498 - accuracy: 0.9121 - val_loss: 0.3457 - val_accuracy: 0.9756\n",
            "Epoch 6/100\n",
            "16/16 [==============================] - 0s 4ms/step - loss: 0.2513 - accuracy: 0.9258 - val_loss: 0.3034 - val_accuracy: 0.9756\n",
            "Epoch 7/100\n",
            "16/16 [==============================] - 0s 5ms/step - loss: 0.2251 - accuracy: 0.9355 - val_loss: 0.2711 - val_accuracy: 0.9756\n",
            "Epoch 8/100\n",
            "16/16 [==============================] - 0s 4ms/step - loss: 0.2128 - accuracy: 0.9336 - val_loss: 0.2368 - val_accuracy: 0.9756\n",
            "Epoch 9/100\n",
            "16/16 [==============================] - 0s 4ms/step - loss: 0.1769 - accuracy: 0.9512 - val_loss: 0.2087 - val_accuracy: 0.9805\n",
            "Epoch 10/100\n",
            "16/16 [==============================] - 0s 5ms/step - loss: 0.1956 - accuracy: 0.9355 - val_loss: 0.1846 - val_accuracy: 0.9805\n",
            "Epoch 11/100\n",
            "16/16 [==============================] - 0s 4ms/step - loss: 0.2005 - accuracy: 0.9512 - val_loss: 0.1680 - val_accuracy: 0.9805\n",
            "Epoch 12/100\n",
            "16/16 [==============================] - 1s 45ms/step - loss: 0.2087 - accuracy: 0.9414 - val_loss: 0.1547 - val_accuracy: 0.9805\n",
            "Epoch 13/100\n",
            "16/16 [==============================] - 0s 4ms/step - loss: 0.1717 - accuracy: 0.9473 - val_loss: 0.1408 - val_accuracy: 0.9805\n",
            "Epoch 14/100\n",
            "16/16 [==============================] - 0s 4ms/step - loss: 0.1625 - accuracy: 0.9531 - val_loss: 0.1305 - val_accuracy: 0.9805\n",
            "Epoch 15/100\n",
            "16/16 [==============================] - 0s 4ms/step - loss: 0.1527 - accuracy: 0.9629 - val_loss: 0.1209 - val_accuracy: 0.9805\n",
            "Epoch 16/100\n",
            "16/16 [==============================] - 0s 4ms/step - loss: 0.1535 - accuracy: 0.9551 - val_loss: 0.1142 - val_accuracy: 0.9805\n",
            "Epoch 17/100\n",
            "16/16 [==============================] - 0s 4ms/step - loss: 0.1321 - accuracy: 0.9590 - val_loss: 0.1088 - val_accuracy: 0.9756\n",
            "Epoch 18/100\n",
            "16/16 [==============================] - 0s 4ms/step - loss: 0.1457 - accuracy: 0.9648 - val_loss: 0.1059 - val_accuracy: 0.9756\n",
            "Epoch 19/100\n",
            "16/16 [==============================] - 0s 4ms/step - loss: 0.1688 - accuracy: 0.9551 - val_loss: 0.1026 - val_accuracy: 0.9707\n",
            "Epoch 20/100\n",
            "16/16 [==============================] - 0s 5ms/step - loss: 0.1576 - accuracy: 0.9590 - val_loss: 0.1000 - val_accuracy: 0.9707\n",
            "Epoch 21/100\n",
            "16/16 [==============================] - 0s 4ms/step - loss: 0.1625 - accuracy: 0.9492 - val_loss: 0.0980 - val_accuracy: 0.9707\n",
            "Epoch 22/100\n",
            "16/16 [==============================] - 0s 4ms/step - loss: 0.1406 - accuracy: 0.9668 - val_loss: 0.0963 - val_accuracy: 0.9659\n",
            "Epoch 23/100\n",
            "16/16 [==============================] - 0s 5ms/step - loss: 0.1271 - accuracy: 0.9648 - val_loss: 0.0935 - val_accuracy: 0.9707\n",
            "Epoch 24/100\n",
            "16/16 [==============================] - 0s 4ms/step - loss: 0.1329 - accuracy: 0.9570 - val_loss: 0.0924 - val_accuracy: 0.9707\n",
            "Epoch 25/100\n",
            "16/16 [==============================] - 0s 5ms/step - loss: 0.1337 - accuracy: 0.9648 - val_loss: 0.0904 - val_accuracy: 0.9756\n",
            "Epoch 26/100\n",
            "16/16 [==============================] - 0s 5ms/step - loss: 0.1251 - accuracy: 0.9629 - val_loss: 0.0909 - val_accuracy: 0.9659\n",
            "Epoch 27/100\n",
            "16/16 [==============================] - 0s 5ms/step - loss: 0.1324 - accuracy: 0.9434 - val_loss: 0.0917 - val_accuracy: 0.9659\n",
            "Epoch 28/100\n",
            "16/16 [==============================] - 0s 4ms/step - loss: 0.1326 - accuracy: 0.9570 - val_loss: 0.0899 - val_accuracy: 0.9659\n",
            "Epoch 29/100\n",
            "16/16 [==============================] - 0s 4ms/step - loss: 0.1203 - accuracy: 0.9629 - val_loss: 0.0904 - val_accuracy: 0.9659\n",
            "Epoch 30/100\n",
            "16/16 [==============================] - 0s 4ms/step - loss: 0.1472 - accuracy: 0.9609 - val_loss: 0.0911 - val_accuracy: 0.9659\n",
            "Epoch 31/100\n",
            "16/16 [==============================] - 0s 5ms/step - loss: 0.1385 - accuracy: 0.9688 - val_loss: 0.0932 - val_accuracy: 0.9659\n",
            "Epoch 32/100\n",
            "16/16 [==============================] - 0s 4ms/step - loss: 0.1216 - accuracy: 0.9570 - val_loss: 0.0983 - val_accuracy: 0.9561\n",
            "Epoch 33/100\n",
            "16/16 [==============================] - 0s 6ms/step - loss: 0.1154 - accuracy: 0.9570 - val_loss: 0.1003 - val_accuracy: 0.9512\n",
            "Epoch 34/100\n",
            "16/16 [==============================] - 0s 4ms/step - loss: 0.1440 - accuracy: 0.9492 - val_loss: 0.0975 - val_accuracy: 0.9659\n",
            "Epoch 35/100\n",
            "16/16 [==============================] - 0s 5ms/step - loss: 0.1422 - accuracy: 0.9531 - val_loss: 0.0992 - val_accuracy: 0.9561\n",
            "Epoch 36/100\n",
            "16/16 [==============================] - 0s 5ms/step - loss: 0.1182 - accuracy: 0.9648 - val_loss: 0.0986 - val_accuracy: 0.9610\n",
            "Epoch 37/100\n",
            "16/16 [==============================] - 0s 5ms/step - loss: 0.1261 - accuracy: 0.9707 - val_loss: 0.0974 - val_accuracy: 0.9610\n",
            "Epoch 38/100\n",
            "16/16 [==============================] - 0s 5ms/step - loss: 0.1262 - accuracy: 0.9609 - val_loss: 0.0983 - val_accuracy: 0.9561\n",
            "Epoch 39/100\n",
            "16/16 [==============================] - 0s 5ms/step - loss: 0.1017 - accuracy: 0.9668 - val_loss: 0.0972 - val_accuracy: 0.9561\n",
            "Epoch 40/100\n",
            "16/16 [==============================] - 0s 5ms/step - loss: 0.1123 - accuracy: 0.9590 - val_loss: 0.0972 - val_accuracy: 0.9610\n",
            "Epoch 41/100\n",
            "16/16 [==============================] - 0s 4ms/step - loss: 0.1966 - accuracy: 0.9531 - val_loss: 0.0954 - val_accuracy: 0.9659\n",
            "Epoch 42/100\n",
            "16/16 [==============================] - 0s 5ms/step - loss: 0.1184 - accuracy: 0.9766 - val_loss: 0.0982 - val_accuracy: 0.9610\n",
            "Epoch 43/100\n",
            "16/16 [==============================] - 0s 5ms/step - loss: 0.1032 - accuracy: 0.9688 - val_loss: 0.1039 - val_accuracy: 0.9561\n",
            "Epoch 44/100\n",
            "16/16 [==============================] - 0s 4ms/step - loss: 0.1366 - accuracy: 0.9570 - val_loss: 0.0990 - val_accuracy: 0.9610\n",
            "Epoch 45/100\n",
            "16/16 [==============================] - 0s 4ms/step - loss: 0.1449 - accuracy: 0.9551 - val_loss: 0.0939 - val_accuracy: 0.9659\n",
            "Epoch 46/100\n",
            "16/16 [==============================] - 0s 5ms/step - loss: 0.1267 - accuracy: 0.9648 - val_loss: 0.0980 - val_accuracy: 0.9610\n",
            "Epoch 47/100\n",
            "16/16 [==============================] - 0s 5ms/step - loss: 0.1025 - accuracy: 0.9688 - val_loss: 0.0983 - val_accuracy: 0.9610\n",
            "Epoch 48/100\n",
            "16/16 [==============================] - 0s 6ms/step - loss: 0.1051 - accuracy: 0.9688 - val_loss: 0.1002 - val_accuracy: 0.9610\n",
            "Epoch 49/100\n",
            "16/16 [==============================] - 0s 5ms/step - loss: 0.1043 - accuracy: 0.9707 - val_loss: 0.1040 - val_accuracy: 0.9561\n",
            "Epoch 50/100\n",
            "16/16 [==============================] - 0s 5ms/step - loss: 0.1076 - accuracy: 0.9746 - val_loss: 0.1065 - val_accuracy: 0.9561\n",
            "Epoch 51/100\n",
            "16/16 [==============================] - 0s 4ms/step - loss: 0.1176 - accuracy: 0.9648 - val_loss: 0.1031 - val_accuracy: 0.9561\n",
            "Epoch 52/100\n",
            "16/16 [==============================] - 0s 5ms/step - loss: 0.0935 - accuracy: 0.9707 - val_loss: 0.0980 - val_accuracy: 0.9659\n",
            "Epoch 53/100\n",
            "16/16 [==============================] - 0s 4ms/step - loss: 0.1209 - accuracy: 0.9492 - val_loss: 0.1008 - val_accuracy: 0.9610\n",
            "Epoch 54/100\n",
            "16/16 [==============================] - 0s 4ms/step - loss: 0.1091 - accuracy: 0.9629 - val_loss: 0.1020 - val_accuracy: 0.9512\n",
            "Epoch 55/100\n",
            "16/16 [==============================] - 0s 5ms/step - loss: 0.0975 - accuracy: 0.9707 - val_loss: 0.1032 - val_accuracy: 0.9512\n",
            "Epoch 56/100\n",
            "16/16 [==============================] - 0s 4ms/step - loss: 0.1091 - accuracy: 0.9648 - val_loss: 0.1057 - val_accuracy: 0.9512\n",
            "Epoch 57/100\n",
            "16/16 [==============================] - 0s 5ms/step - loss: 0.1133 - accuracy: 0.9688 - val_loss: 0.1077 - val_accuracy: 0.9463\n",
            "Epoch 58/100\n",
            "16/16 [==============================] - 0s 4ms/step - loss: 0.1343 - accuracy: 0.9551 - val_loss: 0.1117 - val_accuracy: 0.9463\n",
            "Epoch 59/100\n",
            "16/16 [==============================] - 0s 5ms/step - loss: 0.1014 - accuracy: 0.9668 - val_loss: 0.0981 - val_accuracy: 0.9561\n",
            "Epoch 60/100\n",
            "16/16 [==============================] - 0s 5ms/step - loss: 0.1138 - accuracy: 0.9727 - val_loss: 0.0999 - val_accuracy: 0.9610\n",
            "Epoch 61/100\n",
            "16/16 [==============================] - 0s 5ms/step - loss: 0.1000 - accuracy: 0.9648 - val_loss: 0.1014 - val_accuracy: 0.9610\n",
            "Epoch 62/100\n",
            "16/16 [==============================] - 0s 6ms/step - loss: 0.1300 - accuracy: 0.9629 - val_loss: 0.1055 - val_accuracy: 0.9561\n",
            "Epoch 63/100\n",
            "16/16 [==============================] - 0s 5ms/step - loss: 0.0849 - accuracy: 0.9707 - val_loss: 0.1109 - val_accuracy: 0.9463\n",
            "Epoch 64/100\n",
            "16/16 [==============================] - 0s 4ms/step - loss: 0.1137 - accuracy: 0.9590 - val_loss: 0.1080 - val_accuracy: 0.9561\n",
            "Epoch 65/100\n",
            "16/16 [==============================] - 0s 4ms/step - loss: 0.1009 - accuracy: 0.9707 - val_loss: 0.1023 - val_accuracy: 0.9610\n",
            "Epoch 66/100\n",
            "16/16 [==============================] - 0s 4ms/step - loss: 0.1041 - accuracy: 0.9668 - val_loss: 0.1006 - val_accuracy: 0.9610\n",
            "Epoch 67/100\n",
            "16/16 [==============================] - 0s 5ms/step - loss: 0.1215 - accuracy: 0.9629 - val_loss: 0.0958 - val_accuracy: 0.9610\n",
            "Epoch 68/100\n",
            "16/16 [==============================] - 0s 4ms/step - loss: 0.1452 - accuracy: 0.9609 - val_loss: 0.0979 - val_accuracy: 0.9610\n",
            "Epoch 69/100\n",
            "16/16 [==============================] - 0s 4ms/step - loss: 0.0923 - accuracy: 0.9746 - val_loss: 0.1012 - val_accuracy: 0.9561\n",
            "Epoch 70/100\n",
            "16/16 [==============================] - 0s 5ms/step - loss: 0.0786 - accuracy: 0.9766 - val_loss: 0.0985 - val_accuracy: 0.9561\n",
            "Epoch 71/100\n",
            "16/16 [==============================] - 0s 5ms/step - loss: 0.1159 - accuracy: 0.9688 - val_loss: 0.1018 - val_accuracy: 0.9561\n",
            "Epoch 72/100\n",
            "16/16 [==============================] - 0s 6ms/step - loss: 0.1331 - accuracy: 0.9707 - val_loss: 0.1003 - val_accuracy: 0.9610\n",
            "Epoch 73/100\n",
            "16/16 [==============================] - 0s 5ms/step - loss: 0.1097 - accuracy: 0.9727 - val_loss: 0.1018 - val_accuracy: 0.9561\n",
            "Epoch 74/100\n",
            "16/16 [==============================] - 0s 5ms/step - loss: 0.1030 - accuracy: 0.9707 - val_loss: 0.1051 - val_accuracy: 0.9561\n",
            "Epoch 75/100\n",
            "16/16 [==============================] - 0s 5ms/step - loss: 0.1249 - accuracy: 0.9570 - val_loss: 0.1107 - val_accuracy: 0.9512\n",
            "Epoch 76/100\n",
            "16/16 [==============================] - 0s 5ms/step - loss: 0.1271 - accuracy: 0.9727 - val_loss: 0.1069 - val_accuracy: 0.9561\n",
            "Epoch 77/100\n",
            "16/16 [==============================] - 0s 5ms/step - loss: 0.1420 - accuracy: 0.9609 - val_loss: 0.0989 - val_accuracy: 0.9659\n",
            "Epoch 78/100\n",
            "16/16 [==============================] - 0s 4ms/step - loss: 0.1321 - accuracy: 0.9629 - val_loss: 0.0960 - val_accuracy: 0.9659\n",
            "Epoch 79/100\n",
            "16/16 [==============================] - 0s 4ms/step - loss: 0.0927 - accuracy: 0.9746 - val_loss: 0.0981 - val_accuracy: 0.9659\n",
            "Epoch 80/100\n",
            "16/16 [==============================] - 0s 4ms/step - loss: 0.1137 - accuracy: 0.9766 - val_loss: 0.1026 - val_accuracy: 0.9610\n",
            "Epoch 81/100\n",
            "16/16 [==============================] - 0s 4ms/step - loss: 0.1136 - accuracy: 0.9648 - val_loss: 0.1100 - val_accuracy: 0.9512\n",
            "Epoch 82/100\n",
            "16/16 [==============================] - 0s 4ms/step - loss: 0.1232 - accuracy: 0.9668 - val_loss: 0.1010 - val_accuracy: 0.9561\n",
            "Epoch 83/100\n",
            "16/16 [==============================] - 0s 4ms/step - loss: 0.0970 - accuracy: 0.9629 - val_loss: 0.1006 - val_accuracy: 0.9561\n",
            "Epoch 84/100\n",
            "16/16 [==============================] - 0s 4ms/step - loss: 0.0756 - accuracy: 0.9824 - val_loss: 0.1049 - val_accuracy: 0.9561\n",
            "Epoch 85/100\n",
            "16/16 [==============================] - 0s 6ms/step - loss: 0.0867 - accuracy: 0.9746 - val_loss: 0.1018 - val_accuracy: 0.9659\n",
            "Epoch 86/100\n",
            "16/16 [==============================] - 0s 4ms/step - loss: 0.1071 - accuracy: 0.9629 - val_loss: 0.1068 - val_accuracy: 0.9610\n",
            "Epoch 87/100\n",
            "16/16 [==============================] - 0s 4ms/step - loss: 0.1335 - accuracy: 0.9629 - val_loss: 0.1049 - val_accuracy: 0.9610\n",
            "Epoch 88/100\n",
            "16/16 [==============================] - 0s 5ms/step - loss: 0.1266 - accuracy: 0.9668 - val_loss: 0.1060 - val_accuracy: 0.9561\n",
            "Epoch 89/100\n",
            "16/16 [==============================] - 0s 4ms/step - loss: 0.1008 - accuracy: 0.9668 - val_loss: 0.1010 - val_accuracy: 0.9561\n",
            "Epoch 90/100\n",
            "16/16 [==============================] - 0s 4ms/step - loss: 0.1508 - accuracy: 0.9453 - val_loss: 0.0966 - val_accuracy: 0.9610\n",
            "Epoch 91/100\n",
            "16/16 [==============================] - 0s 5ms/step - loss: 0.1099 - accuracy: 0.9668 - val_loss: 0.0935 - val_accuracy: 0.9561\n",
            "Epoch 92/100\n",
            "16/16 [==============================] - 0s 5ms/step - loss: 0.1374 - accuracy: 0.9648 - val_loss: 0.1031 - val_accuracy: 0.9561\n",
            "Epoch 93/100\n",
            "16/16 [==============================] - 0s 4ms/step - loss: 0.1201 - accuracy: 0.9688 - val_loss: 0.1081 - val_accuracy: 0.9512\n",
            "Epoch 94/100\n",
            "16/16 [==============================] - 0s 5ms/step - loss: 0.1337 - accuracy: 0.9668 - val_loss: 0.1075 - val_accuracy: 0.9512\n",
            "Epoch 95/100\n",
            "16/16 [==============================] - 0s 4ms/step - loss: 0.1105 - accuracy: 0.9590 - val_loss: 0.1036 - val_accuracy: 0.9512\n",
            "Epoch 96/100\n",
            "16/16 [==============================] - 0s 4ms/step - loss: 0.1489 - accuracy: 0.9531 - val_loss: 0.1076 - val_accuracy: 0.9512\n",
            "Epoch 97/100\n",
            "16/16 [==============================] - 0s 5ms/step - loss: 0.0958 - accuracy: 0.9590 - val_loss: 0.1074 - val_accuracy: 0.9512\n",
            "Epoch 98/100\n",
            "16/16 [==============================] - 0s 6ms/step - loss: 0.0949 - accuracy: 0.9727 - val_loss: 0.1104 - val_accuracy: 0.9512\n",
            "Epoch 99/100\n",
            "16/16 [==============================] - 0s 5ms/step - loss: 0.0900 - accuracy: 0.9746 - val_loss: 0.1167 - val_accuracy: 0.9512\n",
            "Epoch 100/100\n",
            "16/16 [==============================] - 0s 6ms/step - loss: 0.0972 - accuracy: 0.9727 - val_loss: 0.1161 - val_accuracy: 0.9512\n",
            "6/6 [==============================] - 0s 2ms/step\n",
            "6/6 [==============================] - 0s 2ms/step\n",
            "Epoch 1/100\n"
          ]
        },
        {
          "output_type": "stream",
          "name": "stderr",
          "text": [
            "/usr/local/lib/python3.8/dist-packages/keras/optimizers/optimizer_v2/adamax.py:95: UserWarning: The `lr` argument is deprecated, use `learning_rate` instead.\n",
            "  super(Adamax, self).__init__(name, **kwargs)\n"
          ]
        },
        {
          "output_type": "stream",
          "name": "stdout",
          "text": [
            "16/16 [==============================] - 1s 16ms/step - loss: 0.6926 - accuracy: 0.6387 - val_loss: 0.6130 - val_accuracy: 0.8146\n",
            "Epoch 2/100\n",
            "16/16 [==============================] - 0s 5ms/step - loss: 0.5242 - accuracy: 0.7656 - val_loss: 0.5588 - val_accuracy: 0.9073\n",
            "Epoch 3/100\n",
            "16/16 [==============================] - 0s 4ms/step - loss: 0.3936 - accuracy: 0.8496 - val_loss: 0.5084 - val_accuracy: 0.9268\n",
            "Epoch 4/100\n",
            "16/16 [==============================] - 0s 4ms/step - loss: 0.3402 - accuracy: 0.8594 - val_loss: 0.4611 - val_accuracy: 0.9317\n",
            "Epoch 5/100\n",
            "16/16 [==============================] - 0s 4ms/step - loss: 0.2729 - accuracy: 0.9141 - val_loss: 0.4152 - val_accuracy: 0.9366\n",
            "Epoch 6/100\n",
            "16/16 [==============================] - 0s 5ms/step - loss: 0.2416 - accuracy: 0.9258 - val_loss: 0.3681 - val_accuracy: 0.9512\n",
            "Epoch 7/100\n",
            "16/16 [==============================] - 0s 5ms/step - loss: 0.2306 - accuracy: 0.9336 - val_loss: 0.3264 - val_accuracy: 0.9756\n",
            "Epoch 8/100\n",
            "16/16 [==============================] - 0s 5ms/step - loss: 0.2199 - accuracy: 0.9316 - val_loss: 0.2918 - val_accuracy: 0.9756\n",
            "Epoch 9/100\n",
            "16/16 [==============================] - 0s 5ms/step - loss: 0.2537 - accuracy: 0.9219 - val_loss: 0.2608 - val_accuracy: 0.9805\n",
            "Epoch 10/100\n",
            "16/16 [==============================] - 0s 5ms/step - loss: 0.1861 - accuracy: 0.9434 - val_loss: 0.2321 - val_accuracy: 0.9805\n",
            "Epoch 11/100\n",
            "16/16 [==============================] - 0s 4ms/step - loss: 0.1818 - accuracy: 0.9434 - val_loss: 0.2105 - val_accuracy: 0.9805\n",
            "Epoch 12/100\n",
            "16/16 [==============================] - 0s 5ms/step - loss: 0.1894 - accuracy: 0.9355 - val_loss: 0.1889 - val_accuracy: 0.9805\n",
            "Epoch 13/100\n",
            "16/16 [==============================] - 0s 5ms/step - loss: 0.1707 - accuracy: 0.9434 - val_loss: 0.1697 - val_accuracy: 0.9805\n",
            "Epoch 14/100\n",
            "16/16 [==============================] - 0s 4ms/step - loss: 0.1961 - accuracy: 0.9414 - val_loss: 0.1493 - val_accuracy: 0.9854\n",
            "Epoch 15/100\n",
            "16/16 [==============================] - 0s 4ms/step - loss: 0.1637 - accuracy: 0.9570 - val_loss: 0.1323 - val_accuracy: 0.9854\n",
            "Epoch 16/100\n",
            "16/16 [==============================] - 0s 4ms/step - loss: 0.1458 - accuracy: 0.9609 - val_loss: 0.1169 - val_accuracy: 0.9854\n",
            "Epoch 17/100\n",
            "16/16 [==============================] - 0s 4ms/step - loss: 0.1481 - accuracy: 0.9668 - val_loss: 0.1055 - val_accuracy: 0.9854\n",
            "Epoch 18/100\n",
            "16/16 [==============================] - 0s 4ms/step - loss: 0.1683 - accuracy: 0.9531 - val_loss: 0.0984 - val_accuracy: 0.9854\n",
            "Epoch 19/100\n",
            "16/16 [==============================] - 0s 4ms/step - loss: 0.1320 - accuracy: 0.9746 - val_loss: 0.0936 - val_accuracy: 0.9854\n",
            "Epoch 20/100\n",
            "16/16 [==============================] - 0s 4ms/step - loss: 0.1109 - accuracy: 0.9688 - val_loss: 0.0885 - val_accuracy: 0.9854\n",
            "Epoch 21/100\n",
            "16/16 [==============================] - 0s 5ms/step - loss: 0.1195 - accuracy: 0.9609 - val_loss: 0.0832 - val_accuracy: 0.9854\n",
            "Epoch 22/100\n",
            "16/16 [==============================] - 0s 5ms/step - loss: 0.1459 - accuracy: 0.9551 - val_loss: 0.0785 - val_accuracy: 0.9854\n",
            "Epoch 23/100\n",
            "16/16 [==============================] - 0s 5ms/step - loss: 0.1391 - accuracy: 0.9590 - val_loss: 0.0767 - val_accuracy: 0.9854\n",
            "Epoch 24/100\n",
            "16/16 [==============================] - 0s 4ms/step - loss: 0.1173 - accuracy: 0.9727 - val_loss: 0.0746 - val_accuracy: 0.9854\n",
            "Epoch 25/100\n",
            "16/16 [==============================] - 0s 4ms/step - loss: 0.1404 - accuracy: 0.9531 - val_loss: 0.0717 - val_accuracy: 0.9854\n",
            "Epoch 26/100\n",
            "16/16 [==============================] - 0s 4ms/step - loss: 0.1176 - accuracy: 0.9648 - val_loss: 0.0701 - val_accuracy: 0.9854\n",
            "Epoch 27/100\n",
            "16/16 [==============================] - 0s 5ms/step - loss: 0.1226 - accuracy: 0.9668 - val_loss: 0.0688 - val_accuracy: 0.9854\n",
            "Epoch 28/100\n",
            "16/16 [==============================] - 0s 4ms/step - loss: 0.0911 - accuracy: 0.9727 - val_loss: 0.0677 - val_accuracy: 0.9854\n",
            "Epoch 29/100\n",
            "16/16 [==============================] - 0s 6ms/step - loss: 0.1058 - accuracy: 0.9707 - val_loss: 0.0679 - val_accuracy: 0.9854\n",
            "Epoch 30/100\n",
            "16/16 [==============================] - 0s 4ms/step - loss: 0.1086 - accuracy: 0.9688 - val_loss: 0.0673 - val_accuracy: 0.9805\n",
            "Epoch 31/100\n",
            "16/16 [==============================] - 0s 5ms/step - loss: 0.1172 - accuracy: 0.9609 - val_loss: 0.0666 - val_accuracy: 0.9854\n",
            "Epoch 32/100\n",
            "16/16 [==============================] - 0s 4ms/step - loss: 0.1065 - accuracy: 0.9688 - val_loss: 0.0659 - val_accuracy: 0.9854\n",
            "Epoch 33/100\n",
            "16/16 [==============================] - 0s 4ms/step - loss: 0.0995 - accuracy: 0.9688 - val_loss: 0.0654 - val_accuracy: 0.9854\n",
            "Epoch 34/100\n",
            "16/16 [==============================] - 0s 4ms/step - loss: 0.1743 - accuracy: 0.9531 - val_loss: 0.0650 - val_accuracy: 0.9854\n",
            "Epoch 35/100\n",
            "16/16 [==============================] - 0s 4ms/step - loss: 0.1269 - accuracy: 0.9570 - val_loss: 0.0642 - val_accuracy: 0.9854\n",
            "Epoch 36/100\n",
            "16/16 [==============================] - 0s 5ms/step - loss: 0.1277 - accuracy: 0.9609 - val_loss: 0.0639 - val_accuracy: 0.9854\n",
            "Epoch 37/100\n",
            "16/16 [==============================] - 0s 5ms/step - loss: 0.1090 - accuracy: 0.9648 - val_loss: 0.0633 - val_accuracy: 0.9854\n",
            "Epoch 38/100\n",
            "16/16 [==============================] - 0s 4ms/step - loss: 0.0760 - accuracy: 0.9766 - val_loss: 0.0628 - val_accuracy: 0.9854\n",
            "Epoch 39/100\n",
            "16/16 [==============================] - 0s 4ms/step - loss: 0.1149 - accuracy: 0.9668 - val_loss: 0.0626 - val_accuracy: 0.9854\n",
            "Epoch 40/100\n",
            "16/16 [==============================] - 0s 5ms/step - loss: 0.0945 - accuracy: 0.9707 - val_loss: 0.0638 - val_accuracy: 0.9854\n",
            "Epoch 41/100\n",
            "16/16 [==============================] - 0s 4ms/step - loss: 0.1281 - accuracy: 0.9727 - val_loss: 0.0638 - val_accuracy: 0.9854\n",
            "Epoch 42/100\n",
            "16/16 [==============================] - 0s 4ms/step - loss: 0.1168 - accuracy: 0.9688 - val_loss: 0.0640 - val_accuracy: 0.9854\n",
            "Epoch 43/100\n",
            "16/16 [==============================] - 0s 4ms/step - loss: 0.0781 - accuracy: 0.9844 - val_loss: 0.0637 - val_accuracy: 0.9854\n",
            "Epoch 44/100\n",
            "16/16 [==============================] - 0s 4ms/step - loss: 0.1331 - accuracy: 0.9590 - val_loss: 0.0650 - val_accuracy: 0.9854\n",
            "Epoch 45/100\n",
            "16/16 [==============================] - 0s 5ms/step - loss: 0.0980 - accuracy: 0.9688 - val_loss: 0.0647 - val_accuracy: 0.9854\n",
            "Epoch 46/100\n",
            "16/16 [==============================] - 0s 4ms/step - loss: 0.1028 - accuracy: 0.9805 - val_loss: 0.0642 - val_accuracy: 0.9854\n",
            "Epoch 47/100\n",
            "16/16 [==============================] - 0s 4ms/step - loss: 0.1156 - accuracy: 0.9590 - val_loss: 0.0660 - val_accuracy: 0.9805\n",
            "Epoch 48/100\n",
            "16/16 [==============================] - 0s 4ms/step - loss: 0.0790 - accuracy: 0.9746 - val_loss: 0.0640 - val_accuracy: 0.9854\n",
            "Epoch 49/100\n",
            "16/16 [==============================] - 0s 4ms/step - loss: 0.1017 - accuracy: 0.9688 - val_loss: 0.0641 - val_accuracy: 0.9854\n",
            "Epoch 50/100\n",
            "16/16 [==============================] - 0s 5ms/step - loss: 0.0665 - accuracy: 0.9766 - val_loss: 0.0638 - val_accuracy: 0.9854\n",
            "Epoch 51/100\n",
            "16/16 [==============================] - 0s 4ms/step - loss: 0.1063 - accuracy: 0.9727 - val_loss: 0.0656 - val_accuracy: 0.9805\n",
            "Epoch 52/100\n",
            "16/16 [==============================] - 0s 4ms/step - loss: 0.1076 - accuracy: 0.9629 - val_loss: 0.0665 - val_accuracy: 0.9805\n",
            "Epoch 53/100\n",
            "16/16 [==============================] - 0s 5ms/step - loss: 0.1123 - accuracy: 0.9746 - val_loss: 0.0662 - val_accuracy: 0.9805\n",
            "Epoch 54/100\n",
            "16/16 [==============================] - 0s 6ms/step - loss: 0.1255 - accuracy: 0.9590 - val_loss: 0.0663 - val_accuracy: 0.9854\n",
            "Epoch 55/100\n",
            "16/16 [==============================] - 0s 4ms/step - loss: 0.1151 - accuracy: 0.9668 - val_loss: 0.0691 - val_accuracy: 0.9805\n",
            "Epoch 56/100\n",
            "16/16 [==============================] - 0s 5ms/step - loss: 0.1051 - accuracy: 0.9648 - val_loss: 0.0660 - val_accuracy: 0.9854\n",
            "Epoch 57/100\n",
            "16/16 [==============================] - 0s 4ms/step - loss: 0.0855 - accuracy: 0.9629 - val_loss: 0.0638 - val_accuracy: 0.9854\n",
            "Epoch 58/100\n",
            "16/16 [==============================] - 0s 5ms/step - loss: 0.0799 - accuracy: 0.9668 - val_loss: 0.0613 - val_accuracy: 0.9854\n",
            "Epoch 59/100\n",
            "16/16 [==============================] - 0s 4ms/step - loss: 0.1066 - accuracy: 0.9590 - val_loss: 0.0617 - val_accuracy: 0.9805\n",
            "Epoch 60/100\n",
            "16/16 [==============================] - 0s 5ms/step - loss: 0.0706 - accuracy: 0.9746 - val_loss: 0.0614 - val_accuracy: 0.9854\n",
            "Epoch 61/100\n",
            "16/16 [==============================] - 0s 5ms/step - loss: 0.0565 - accuracy: 0.9863 - val_loss: 0.0613 - val_accuracy: 0.9854\n",
            "Epoch 62/100\n",
            "16/16 [==============================] - 0s 5ms/step - loss: 0.0816 - accuracy: 0.9766 - val_loss: 0.0617 - val_accuracy: 0.9854\n",
            "Epoch 63/100\n",
            "16/16 [==============================] - 0s 4ms/step - loss: 0.1012 - accuracy: 0.9688 - val_loss: 0.0615 - val_accuracy: 0.9854\n",
            "Epoch 64/100\n",
            "16/16 [==============================] - 0s 5ms/step - loss: 0.1010 - accuracy: 0.9629 - val_loss: 0.0616 - val_accuracy: 0.9854\n",
            "Epoch 65/100\n",
            "16/16 [==============================] - 0s 4ms/step - loss: 0.0745 - accuracy: 0.9824 - val_loss: 0.0631 - val_accuracy: 0.9854\n",
            "Epoch 66/100\n",
            "16/16 [==============================] - 0s 4ms/step - loss: 0.0939 - accuracy: 0.9727 - val_loss: 0.0641 - val_accuracy: 0.9854\n",
            "Epoch 67/100\n",
            "16/16 [==============================] - 0s 5ms/step - loss: 0.0941 - accuracy: 0.9668 - val_loss: 0.0647 - val_accuracy: 0.9854\n",
            "Epoch 68/100\n",
            "16/16 [==============================] - 0s 4ms/step - loss: 0.0730 - accuracy: 0.9766 - val_loss: 0.0647 - val_accuracy: 0.9854\n",
            "Epoch 69/100\n",
            "16/16 [==============================] - 0s 4ms/step - loss: 0.0869 - accuracy: 0.9727 - val_loss: 0.0641 - val_accuracy: 0.9854\n",
            "Epoch 70/100\n",
            "16/16 [==============================] - 0s 5ms/step - loss: 0.0750 - accuracy: 0.9707 - val_loss: 0.0646 - val_accuracy: 0.9854\n",
            "Epoch 71/100\n",
            "16/16 [==============================] - 0s 5ms/step - loss: 0.0743 - accuracy: 0.9746 - val_loss: 0.0629 - val_accuracy: 0.9854\n",
            "Epoch 72/100\n",
            "16/16 [==============================] - 0s 5ms/step - loss: 0.1105 - accuracy: 0.9668 - val_loss: 0.0626 - val_accuracy: 0.9805\n",
            "Epoch 73/100\n",
            "16/16 [==============================] - 0s 5ms/step - loss: 0.0898 - accuracy: 0.9844 - val_loss: 0.0631 - val_accuracy: 0.9854\n",
            "Epoch 74/100\n",
            "16/16 [==============================] - 0s 5ms/step - loss: 0.0705 - accuracy: 0.9727 - val_loss: 0.0635 - val_accuracy: 0.9805\n",
            "Epoch 75/100\n",
            "16/16 [==============================] - 0s 4ms/step - loss: 0.0742 - accuracy: 0.9824 - val_loss: 0.0648 - val_accuracy: 0.9854\n",
            "Epoch 76/100\n",
            "16/16 [==============================] - 0s 5ms/step - loss: 0.0847 - accuracy: 0.9805 - val_loss: 0.0645 - val_accuracy: 0.9854\n",
            "Epoch 77/100\n",
            "16/16 [==============================] - 0s 4ms/step - loss: 0.0789 - accuracy: 0.9766 - val_loss: 0.0654 - val_accuracy: 0.9854\n",
            "Epoch 78/100\n",
            "16/16 [==============================] - 0s 4ms/step - loss: 0.1089 - accuracy: 0.9766 - val_loss: 0.0645 - val_accuracy: 0.9854\n",
            "Epoch 79/100\n",
            "16/16 [==============================] - 0s 4ms/step - loss: 0.0800 - accuracy: 0.9824 - val_loss: 0.0658 - val_accuracy: 0.9854\n",
            "Epoch 80/100\n",
            "16/16 [==============================] - 0s 4ms/step - loss: 0.0964 - accuracy: 0.9766 - val_loss: 0.0650 - val_accuracy: 0.9854\n",
            "Epoch 81/100\n",
            "16/16 [==============================] - 0s 5ms/step - loss: 0.0907 - accuracy: 0.9727 - val_loss: 0.0649 - val_accuracy: 0.9854\n",
            "Epoch 82/100\n",
            "16/16 [==============================] - 0s 4ms/step - loss: 0.0921 - accuracy: 0.9746 - val_loss: 0.0652 - val_accuracy: 0.9854\n",
            "Epoch 83/100\n",
            "16/16 [==============================] - 0s 4ms/step - loss: 0.0679 - accuracy: 0.9766 - val_loss: 0.0668 - val_accuracy: 0.9854\n",
            "Epoch 84/100\n",
            "16/16 [==============================] - 0s 4ms/step - loss: 0.0625 - accuracy: 0.9805 - val_loss: 0.0706 - val_accuracy: 0.9854\n",
            "Epoch 85/100\n",
            "16/16 [==============================] - 0s 5ms/step - loss: 0.0916 - accuracy: 0.9766 - val_loss: 0.0696 - val_accuracy: 0.9854\n",
            "Epoch 86/100\n",
            "16/16 [==============================] - 0s 4ms/step - loss: 0.0851 - accuracy: 0.9727 - val_loss: 0.0653 - val_accuracy: 0.9854\n",
            "Epoch 87/100\n",
            "16/16 [==============================] - 0s 5ms/step - loss: 0.1005 - accuracy: 0.9707 - val_loss: 0.0656 - val_accuracy: 0.9854\n",
            "Epoch 88/100\n",
            "16/16 [==============================] - 0s 4ms/step - loss: 0.0971 - accuracy: 0.9707 - val_loss: 0.0688 - val_accuracy: 0.9854\n",
            "Epoch 89/100\n",
            "16/16 [==============================] - 0s 7ms/step - loss: 0.0888 - accuracy: 0.9707 - val_loss: 0.0693 - val_accuracy: 0.9854\n",
            "Epoch 90/100\n",
            "16/16 [==============================] - 0s 5ms/step - loss: 0.0975 - accuracy: 0.9629 - val_loss: 0.0664 - val_accuracy: 0.9854\n",
            "Epoch 91/100\n",
            "16/16 [==============================] - 0s 4ms/step - loss: 0.0755 - accuracy: 0.9727 - val_loss: 0.0635 - val_accuracy: 0.9854\n",
            "Epoch 92/100\n",
            "16/16 [==============================] - 0s 4ms/step - loss: 0.0673 - accuracy: 0.9707 - val_loss: 0.0638 - val_accuracy: 0.9854\n",
            "Epoch 93/100\n",
            "16/16 [==============================] - 0s 4ms/step - loss: 0.0683 - accuracy: 0.9785 - val_loss: 0.0636 - val_accuracy: 0.9854\n",
            "Epoch 94/100\n",
            "16/16 [==============================] - 0s 6ms/step - loss: 0.0617 - accuracy: 0.9824 - val_loss: 0.0675 - val_accuracy: 0.9854\n",
            "Epoch 95/100\n",
            "16/16 [==============================] - 0s 5ms/step - loss: 0.0989 - accuracy: 0.9766 - val_loss: 0.0671 - val_accuracy: 0.9854\n",
            "Epoch 96/100\n",
            "16/16 [==============================] - 0s 5ms/step - loss: 0.0982 - accuracy: 0.9746 - val_loss: 0.0659 - val_accuracy: 0.9854\n",
            "Epoch 97/100\n",
            "16/16 [==============================] - 0s 4ms/step - loss: 0.0826 - accuracy: 0.9727 - val_loss: 0.0667 - val_accuracy: 0.9854\n",
            "Epoch 98/100\n",
            "16/16 [==============================] - 0s 4ms/step - loss: 0.0799 - accuracy: 0.9707 - val_loss: 0.0673 - val_accuracy: 0.9854\n",
            "Epoch 99/100\n",
            "16/16 [==============================] - 0s 5ms/step - loss: 0.0770 - accuracy: 0.9766 - val_loss: 0.0703 - val_accuracy: 0.9854\n",
            "Epoch 100/100\n",
            "16/16 [==============================] - 0s 4ms/step - loss: 0.0461 - accuracy: 0.9883 - val_loss: 0.0711 - val_accuracy: 0.9854\n",
            "6/6 [==============================] - 0s 2ms/step\n",
            "6/6 [==============================] - 0s 2ms/step\n",
            "Epoch 1/100\n"
          ]
        },
        {
          "output_type": "stream",
          "name": "stderr",
          "text": [
            "/usr/local/lib/python3.8/dist-packages/keras/optimizers/optimizer_v2/adamax.py:95: UserWarning: The `lr` argument is deprecated, use `learning_rate` instead.\n",
            "  super(Adamax, self).__init__(name, **kwargs)\n"
          ]
        },
        {
          "output_type": "stream",
          "name": "stdout",
          "text": [
            "16/16 [==============================] - 1s 19ms/step - loss: 0.4582 - accuracy: 0.8008 - val_loss: 0.5704 - val_accuracy: 0.5561\n",
            "Epoch 2/100\n",
            "16/16 [==============================] - 0s 5ms/step - loss: 0.3048 - accuracy: 0.8906 - val_loss: 0.4975 - val_accuracy: 0.8878\n",
            "Epoch 3/100\n",
            "16/16 [==============================] - 0s 5ms/step - loss: 0.3327 - accuracy: 0.8750 - val_loss: 0.4300 - val_accuracy: 0.9366\n",
            "Epoch 4/100\n",
            "16/16 [==============================] - 0s 5ms/step - loss: 0.2914 - accuracy: 0.8906 - val_loss: 0.3684 - val_accuracy: 0.9707\n",
            "Epoch 5/100\n",
            "16/16 [==============================] - 0s 5ms/step - loss: 0.2503 - accuracy: 0.9316 - val_loss: 0.3151 - val_accuracy: 0.9805\n",
            "Epoch 6/100\n",
            "16/16 [==============================] - 0s 5ms/step - loss: 0.2681 - accuracy: 0.8828 - val_loss: 0.2695 - val_accuracy: 0.9805\n",
            "Epoch 7/100\n",
            "16/16 [==============================] - 0s 4ms/step - loss: 0.1937 - accuracy: 0.9316 - val_loss: 0.2281 - val_accuracy: 0.9805\n",
            "Epoch 8/100\n",
            "16/16 [==============================] - 0s 5ms/step - loss: 0.1790 - accuracy: 0.9414 - val_loss: 0.1932 - val_accuracy: 0.9805\n",
            "Epoch 9/100\n",
            "16/16 [==============================] - 0s 5ms/step - loss: 0.2022 - accuracy: 0.9414 - val_loss: 0.1693 - val_accuracy: 0.9805\n",
            "Epoch 10/100\n",
            "16/16 [==============================] - 0s 5ms/step - loss: 0.2040 - accuracy: 0.9238 - val_loss: 0.1505 - val_accuracy: 0.9805\n",
            "Epoch 11/100\n",
            "16/16 [==============================] - 0s 4ms/step - loss: 0.1646 - accuracy: 0.9473 - val_loss: 0.1345 - val_accuracy: 0.9805\n",
            "Epoch 12/100\n",
            "16/16 [==============================] - 0s 5ms/step - loss: 0.1690 - accuracy: 0.9414 - val_loss: 0.1218 - val_accuracy: 0.9805\n",
            "Epoch 13/100\n",
            "16/16 [==============================] - 0s 4ms/step - loss: 0.1809 - accuracy: 0.9414 - val_loss: 0.1115 - val_accuracy: 0.9854\n",
            "Epoch 14/100\n",
            "16/16 [==============================] - 0s 5ms/step - loss: 0.1480 - accuracy: 0.9512 - val_loss: 0.1027 - val_accuracy: 0.9854\n",
            "Epoch 15/100\n",
            "16/16 [==============================] - 0s 4ms/step - loss: 0.1935 - accuracy: 0.9434 - val_loss: 0.0953 - val_accuracy: 0.9805\n",
            "Epoch 16/100\n",
            "16/16 [==============================] - 0s 4ms/step - loss: 0.1973 - accuracy: 0.9414 - val_loss: 0.0908 - val_accuracy: 0.9805\n",
            "Epoch 17/100\n",
            "16/16 [==============================] - 0s 4ms/step - loss: 0.1545 - accuracy: 0.9375 - val_loss: 0.0877 - val_accuracy: 0.9805\n",
            "Epoch 18/100\n",
            "16/16 [==============================] - 0s 5ms/step - loss: 0.1701 - accuracy: 0.9492 - val_loss: 0.0852 - val_accuracy: 0.9805\n",
            "Epoch 19/100\n",
            "16/16 [==============================] - 0s 4ms/step - loss: 0.1616 - accuracy: 0.9531 - val_loss: 0.0829 - val_accuracy: 0.9805\n",
            "Epoch 20/100\n",
            "16/16 [==============================] - 0s 4ms/step - loss: 0.1671 - accuracy: 0.9473 - val_loss: 0.0816 - val_accuracy: 0.9805\n",
            "Epoch 21/100\n",
            "16/16 [==============================] - 0s 5ms/step - loss: 0.1354 - accuracy: 0.9570 - val_loss: 0.0806 - val_accuracy: 0.9756\n",
            "Epoch 22/100\n",
            "16/16 [==============================] - 0s 4ms/step - loss: 0.1403 - accuracy: 0.9531 - val_loss: 0.0792 - val_accuracy: 0.9756\n",
            "Epoch 23/100\n",
            "16/16 [==============================] - 0s 4ms/step - loss: 0.1427 - accuracy: 0.9473 - val_loss: 0.0776 - val_accuracy: 0.9756\n",
            "Epoch 24/100\n",
            "16/16 [==============================] - 0s 5ms/step - loss: 0.1769 - accuracy: 0.9551 - val_loss: 0.0761 - val_accuracy: 0.9756\n",
            "Epoch 25/100\n",
            "16/16 [==============================] - 0s 5ms/step - loss: 0.1524 - accuracy: 0.9531 - val_loss: 0.0744 - val_accuracy: 0.9756\n",
            "Epoch 26/100\n",
            "16/16 [==============================] - 0s 6ms/step - loss: 0.2018 - accuracy: 0.9355 - val_loss: 0.0740 - val_accuracy: 0.9756\n",
            "Epoch 27/100\n",
            "16/16 [==============================] - 0s 5ms/step - loss: 0.1349 - accuracy: 0.9531 - val_loss: 0.0729 - val_accuracy: 0.9756\n",
            "Epoch 28/100\n",
            "16/16 [==============================] - 0s 4ms/step - loss: 0.1409 - accuracy: 0.9512 - val_loss: 0.0729 - val_accuracy: 0.9756\n",
            "Epoch 29/100\n",
            "16/16 [==============================] - 0s 4ms/step - loss: 0.1879 - accuracy: 0.9395 - val_loss: 0.0718 - val_accuracy: 0.9805\n",
            "Epoch 30/100\n",
            "16/16 [==============================] - 0s 4ms/step - loss: 0.1200 - accuracy: 0.9512 - val_loss: 0.0707 - val_accuracy: 0.9805\n",
            "Epoch 31/100\n",
            "16/16 [==============================] - 0s 5ms/step - loss: 0.1328 - accuracy: 0.9590 - val_loss: 0.0704 - val_accuracy: 0.9805\n",
            "Epoch 32/100\n",
            "16/16 [==============================] - 0s 4ms/step - loss: 0.1356 - accuracy: 0.9531 - val_loss: 0.0701 - val_accuracy: 0.9805\n",
            "Epoch 33/100\n",
            "16/16 [==============================] - 0s 5ms/step - loss: 0.1489 - accuracy: 0.9531 - val_loss: 0.0695 - val_accuracy: 0.9854\n",
            "Epoch 34/100\n",
            "16/16 [==============================] - 0s 5ms/step - loss: 0.1568 - accuracy: 0.9512 - val_loss: 0.0697 - val_accuracy: 0.9854\n",
            "Epoch 35/100\n",
            "16/16 [==============================] - 0s 4ms/step - loss: 0.1217 - accuracy: 0.9668 - val_loss: 0.0691 - val_accuracy: 0.9854\n",
            "Epoch 36/100\n",
            "16/16 [==============================] - 0s 4ms/step - loss: 0.1434 - accuracy: 0.9570 - val_loss: 0.0676 - val_accuracy: 0.9854\n",
            "Epoch 37/100\n",
            "16/16 [==============================] - 0s 4ms/step - loss: 0.1371 - accuracy: 0.9590 - val_loss: 0.0660 - val_accuracy: 0.9854\n",
            "Epoch 38/100\n",
            "16/16 [==============================] - 0s 7ms/step - loss: 0.1640 - accuracy: 0.9512 - val_loss: 0.0661 - val_accuracy: 0.9854\n",
            "Epoch 39/100\n",
            "16/16 [==============================] - 0s 4ms/step - loss: 0.1446 - accuracy: 0.9512 - val_loss: 0.0661 - val_accuracy: 0.9854\n",
            "Epoch 40/100\n",
            "16/16 [==============================] - 0s 4ms/step - loss: 0.1396 - accuracy: 0.9512 - val_loss: 0.0661 - val_accuracy: 0.9854\n",
            "Epoch 41/100\n",
            "16/16 [==============================] - 0s 4ms/step - loss: 0.1360 - accuracy: 0.9570 - val_loss: 0.0656 - val_accuracy: 0.9854\n",
            "Epoch 42/100\n",
            "16/16 [==============================] - 0s 5ms/step - loss: 0.1624 - accuracy: 0.9473 - val_loss: 0.0654 - val_accuracy: 0.9854\n",
            "Epoch 43/100\n",
            "16/16 [==============================] - 0s 4ms/step - loss: 0.1325 - accuracy: 0.9570 - val_loss: 0.0649 - val_accuracy: 0.9854\n",
            "Epoch 44/100\n",
            "16/16 [==============================] - 0s 4ms/step - loss: 0.1689 - accuracy: 0.9570 - val_loss: 0.0642 - val_accuracy: 0.9854\n",
            "Epoch 45/100\n",
            "16/16 [==============================] - 0s 4ms/step - loss: 0.1311 - accuracy: 0.9570 - val_loss: 0.0645 - val_accuracy: 0.9854\n",
            "Epoch 46/100\n",
            "16/16 [==============================] - 0s 5ms/step - loss: 0.1524 - accuracy: 0.9570 - val_loss: 0.0652 - val_accuracy: 0.9854\n",
            "Epoch 47/100\n",
            "16/16 [==============================] - 0s 4ms/step - loss: 0.1230 - accuracy: 0.9668 - val_loss: 0.0658 - val_accuracy: 0.9854\n",
            "Epoch 48/100\n",
            "16/16 [==============================] - 0s 5ms/step - loss: 0.1479 - accuracy: 0.9570 - val_loss: 0.0649 - val_accuracy: 0.9854\n",
            "Epoch 49/100\n",
            "16/16 [==============================] - 0s 4ms/step - loss: 0.1361 - accuracy: 0.9590 - val_loss: 0.0649 - val_accuracy: 0.9854\n",
            "Epoch 50/100\n",
            "16/16 [==============================] - 0s 5ms/step - loss: 0.1194 - accuracy: 0.9609 - val_loss: 0.0653 - val_accuracy: 0.9854\n",
            "Epoch 51/100\n",
            "16/16 [==============================] - 0s 5ms/step - loss: 0.1354 - accuracy: 0.9531 - val_loss: 0.0656 - val_accuracy: 0.9854\n",
            "Epoch 52/100\n",
            "16/16 [==============================] - 0s 4ms/step - loss: 0.1214 - accuracy: 0.9648 - val_loss: 0.0657 - val_accuracy: 0.9854\n",
            "Epoch 53/100\n",
            "16/16 [==============================] - 0s 4ms/step - loss: 0.1201 - accuracy: 0.9551 - val_loss: 0.0659 - val_accuracy: 0.9854\n",
            "Epoch 54/100\n",
            "16/16 [==============================] - 0s 4ms/step - loss: 0.1983 - accuracy: 0.9473 - val_loss: 0.0655 - val_accuracy: 0.9854\n",
            "Epoch 55/100\n",
            "16/16 [==============================] - 0s 5ms/step - loss: 0.1460 - accuracy: 0.9512 - val_loss: 0.0644 - val_accuracy: 0.9854\n",
            "Epoch 56/100\n",
            "16/16 [==============================] - 0s 5ms/step - loss: 0.1343 - accuracy: 0.9531 - val_loss: 0.0650 - val_accuracy: 0.9854\n",
            "Epoch 57/100\n",
            "16/16 [==============================] - 0s 4ms/step - loss: 0.1611 - accuracy: 0.9492 - val_loss: 0.0662 - val_accuracy: 0.9854\n",
            "Epoch 58/100\n",
            "16/16 [==============================] - 0s 4ms/step - loss: 0.1323 - accuracy: 0.9590 - val_loss: 0.0660 - val_accuracy: 0.9854\n",
            "Epoch 59/100\n",
            "16/16 [==============================] - 0s 5ms/step - loss: 0.1091 - accuracy: 0.9590 - val_loss: 0.0664 - val_accuracy: 0.9805\n",
            "Epoch 60/100\n",
            "16/16 [==============================] - 0s 4ms/step - loss: 0.1475 - accuracy: 0.9473 - val_loss: 0.0659 - val_accuracy: 0.9854\n",
            "Epoch 61/100\n",
            "16/16 [==============================] - 0s 4ms/step - loss: 0.1489 - accuracy: 0.9570 - val_loss: 0.0656 - val_accuracy: 0.9805\n",
            "Epoch 62/100\n",
            "16/16 [==============================] - 0s 4ms/step - loss: 0.1398 - accuracy: 0.9570 - val_loss: 0.0655 - val_accuracy: 0.9805\n",
            "Epoch 63/100\n",
            "16/16 [==============================] - 0s 4ms/step - loss: 0.1398 - accuracy: 0.9629 - val_loss: 0.0641 - val_accuracy: 0.9854\n",
            "Epoch 64/100\n",
            "16/16 [==============================] - 0s 8ms/step - loss: 0.1187 - accuracy: 0.9590 - val_loss: 0.0640 - val_accuracy: 0.9854\n",
            "Epoch 65/100\n",
            "16/16 [==============================] - 0s 18ms/step - loss: 0.1151 - accuracy: 0.9648 - val_loss: 0.0639 - val_accuracy: 0.9854\n",
            "Epoch 66/100\n",
            "16/16 [==============================] - 0s 19ms/step - loss: 0.1617 - accuracy: 0.9473 - val_loss: 0.0642 - val_accuracy: 0.9854\n",
            "Epoch 67/100\n",
            "16/16 [==============================] - 0s 12ms/step - loss: 0.1025 - accuracy: 0.9629 - val_loss: 0.0644 - val_accuracy: 0.9805\n",
            "Epoch 68/100\n",
            "16/16 [==============================] - 0s 9ms/step - loss: 0.1336 - accuracy: 0.9609 - val_loss: 0.0646 - val_accuracy: 0.9805\n",
            "Epoch 69/100\n",
            "16/16 [==============================] - 0s 4ms/step - loss: 0.1104 - accuracy: 0.9668 - val_loss: 0.0648 - val_accuracy: 0.9805\n",
            "Epoch 70/100\n",
            "16/16 [==============================] - 0s 5ms/step - loss: 0.1509 - accuracy: 0.9531 - val_loss: 0.0649 - val_accuracy: 0.9805\n",
            "Epoch 71/100\n",
            "16/16 [==============================] - 0s 5ms/step - loss: 0.1266 - accuracy: 0.9570 - val_loss: 0.0641 - val_accuracy: 0.9805\n",
            "Epoch 72/100\n",
            "16/16 [==============================] - 0s 4ms/step - loss: 0.1105 - accuracy: 0.9707 - val_loss: 0.0637 - val_accuracy: 0.9854\n",
            "Epoch 73/100\n",
            "16/16 [==============================] - 0s 9ms/step - loss: 0.1151 - accuracy: 0.9727 - val_loss: 0.0631 - val_accuracy: 0.9854\n",
            "Epoch 74/100\n",
            "16/16 [==============================] - 0s 14ms/step - loss: 0.1042 - accuracy: 0.9629 - val_loss: 0.0638 - val_accuracy: 0.9854\n",
            "Epoch 75/100\n",
            "16/16 [==============================] - 0s 17ms/step - loss: 0.1042 - accuracy: 0.9688 - val_loss: 0.0642 - val_accuracy: 0.9805\n",
            "Epoch 76/100\n",
            "16/16 [==============================] - 0s 12ms/step - loss: 0.1108 - accuracy: 0.9609 - val_loss: 0.0643 - val_accuracy: 0.9756\n",
            "Epoch 77/100\n",
            "16/16 [==============================] - 0s 8ms/step - loss: 0.1266 - accuracy: 0.9629 - val_loss: 0.0668 - val_accuracy: 0.9756\n",
            "Epoch 78/100\n",
            "16/16 [==============================] - 0s 4ms/step - loss: 0.1197 - accuracy: 0.9609 - val_loss: 0.0665 - val_accuracy: 0.9756\n",
            "Epoch 79/100\n",
            "16/16 [==============================] - 0s 4ms/step - loss: 0.1259 - accuracy: 0.9570 - val_loss: 0.0647 - val_accuracy: 0.9756\n",
            "Epoch 80/100\n",
            "16/16 [==============================] - 0s 5ms/step - loss: 0.1678 - accuracy: 0.9531 - val_loss: 0.0632 - val_accuracy: 0.9805\n",
            "Epoch 81/100\n",
            "16/16 [==============================] - 0s 5ms/step - loss: 0.1565 - accuracy: 0.9590 - val_loss: 0.0630 - val_accuracy: 0.9805\n",
            "Epoch 82/100\n",
            "16/16 [==============================] - 0s 4ms/step - loss: 0.1179 - accuracy: 0.9688 - val_loss: 0.0645 - val_accuracy: 0.9756\n",
            "Epoch 83/100\n",
            "16/16 [==============================] - 0s 10ms/step - loss: 0.1441 - accuracy: 0.9629 - val_loss: 0.0640 - val_accuracy: 0.9805\n",
            "Epoch 84/100\n",
            "16/16 [==============================] - 0s 19ms/step - loss: 0.0985 - accuracy: 0.9727 - val_loss: 0.0636 - val_accuracy: 0.9805\n",
            "Epoch 85/100\n",
            "16/16 [==============================] - 0s 18ms/step - loss: 0.1579 - accuracy: 0.9629 - val_loss: 0.0631 - val_accuracy: 0.9805\n",
            "Epoch 86/100\n",
            "16/16 [==============================] - 0s 7ms/step - loss: 0.1100 - accuracy: 0.9629 - val_loss: 0.0630 - val_accuracy: 0.9805\n",
            "Epoch 87/100\n",
            "16/16 [==============================] - 0s 4ms/step - loss: 0.1146 - accuracy: 0.9668 - val_loss: 0.0622 - val_accuracy: 0.9854\n",
            "Epoch 88/100\n",
            "16/16 [==============================] - 0s 5ms/step - loss: 0.1106 - accuracy: 0.9629 - val_loss: 0.0622 - val_accuracy: 0.9854\n",
            "Epoch 89/100\n",
            "16/16 [==============================] - 0s 4ms/step - loss: 0.1321 - accuracy: 0.9629 - val_loss: 0.0644 - val_accuracy: 0.9756\n",
            "Epoch 90/100\n",
            "16/16 [==============================] - 0s 5ms/step - loss: 0.1359 - accuracy: 0.9551 - val_loss: 0.0651 - val_accuracy: 0.9756\n",
            "Epoch 91/100\n",
            "16/16 [==============================] - 0s 5ms/step - loss: 0.1279 - accuracy: 0.9629 - val_loss: 0.0661 - val_accuracy: 0.9756\n",
            "Epoch 92/100\n",
            "16/16 [==============================] - 0s 5ms/step - loss: 0.1085 - accuracy: 0.9629 - val_loss: 0.0645 - val_accuracy: 0.9805\n",
            "Epoch 93/100\n",
            "16/16 [==============================] - 0s 4ms/step - loss: 0.1115 - accuracy: 0.9688 - val_loss: 0.0615 - val_accuracy: 0.9854\n",
            "Epoch 94/100\n",
            "16/16 [==============================] - 0s 5ms/step - loss: 0.1826 - accuracy: 0.9512 - val_loss: 0.0611 - val_accuracy: 0.9854\n",
            "Epoch 95/100\n",
            "16/16 [==============================] - 0s 4ms/step - loss: 0.1377 - accuracy: 0.9668 - val_loss: 0.0613 - val_accuracy: 0.9854\n",
            "Epoch 96/100\n",
            "16/16 [==============================] - 0s 4ms/step - loss: 0.1510 - accuracy: 0.9570 - val_loss: 0.0633 - val_accuracy: 0.9805\n",
            "Epoch 97/100\n",
            "16/16 [==============================] - 0s 5ms/step - loss: 0.0973 - accuracy: 0.9668 - val_loss: 0.0653 - val_accuracy: 0.9805\n",
            "Epoch 98/100\n",
            "16/16 [==============================] - 0s 5ms/step - loss: 0.1365 - accuracy: 0.9512 - val_loss: 0.0654 - val_accuracy: 0.9805\n",
            "Epoch 99/100\n",
            "16/16 [==============================] - 0s 5ms/step - loss: 0.1400 - accuracy: 0.9648 - val_loss: 0.0653 - val_accuracy: 0.9805\n",
            "Epoch 100/100\n",
            "16/16 [==============================] - 0s 4ms/step - loss: 0.1215 - accuracy: 0.9609 - val_loss: 0.0653 - val_accuracy: 0.9805\n",
            "6/6 [==============================] - 0s 3ms/step\n",
            "6/6 [==============================] - 0s 2ms/step\n",
            "Epoch 1/100\n"
          ]
        },
        {
          "output_type": "stream",
          "name": "stderr",
          "text": [
            "/usr/local/lib/python3.8/dist-packages/keras/optimizers/optimizer_v2/adamax.py:95: UserWarning: The `lr` argument is deprecated, use `learning_rate` instead.\n",
            "  super(Adamax, self).__init__(name, **kwargs)\n"
          ]
        },
        {
          "output_type": "stream",
          "name": "stdout",
          "text": [
            "17/17 [==============================] - 1s 15ms/step - loss: 0.8688 - accuracy: 0.5536 - val_loss: 0.5972 - val_accuracy: 0.8439\n",
            "Epoch 2/100\n",
            "17/17 [==============================] - 0s 4ms/step - loss: 0.4380 - accuracy: 0.7836 - val_loss: 0.5392 - val_accuracy: 0.8195\n",
            "Epoch 3/100\n",
            "17/17 [==============================] - 0s 5ms/step - loss: 0.3451 - accuracy: 0.8577 - val_loss: 0.4897 - val_accuracy: 0.8829\n",
            "Epoch 4/100\n",
            "17/17 [==============================] - 0s 5ms/step - loss: 0.3230 - accuracy: 0.8967 - val_loss: 0.4349 - val_accuracy: 0.9317\n",
            "Epoch 5/100\n",
            "17/17 [==============================] - 0s 4ms/step - loss: 0.3140 - accuracy: 0.8986 - val_loss: 0.3889 - val_accuracy: 0.9659\n",
            "Epoch 6/100\n",
            "17/17 [==============================] - 0s 4ms/step - loss: 0.2683 - accuracy: 0.8967 - val_loss: 0.3535 - val_accuracy: 0.9756\n",
            "Epoch 7/100\n",
            "17/17 [==============================] - 0s 4ms/step - loss: 0.2695 - accuracy: 0.8869 - val_loss: 0.3142 - val_accuracy: 0.9756\n",
            "Epoch 8/100\n",
            "17/17 [==============================] - 0s 4ms/step - loss: 0.2151 - accuracy: 0.9240 - val_loss: 0.2766 - val_accuracy: 0.9756\n",
            "Epoch 9/100\n",
            "17/17 [==============================] - 0s 7ms/step - loss: 0.2024 - accuracy: 0.9318 - val_loss: 0.2405 - val_accuracy: 0.9805\n",
            "Epoch 10/100\n",
            "17/17 [==============================] - 0s 4ms/step - loss: 0.1940 - accuracy: 0.9337 - val_loss: 0.2051 - val_accuracy: 0.9805\n",
            "Epoch 11/100\n",
            "17/17 [==============================] - 0s 4ms/step - loss: 0.1978 - accuracy: 0.9357 - val_loss: 0.1794 - val_accuracy: 0.9805\n",
            "Epoch 12/100\n",
            "17/17 [==============================] - 0s 4ms/step - loss: 0.1959 - accuracy: 0.9318 - val_loss: 0.1604 - val_accuracy: 0.9805\n",
            "Epoch 13/100\n",
            "17/17 [==============================] - 0s 4ms/step - loss: 0.1867 - accuracy: 0.9240 - val_loss: 0.1381 - val_accuracy: 0.9805\n",
            "Epoch 14/100\n",
            "17/17 [==============================] - 0s 4ms/step - loss: 0.2160 - accuracy: 0.9220 - val_loss: 0.1257 - val_accuracy: 0.9805\n",
            "Epoch 15/100\n",
            "17/17 [==============================] - 0s 5ms/step - loss: 0.2037 - accuracy: 0.9454 - val_loss: 0.1145 - val_accuracy: 0.9805\n",
            "Epoch 16/100\n",
            "17/17 [==============================] - 0s 4ms/step - loss: 0.1607 - accuracy: 0.9513 - val_loss: 0.1055 - val_accuracy: 0.9805\n",
            "Epoch 17/100\n",
            "17/17 [==============================] - 0s 4ms/step - loss: 0.1813 - accuracy: 0.9454 - val_loss: 0.0989 - val_accuracy: 0.9805\n",
            "Epoch 18/100\n",
            "17/17 [==============================] - 0s 4ms/step - loss: 0.1714 - accuracy: 0.9415 - val_loss: 0.0913 - val_accuracy: 0.9805\n",
            "Epoch 19/100\n",
            "17/17 [==============================] - 0s 5ms/step - loss: 0.1663 - accuracy: 0.9454 - val_loss: 0.0872 - val_accuracy: 0.9854\n",
            "Epoch 20/100\n",
            "17/17 [==============================] - 0s 4ms/step - loss: 0.1800 - accuracy: 0.9513 - val_loss: 0.0832 - val_accuracy: 0.9854\n",
            "Epoch 21/100\n",
            "17/17 [==============================] - 0s 4ms/step - loss: 0.1710 - accuracy: 0.9454 - val_loss: 0.0800 - val_accuracy: 0.9854\n",
            "Epoch 22/100\n",
            "17/17 [==============================] - 0s 4ms/step - loss: 0.1860 - accuracy: 0.9376 - val_loss: 0.0759 - val_accuracy: 0.9854\n",
            "Epoch 23/100\n",
            "17/17 [==============================] - 0s 5ms/step - loss: 0.1735 - accuracy: 0.9493 - val_loss: 0.0726 - val_accuracy: 0.9854\n",
            "Epoch 24/100\n",
            "17/17 [==============================] - 0s 5ms/step - loss: 0.1475 - accuracy: 0.9513 - val_loss: 0.0708 - val_accuracy: 0.9854\n",
            "Epoch 25/100\n",
            "17/17 [==============================] - 0s 4ms/step - loss: 0.1416 - accuracy: 0.9513 - val_loss: 0.0700 - val_accuracy: 0.9854\n",
            "Epoch 26/100\n",
            "17/17 [==============================] - 0s 5ms/step - loss: 0.1581 - accuracy: 0.9435 - val_loss: 0.0691 - val_accuracy: 0.9854\n",
            "Epoch 27/100\n",
            "17/17 [==============================] - 0s 5ms/step - loss: 0.1458 - accuracy: 0.9532 - val_loss: 0.0678 - val_accuracy: 0.9854\n",
            "Epoch 28/100\n",
            "17/17 [==============================] - 0s 5ms/step - loss: 0.1456 - accuracy: 0.9630 - val_loss: 0.0673 - val_accuracy: 0.9854\n",
            "Epoch 29/100\n",
            "17/17 [==============================] - 0s 4ms/step - loss: 0.1445 - accuracy: 0.9454 - val_loss: 0.0666 - val_accuracy: 0.9854\n",
            "Epoch 30/100\n",
            "17/17 [==============================] - 0s 5ms/step - loss: 0.1547 - accuracy: 0.9571 - val_loss: 0.0665 - val_accuracy: 0.9854\n",
            "Epoch 31/100\n",
            "17/17 [==============================] - 0s 4ms/step - loss: 0.1446 - accuracy: 0.9454 - val_loss: 0.0661 - val_accuracy: 0.9854\n",
            "Epoch 32/100\n",
            "17/17 [==============================] - 0s 5ms/step - loss: 0.1438 - accuracy: 0.9513 - val_loss: 0.0657 - val_accuracy: 0.9854\n",
            "Epoch 33/100\n",
            "17/17 [==============================] - 0s 4ms/step - loss: 0.1341 - accuracy: 0.9532 - val_loss: 0.0642 - val_accuracy: 0.9854\n",
            "Epoch 34/100\n",
            "17/17 [==============================] - 0s 4ms/step - loss: 0.1628 - accuracy: 0.9532 - val_loss: 0.0632 - val_accuracy: 0.9854\n",
            "Epoch 35/100\n",
            "17/17 [==============================] - 0s 5ms/step - loss: 0.1432 - accuracy: 0.9532 - val_loss: 0.0627 - val_accuracy: 0.9854\n",
            "Epoch 36/100\n",
            "17/17 [==============================] - 0s 5ms/step - loss: 0.1240 - accuracy: 0.9591 - val_loss: 0.0624 - val_accuracy: 0.9854\n",
            "Epoch 37/100\n",
            "17/17 [==============================] - 0s 4ms/step - loss: 0.1580 - accuracy: 0.9396 - val_loss: 0.0624 - val_accuracy: 0.9854\n",
            "Epoch 38/100\n",
            "17/17 [==============================] - 0s 4ms/step - loss: 0.1834 - accuracy: 0.9415 - val_loss: 0.0630 - val_accuracy: 0.9854\n",
            "Epoch 39/100\n",
            "17/17 [==============================] - 0s 4ms/step - loss: 0.1389 - accuracy: 0.9474 - val_loss: 0.0628 - val_accuracy: 0.9854\n",
            "Epoch 40/100\n",
            "17/17 [==============================] - 0s 4ms/step - loss: 0.1912 - accuracy: 0.9435 - val_loss: 0.0628 - val_accuracy: 0.9854\n",
            "Epoch 41/100\n",
            "17/17 [==============================] - 0s 4ms/step - loss: 0.1533 - accuracy: 0.9591 - val_loss: 0.0632 - val_accuracy: 0.9854\n",
            "Epoch 42/100\n",
            "17/17 [==============================] - 0s 4ms/step - loss: 0.1628 - accuracy: 0.9552 - val_loss: 0.0624 - val_accuracy: 0.9854\n",
            "Epoch 43/100\n",
            "17/17 [==============================] - 0s 4ms/step - loss: 0.1507 - accuracy: 0.9532 - val_loss: 0.0620 - val_accuracy: 0.9854\n",
            "Epoch 44/100\n",
            "17/17 [==============================] - 0s 5ms/step - loss: 0.1293 - accuracy: 0.9688 - val_loss: 0.0617 - val_accuracy: 0.9854\n",
            "Epoch 45/100\n",
            "17/17 [==============================] - 0s 6ms/step - loss: 0.1575 - accuracy: 0.9532 - val_loss: 0.0614 - val_accuracy: 0.9854\n",
            "Epoch 46/100\n",
            "17/17 [==============================] - 0s 4ms/step - loss: 0.1318 - accuracy: 0.9630 - val_loss: 0.0608 - val_accuracy: 0.9854\n",
            "Epoch 47/100\n",
            "17/17 [==============================] - 0s 4ms/step - loss: 0.1457 - accuracy: 0.9610 - val_loss: 0.0609 - val_accuracy: 0.9854\n",
            "Epoch 48/100\n",
            "17/17 [==============================] - 0s 4ms/step - loss: 0.1443 - accuracy: 0.9513 - val_loss: 0.0609 - val_accuracy: 0.9854\n",
            "Epoch 49/100\n",
            "17/17 [==============================] - 0s 4ms/step - loss: 0.1617 - accuracy: 0.9454 - val_loss: 0.0608 - val_accuracy: 0.9854\n",
            "Epoch 50/100\n",
            "17/17 [==============================] - 0s 4ms/step - loss: 0.1599 - accuracy: 0.9415 - val_loss: 0.0610 - val_accuracy: 0.9854\n",
            "Epoch 51/100\n",
            "17/17 [==============================] - 0s 6ms/step - loss: 0.1295 - accuracy: 0.9610 - val_loss: 0.0606 - val_accuracy: 0.9854\n",
            "Epoch 52/100\n",
            "17/17 [==============================] - 0s 4ms/step - loss: 0.1535 - accuracy: 0.9610 - val_loss: 0.0603 - val_accuracy: 0.9854\n",
            "Epoch 53/100\n",
            "17/17 [==============================] - 0s 4ms/step - loss: 0.1503 - accuracy: 0.9474 - val_loss: 0.0608 - val_accuracy: 0.9854\n",
            "Epoch 54/100\n",
            "17/17 [==============================] - 0s 4ms/step - loss: 0.1438 - accuracy: 0.9571 - val_loss: 0.0614 - val_accuracy: 0.9854\n",
            "Epoch 55/100\n",
            "17/17 [==============================] - 0s 4ms/step - loss: 0.1167 - accuracy: 0.9513 - val_loss: 0.0617 - val_accuracy: 0.9854\n",
            "Epoch 56/100\n",
            "17/17 [==============================] - 0s 5ms/step - loss: 0.1344 - accuracy: 0.9552 - val_loss: 0.0623 - val_accuracy: 0.9805\n",
            "Epoch 57/100\n",
            "17/17 [==============================] - 0s 5ms/step - loss: 0.1322 - accuracy: 0.9630 - val_loss: 0.0640 - val_accuracy: 0.9756\n",
            "Epoch 58/100\n",
            "17/17 [==============================] - 0s 5ms/step - loss: 0.1606 - accuracy: 0.9435 - val_loss: 0.0657 - val_accuracy: 0.9707\n",
            "Epoch 59/100\n",
            "17/17 [==============================] - 0s 4ms/step - loss: 0.1362 - accuracy: 0.9571 - val_loss: 0.0641 - val_accuracy: 0.9805\n",
            "Epoch 60/100\n",
            "17/17 [==============================] - 0s 5ms/step - loss: 0.2003 - accuracy: 0.9376 - val_loss: 0.0624 - val_accuracy: 0.9805\n",
            "Epoch 61/100\n",
            "17/17 [==============================] - 0s 4ms/step - loss: 0.1367 - accuracy: 0.9610 - val_loss: 0.0620 - val_accuracy: 0.9805\n",
            "Epoch 62/100\n",
            "17/17 [==============================] - 0s 4ms/step - loss: 0.1745 - accuracy: 0.9552 - val_loss: 0.0620 - val_accuracy: 0.9805\n",
            "Epoch 63/100\n",
            "17/17 [==============================] - 0s 5ms/step - loss: 0.1321 - accuracy: 0.9571 - val_loss: 0.0633 - val_accuracy: 0.9805\n",
            "Epoch 64/100\n",
            "17/17 [==============================] - 0s 4ms/step - loss: 0.1667 - accuracy: 0.9532 - val_loss: 0.0636 - val_accuracy: 0.9805\n",
            "Epoch 65/100\n",
            "17/17 [==============================] - 0s 4ms/step - loss: 0.1237 - accuracy: 0.9630 - val_loss: 0.0631 - val_accuracy: 0.9805\n",
            "Epoch 66/100\n",
            "17/17 [==============================] - 0s 4ms/step - loss: 0.1422 - accuracy: 0.9591 - val_loss: 0.0629 - val_accuracy: 0.9805\n",
            "Epoch 67/100\n",
            "17/17 [==============================] - 0s 4ms/step - loss: 0.1314 - accuracy: 0.9610 - val_loss: 0.0619 - val_accuracy: 0.9805\n",
            "Epoch 68/100\n",
            "17/17 [==============================] - 0s 4ms/step - loss: 0.1497 - accuracy: 0.9513 - val_loss: 0.0631 - val_accuracy: 0.9805\n",
            "Epoch 69/100\n",
            "17/17 [==============================] - 0s 5ms/step - loss: 0.1311 - accuracy: 0.9571 - val_loss: 0.0630 - val_accuracy: 0.9805\n",
            "Epoch 70/100\n",
            "17/17 [==============================] - 0s 6ms/step - loss: 0.1258 - accuracy: 0.9571 - val_loss: 0.0613 - val_accuracy: 0.9805\n",
            "Epoch 71/100\n",
            "17/17 [==============================] - 0s 4ms/step - loss: 0.1676 - accuracy: 0.9532 - val_loss: 0.0614 - val_accuracy: 0.9805\n",
            "Epoch 72/100\n",
            "17/17 [==============================] - 0s 5ms/step - loss: 0.1383 - accuracy: 0.9630 - val_loss: 0.0631 - val_accuracy: 0.9756\n",
            "Epoch 73/100\n",
            "17/17 [==============================] - 0s 5ms/step - loss: 0.1552 - accuracy: 0.9435 - val_loss: 0.0612 - val_accuracy: 0.9805\n",
            "Epoch 74/100\n",
            "17/17 [==============================] - 0s 5ms/step - loss: 0.1420 - accuracy: 0.9669 - val_loss: 0.0602 - val_accuracy: 0.9805\n",
            "Epoch 75/100\n",
            "17/17 [==============================] - 0s 4ms/step - loss: 0.1438 - accuracy: 0.9532 - val_loss: 0.0615 - val_accuracy: 0.9805\n",
            "Epoch 76/100\n",
            "17/17 [==============================] - 0s 5ms/step - loss: 0.1794 - accuracy: 0.9376 - val_loss: 0.0620 - val_accuracy: 0.9805\n",
            "Epoch 77/100\n",
            "17/17 [==============================] - 0s 4ms/step - loss: 0.1738 - accuracy: 0.9532 - val_loss: 0.0629 - val_accuracy: 0.9805\n",
            "Epoch 78/100\n",
            "17/17 [==============================] - 0s 5ms/step - loss: 0.1399 - accuracy: 0.9474 - val_loss: 0.0615 - val_accuracy: 0.9805\n",
            "Epoch 79/100\n",
            "17/17 [==============================] - 0s 4ms/step - loss: 0.1259 - accuracy: 0.9669 - val_loss: 0.0623 - val_accuracy: 0.9756\n",
            "Epoch 80/100\n",
            "17/17 [==============================] - 0s 5ms/step - loss: 0.1391 - accuracy: 0.9493 - val_loss: 0.0633 - val_accuracy: 0.9756\n",
            "Epoch 81/100\n",
            "17/17 [==============================] - 0s 5ms/step - loss: 0.1404 - accuracy: 0.9474 - val_loss: 0.0626 - val_accuracy: 0.9756\n",
            "Epoch 82/100\n",
            "17/17 [==============================] - 0s 4ms/step - loss: 0.1339 - accuracy: 0.9552 - val_loss: 0.0630 - val_accuracy: 0.9756\n",
            "Epoch 83/100\n",
            "17/17 [==============================] - 0s 5ms/step - loss: 0.1251 - accuracy: 0.9591 - val_loss: 0.0625 - val_accuracy: 0.9756\n",
            "Epoch 84/100\n",
            "17/17 [==============================] - 0s 4ms/step - loss: 0.1478 - accuracy: 0.9532 - val_loss: 0.0616 - val_accuracy: 0.9756\n",
            "Epoch 85/100\n",
            "17/17 [==============================] - 0s 4ms/step - loss: 0.1495 - accuracy: 0.9513 - val_loss: 0.0627 - val_accuracy: 0.9756\n",
            "Epoch 86/100\n",
            "17/17 [==============================] - 0s 4ms/step - loss: 0.1672 - accuracy: 0.9454 - val_loss: 0.0626 - val_accuracy: 0.9756\n",
            "Epoch 87/100\n",
            "17/17 [==============================] - 0s 6ms/step - loss: 0.1389 - accuracy: 0.9630 - val_loss: 0.0642 - val_accuracy: 0.9756\n",
            "Epoch 88/100\n",
            "17/17 [==============================] - 0s 5ms/step - loss: 0.1132 - accuracy: 0.9649 - val_loss: 0.0649 - val_accuracy: 0.9756\n",
            "Epoch 89/100\n",
            "17/17 [==============================] - 0s 4ms/step - loss: 0.1518 - accuracy: 0.9435 - val_loss: 0.0658 - val_accuracy: 0.9756\n",
            "Epoch 90/100\n",
            "17/17 [==============================] - 0s 5ms/step - loss: 0.1381 - accuracy: 0.9552 - val_loss: 0.0638 - val_accuracy: 0.9756\n",
            "Epoch 91/100\n",
            "17/17 [==============================] - 0s 4ms/step - loss: 0.1357 - accuracy: 0.9571 - val_loss: 0.0638 - val_accuracy: 0.9756\n",
            "Epoch 92/100\n",
            "17/17 [==============================] - 0s 4ms/step - loss: 0.1332 - accuracy: 0.9513 - val_loss: 0.0635 - val_accuracy: 0.9756\n",
            "Epoch 93/100\n",
            "17/17 [==============================] - 0s 4ms/step - loss: 0.1207 - accuracy: 0.9513 - val_loss: 0.0618 - val_accuracy: 0.9805\n",
            "Epoch 94/100\n",
            "17/17 [==============================] - 0s 4ms/step - loss: 0.1555 - accuracy: 0.9610 - val_loss: 0.0620 - val_accuracy: 0.9805\n",
            "Epoch 95/100\n",
            "17/17 [==============================] - 0s 5ms/step - loss: 0.1233 - accuracy: 0.9630 - val_loss: 0.0622 - val_accuracy: 0.9805\n",
            "Epoch 96/100\n",
            "17/17 [==============================] - 0s 5ms/step - loss: 0.1441 - accuracy: 0.9532 - val_loss: 0.0621 - val_accuracy: 0.9854\n",
            "Epoch 97/100\n",
            "17/17 [==============================] - 0s 5ms/step - loss: 0.1356 - accuracy: 0.9649 - val_loss: 0.0631 - val_accuracy: 0.9756\n",
            "Epoch 98/100\n",
            "17/17 [==============================] - 0s 4ms/step - loss: 0.1384 - accuracy: 0.9591 - val_loss: 0.0640 - val_accuracy: 0.9756\n",
            "Epoch 99/100\n",
            "17/17 [==============================] - 0s 5ms/step - loss: 0.1461 - accuracy: 0.9591 - val_loss: 0.0630 - val_accuracy: 0.9756\n",
            "Epoch 100/100\n",
            "17/17 [==============================] - 0s 5ms/step - loss: 0.1387 - accuracy: 0.9532 - val_loss: 0.0618 - val_accuracy: 0.9854\n",
            "6/6 [==============================] - 0s 2ms/step\n",
            "6/6 [==============================] - 0s 3ms/step\n"
          ]
        }
      ]
    },
    {
      "cell_type": "code",
      "source": [
        "for metric, score in scores.items():\n",
        "  print(f\"{metric}: {score}\")"
      ],
      "metadata": {
        "colab": {
          "base_uri": "https://localhost:8080/"
        },
        "id": "1zIvGePf09RJ",
        "outputId": "1280b1d9-9001-4378-b937-227e6c5457ac"
      },
      "execution_count": 898,
      "outputs": [
        {
          "output_type": "stream",
          "name": "stdout",
          "text": [
            "fit_time: [11.2170167  11.18144011 10.98470235  9.76174164]\n",
            "score_time: [0.21732688 0.2147584  0.23134375 0.27214384]\n",
            "test_accuracy: [0.94152047 0.94736842 0.97660819 1.        ]\n",
            "test_roc_auc: [0.9933129  0.98727422 0.99781977 1.        ]\n",
            "test_precision: [0.97058824 0.92134831 0.95348837 1.        ]\n",
            "test_recall: [0.89189189 0.97619048 0.95348837 1.        ]\n"
          ]
        }
      ]
    },
    {
      "cell_type": "code",
      "source": [
        "for metric, score in scores.items():\n",
        "  plt.plot(score, label=metric)\n",
        "\n",
        "plt.xlabel(\"Fold\")\n",
        "plt.ylabel(\"Score\")\n",
        "plt.legend()\n",
        "plt.show()"
      ],
      "metadata": {
        "colab": {
          "base_uri": "https://localhost:8080/",
          "height": 502
        },
        "id": "0qLste-n1nxN",
        "outputId": "4f134f73-3802-4a05-98ac-eb882581b694"
      },
      "execution_count": 899,
      "outputs": [
        {
          "output_type": "display_data",
          "data": {
            "text/plain": [
              "<Figure size 576x576 with 1 Axes>"
            ],
            "image/png": "[encoded data removed]"
          },
          "metadata": {}
        }
      ]
    },
    {
      "cell_type": "code",
      "source": [
        "# Extract the training and validation accuracy from the history object\n",
        "acc = history.history['accuracy']\n",
        "val_acc = history.history['val_accuracy']"
      ],
      "metadata": {
        "id": "Xh8XkwamBuTr"
      },
      "execution_count": 900,
      "outputs": []
    },
    {
      "cell_type": "code",
      "source": [
        "# Extract the training and validation loss from the history object\n",
        "loss = history.history['loss']\n",
        "val_loss = history.history['val_loss']"
      ],
      "metadata": {
        "id": "7ZkchO8lRQ1O"
      },
      "execution_count": 901,
      "outputs": []
    },
    {
      "cell_type": "code",
      "source": [
        "# Plot the training and validation accuracy\n",
        "plt.plot(acc, label='Training accuracy')\n",
        "plt.plot(val_acc, label='Validation accuracy')\n",
        "plt.legend()\n",
        "plt.show()"
      ],
      "metadata": {
        "colab": {
          "base_uri": "https://localhost:8080/",
          "height": 485
        },
        "id": "bQejHgdiRVI6",
        "outputId": "6cf2b5a4-ffd3-48b3-fcbc-c4e54bc637b4"
      },
      "execution_count": 902,
      "outputs": [
        {
          "output_type": "display_data",
          "data": {
            "text/plain": [
              "<Figure size 576x576 with 1 Axes>"
            ],
            "image/png": "[encoded data removed]"
          },
          "metadata": {}
        }
      ]
    },
    {
      "cell_type": "code",
      "source": [
        "# Plot the training and validation loss\n",
        "plt.plot(loss, label='Training loss')\n",
        "plt.plot(val_loss, label='Validation loss')\n",
        "plt.legend()\n",
        "plt.show()"
      ],
      "metadata": {
        "colab": {
          "base_uri": "https://localhost:8080/",
          "height": 485
        },
        "id": "WRJjiQa7RXlx",
        "outputId": "b0b67c6c-a9e2-4b7b-c2b1-66ba9d0651a1"
      },
      "execution_count": 903,
      "outputs": [
        {
          "output_type": "display_data",
          "data": {
            "text/plain": [
              "<Figure size 576x576 with 1 Axes>"
            ],
            "image/png": "[encoded data removed]"
          },
          "metadata": {}
        }
      ]
    },
    {
      "cell_type": "code",
      "source": [
        "y_pred = model.predict(x_test)"
      ],
      "metadata": {
        "colab": {
          "base_uri": "https://localhost:8080/"
        },
        "id": "Ig8paQjYn2Uy",
        "outputId": "d3c9031b-7750-4412-999b-d3c716e3cf49"
      },
      "execution_count": 904,
      "outputs": [
        {
          "output_type": "stream",
          "name": "stdout",
          "text": [
            "7/7 [==============================] - 0s 2ms/step\n"
          ]
        }
      ]
    },
    {
      "cell_type": "code",
      "source": [
        "# Calculate the confusion matrix, precision, and recall for the fold\n",
        "cm = confusion_matrix(y_test, y_pred)\n",
        "precision = precision_score(y_test, y_pred)\n",
        "recall = recall_score(y_test, y_pred)\n",
        "score = accuracy_score(y_test,y_pred)\n",
        "print(cm)\n",
        "print('score is:',score)"
      ],
      "metadata": {
        "colab": {
          "base_uri": "https://localhost:8080/"
        },
        "id": "M6cC5McMn6e7",
        "outputId": "12ea0347-c236-4898-dc6b-45688c822d32"
      },
      "execution_count": 905,
      "outputs": [
        {
          "output_type": "stream",
          "name": "stdout",
          "text": [
            "[[  0 127]\n",
            " [  0  78]]\n",
            "score is: 0.3804878048780488\n"
          ]
        }
      ]
    },
    {
      "cell_type": "code",
      "source": [
        "confusion_matrices = []\n",
        "precisions = []\n",
        "recalls = []"
      ],
      "metadata": {
        "id": "srayhKIBoLgU"
      },
      "execution_count": 906,
      "outputs": []
    },
    {
      "cell_type": "code",
      "source": [
        "# Store the scores for the fold\n",
        "confusion_matrices.append(cm)\n",
        "precisions.append(precision)\n",
        "recalls.append(recall)"
      ],
      "metadata": {
        "id": "LVgQqL7Wn9vP"
      },
      "execution_count": 907,
      "outputs": []
    },
    {
      "cell_type": "code",
      "source": [
        "#calculate precision, recall and f1 score metrics\n",
        "from sklearn.metrics import classification_report,confusion_matrix\n",
        "print(classification_report(y_test,y_pred))"
      ],
      "metadata": {
        "colab": {
          "base_uri": "https://localhost:8080/"
        },
        "id": "Yw8SClixoRLv",
        "outputId": "cbdaddec-6ef9-4158-8b50-37b5acb3afaf"
      },
      "execution_count": 908,
      "outputs": [
        {
          "output_type": "stream",
          "name": "stdout",
          "text": [
            "              precision    recall  f1-score   support\n",
            "\n",
            "           0       0.00      0.00      0.00       127\n",
            "           1       0.38      1.00      0.55        78\n",
            "\n",
            "    accuracy                           0.38       205\n",
            "   macro avg       0.19      0.50      0.28       205\n",
            "weighted avg       0.14      0.38      0.21       205\n",
            "\n"
          ]
        },
        {
          "output_type": "stream",
          "name": "stderr",
          "text": [
            "/usr/local/lib/python3.8/dist-packages/sklearn/metrics/_classification.py:1318: UndefinedMetricWarning: Precision and F-score are ill-defined and being set to 0.0 in labels with no predicted samples. Use `zero_division` parameter to control this behavior.\n",
            "  _warn_prf(average, modifier, msg_start, len(result))\n",
            "/usr/local/lib/python3.8/dist-packages/sklearn/metrics/_classification.py:1318: UndefinedMetricWarning: Precision and F-score are ill-defined and being set to 0.0 in labels with no predicted samples. Use `zero_division` parameter to control this behavior.\n",
            "  _warn_prf(average, modifier, msg_start, len(result))\n",
            "/usr/local/lib/python3.8/dist-packages/sklearn/metrics/_classification.py:1318: UndefinedMetricWarning: Precision and F-score are ill-defined and being set to 0.0 in labels with no predicted samples. Use `zero_division` parameter to control this behavior.\n",
            "  _warn_prf(average, modifier, msg_start, len(result))\n"
          ]
        }
      ]
    },
    {
      "cell_type": "code",
      "source": [
        "#create confussion matrix through heatmap\n",
        "plt.figure(figsize=[14,7])\n",
        "sns.heatmap(cm, annot=True, fmt=\"d\", linewidth=.5)\n",
        "plt.show()"
      ],
      "metadata": {
        "colab": {
          "base_uri": "https://localhost:8080/",
          "height": 431
        },
        "id": "sOPJ7c3moUr_",
        "outputId": "be81e480-70dc-4726-e241-557e65c71570"
      },
      "execution_count": 909,
      "outputs": [
        {
          "output_type": "display_data",
          "data": {
            "text/plain": [
              "<Figure size 1008x504 with 2 Axes>"
            ],
            "image/png": "[encoded data removed]"
          },
          "metadata": {}
        }
      ]
    }
  ]
}
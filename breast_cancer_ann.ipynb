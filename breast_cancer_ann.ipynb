{
  "cells": [
    {
      "cell_type": "code",
      "execution_count": 1,
      "metadata": {
        "id": "9KYG_WdY0fqg"
      },
      "outputs": [],
      "source": [
        "# manipulation data\n",
        "import pandas as pd\n",
        "import numpy as np\n",
        "\n",
        "#visualiation data\n",
        "import matplotlib.pyplot as plt\n",
        "import seaborn as sns \n",
        "import matplotlib\n",
        "import plotly.graph_objects as go\n",
        "import plotly.express as px\n",
        "import sklearn as sk\n",
        "import tensorflow as tf"
      ]
    },
    {
      "cell_type": "code",
      "execution_count": 4,
      "metadata": {
        "id": "3ovQTiSG1lfh"
      },
      "outputs": [],
      "source": [
        "#default theme\n",
        "sns.set(context='notebook', style='darkgrid', palette='colorblind', font='sans-serif', font_scale=1, rc=None)\n",
        "matplotlib.rcParams['figure.figsize'] =[8,8]\n",
        "matplotlib.rcParams.update({'font.size': 15})\n",
        "matplotlib.rcParams['font.family'] = 'sans-serif'"
      ]
    },
    {
      "cell_type": "code",
      "execution_count": 19,
      "metadata": {
        "colab": {
          "base_uri": "https://localhost:8080/"
        },
        "id": "gx5yOBK32Vgk",
        "outputId": "b3f1f3d5-5518-46d3-c523-f6d9c22686b3"
      },
      "outputs": [
        {
          "name": "stdout",
          "output_type": "stream",
          "text": [
            "          id  clump_thickness  uniformity_of_cell_size  \\\n",
            "0    1000025                5                        1   \n",
            "1    1002945                5                        4   \n",
            "2    1015425                3                        1   \n",
            "3    1016277                6                        8   \n",
            "4    1017023                4                        1   \n",
            "..       ...              ...                      ...   \n",
            "694   776715                3                        1   \n",
            "695   841769                2                        1   \n",
            "696   888820                5                       10   \n",
            "697   897471                4                        8   \n",
            "698   897471                4                        8   \n",
            "\n",
            "     uniformity_of_cell_shape  marginal_adhesion  single_epithelial_cell_size  \\\n",
            "0                           1                  1                            2   \n",
            "1                           4                  5                            7   \n",
            "2                           1                  1                            2   \n",
            "3                           8                  1                            3   \n",
            "4                           1                  3                            2   \n",
            "..                        ...                ...                          ...   \n",
            "694                         1                  1                            3   \n",
            "695                         1                  1                            2   \n",
            "696                        10                  3                            7   \n",
            "697                         6                  4                            3   \n",
            "698                         8                  5                            4   \n",
            "\n",
            "    bare_nuclei  bland_chromatin  normal_nucleoli  mitoses  class  \n",
            "0             1                3                1        1      2  \n",
            "1            10                3                2        1      2  \n",
            "2             2                3                1        1      2  \n",
            "3             4                3                7        1      2  \n",
            "4             1                3                1        1      2  \n",
            "..          ...              ...              ...      ...    ...  \n",
            "694           2                1                1        1      2  \n",
            "695           1                1                1        1      2  \n",
            "696           3                8               10        2      4  \n",
            "697           4               10                6        1      4  \n",
            "698           5               10                4        1      4  \n",
            "\n",
            "[699 rows x 11 columns]\n"
          ]
        }
      ],
      "source": [
        "#importing dataset\n",
        "dataLabelled =  pd.read_csv('breast-cancer-wisconsin.data', sep=\",\", header=None, names=['id','clump_thickness','uniformity_of_cell_size','uniformity_of_cell_shape','marginal_adhesion','single_epithelial_cell_size','bare_nuclei','bland_chromatin','normal_nucleoli','mitoses','class'])\n",
        "print(dataLabelled)\n"
      ]
    },
    {
      "cell_type": "code",
      "execution_count": 12,
      "metadata": {
        "colab": {
          "base_uri": "https://localhost:8080/"
        },
        "id": "SmbVWeLXBGfN",
        "outputId": "b72a856c-0c42-4ec4-929c-6f5689e1cefb"
      },
      "outputs": [
        {
          "name": "stdout",
          "output_type": "stream",
          "text": [
            "<class 'pandas.core.frame.DataFrame'>\n",
            "RangeIndex: 699 entries, 0 to 698\n",
            "Data columns (total 11 columns):\n",
            " #   Column                       Non-Null Count  Dtype \n",
            "---  ------                       --------------  ----- \n",
            " 0   id                           699 non-null    int64 \n",
            " 1   clump_thickness              699 non-null    int64 \n",
            " 2   uniformity_of_cell_size      699 non-null    int64 \n",
            " 3   uniformity_of_cell_shape     699 non-null    int64 \n",
            " 4   marginal_adhesion            699 non-null    int64 \n",
            " 5   single_epithelial_cell_size  699 non-null    int64 \n",
            " 6   bare_nuclei                  699 non-null    object\n",
            " 7   bland_chromatin              699 non-null    int64 \n",
            " 8   normal_nucleoli              699 non-null    int64 \n",
            " 9   mitoses                      699 non-null    int64 \n",
            " 10  class                        699 non-null    int64 \n",
            "dtypes: int64(10), object(1)\n",
            "memory usage: 60.2+ KB\n"
          ]
        }
      ],
      "source": [
        "# checking the types of features\n",
        "dataLabelled.info()"
      ]
    },
    {
      "cell_type": "code",
      "execution_count": 14,
      "metadata": {
        "colab": {
          "base_uri": "https://localhost:8080/"
        },
        "id": "Fblr9w-ZCBse",
        "outputId": "c7d63a44-a186-42f2-bcc6-7b268236b3fa"
      },
      "outputs": [
        {
          "data": {
            "text/plain": [
              "(699, 11)"
            ]
          },
          "execution_count": 14,
          "metadata": {},
          "output_type": "execute_result"
        }
      ],
      "source": [
        "dataLabelled.shape"
      ]
    },
    {
      "cell_type": "code",
      "execution_count": 17,
      "metadata": {
        "colab": {
          "base_uri": "https://localhost:8080/",
          "height": 411
        },
        "id": "PlK5JTZWCUQb",
        "outputId": "32e01d1e-192d-4c31-bf0a-fddd919b56a7"
      },
      "outputs": [
        {
          "data": {
            "text/plain": [
              "<matplotlib.axes._subplots.AxesSubplot at 0x7f9bb79e6f70>"
            ]
          },
          "execution_count": 17,
          "metadata": {},
          "output_type": "execute_result"
        },
        {
          "data": {
            "image/png": "[encoded data removed]",
            "text/plain": [
              "<Figure size 576x432 with 1 Axes>"
            ]
          },
          "metadata": {},
          "output_type": "display_data"
        }
      ],
      "source": [
        "#plotting the benign and malicioud diagnosis \n",
        "plt.figure(figsize = (8,6))\n",
        "sns.countplot(x = 'class', data = dataLabelled)"
      ]
    },
    {
      "cell_type": "code",
      "execution_count": null,
      "metadata": {},
      "outputs": [],
      "source": [
        "# Getting the value count for the two labels in the diagnosis column\n",
        "value_count = dataLabelled['class'].value_counts() \n",
        "\n",
        "# Setting the figure size of the plot \n",
        "plt.figure(figsize = (18, 7))\n",
        "\n",
        "# Plotting the Count for the value counts in the diagnosis column\n",
        "value_count.plot(kind = \"bar\", color = \"brown\", rot=0)\n",
        "plt.ylabel(\"Counts\")\n",
        "plt.title(\"A bar chart showing the count of Benign and Malignant Labels\")\n",
        "plt.grid(True)\n",
        "plt.show() \n",
        "\n",
        "# Plotting a pie chart of the imbalanced dataset \n",
        "value_count.plot(kind = \"pie\", figsize=(18, 7))\n",
        "plt.title(\"A Pie Chart showing the count of Benign and Malignant Labels\")\n",
        "plt.show() \n",
        "\n",
        "# Printing the number of counts for the values of the labels in the diagnosis column \n",
        "B, M = value_count \n",
        "print(\"Number of Benign: {}\".format(B))\n",
        "print(\"Number of Malignant: {}\".format(M))"
      ]
    },
    {
      "cell_type": "code",
      "execution_count": null,
      "metadata": {},
      "outputs": [],
      "source": [
        "#creating a confusion matrix\n",
        "# plt.figure(figsize=(16,14))\n",
        "# sns.heatmap(dataLabelled.corr(), cmap='Greens', annot = True)\n",
        "# plt.title(\"Correlation Map\", fontweight = \"bold\", fontsize=16)\n",
        "\n",
        "#defining dependent and independent variables\n",
        "# x = dataLabelled.drop('class', axis=1)\n",
        "# y = dataLabelled['class']\n",
        "\n",
        "# Select upper triangle of correlation matrix\n",
        "# upper = dataLabelled.corr().where(np.triu(np.ones(dataLabelled.corr().shape), k=1).astype(np.bool))\n",
        "\n",
        "# Find features with correlation greater than 0.95\n",
        "#to_drop = [column for column in upper.columns if any(upper[column] > 0.95)]\n",
        "#print(to_drop)\n",
        "# Drop features \n",
        "#dataLabelled.drop(to_drop, axis=1, inplace=True)\n",
        "\n",
        "corr = dataLabelled.iloc[:,2:].corr()\n",
        "colormap = sns.diverging_palette(220, 10, as_cmap = True)\n",
        "plt.figure(figsize=(14,14))\n",
        "sns.heatmap(corr, cbar = True,  square = True, annot=True, fmt= '.2f',annot_kws={'size': 8},\n",
        "            cmap = colormap, linewidths=0.1, linecolor='white')\n",
        "plt.title('Correlation of df Features', y=1.05, size=15)"
      ]
    },
    {
      "cell_type": "code",
      "execution_count": null,
      "metadata": {},
      "outputs": [],
      "source": [
        "#defining dependent and independent variables\n",
        "x = dataLabelled.drop('class', axis=1)\n",
        "y = dataLabelled['class']"
      ]
    },
    {
      "cell_type": "code",
      "execution_count": null,
      "metadata": {},
      "outputs": [],
      "source": [
        "# Select upper triangle of correlation matrix\n",
        "upper = corr.where(np.triu(np.ones(corr.shape), k=1).astype(np.bool))\n",
        "\n",
        "# Find features with correlation greater than 0.95\n",
        "to_drop = [column for column in upper.columns if any(upper[column] > 0.8)]\n",
        "print(to_drop)\n",
        "# Drop features \n",
        "dataLabelled.drop(to_drop, axis=1, inplace=True)"
      ]
    },
    {
      "cell_type": "code",
      "execution_count": null,
      "metadata": {},
      "outputs": [],
      "source": [
        "len(dataLabelled.columns)"
      ]
    },
    {
      "cell_type": "code",
      "execution_count": null,
      "metadata": {},
      "outputs": [],
      "source": [
        "dataLabelled.isnull().sum()"
      ]
    },
    {
      "cell_type": "code",
      "execution_count": null,
      "metadata": {},
      "outputs": [],
      "source": [
        "from sklearn.preprocessing import LabelEncoder\n",
        "#creating the object\n",
        "lb = LabelEncoder()\n",
        "y = lb.fit_transform(y)"
      ]
    },
    {
      "cell_type": "code",
      "execution_count": null,
      "metadata": {},
      "outputs": [],
      "source": [
        "#splitting data into training and testing set\n",
        "from sklearn.model_selection import train_test_split\n",
        "x_train, x_test, y_train, y_test = train_test_split(x, y, test_size = 0.2, random_state = 30)"
      ]
    },
    {
      "cell_type": "code",
      "execution_count": null,
      "metadata": {},
      "outputs": [],
      "source": [
        "#importing keras\n",
        "import keras\n",
        "#importing sequential module\n",
        "from keras.models import Sequential\n",
        "# import dense module for hidden layers\n",
        "from keras.layers import Dense\n",
        "#importing activation functions\n",
        "from keras.layers import LeakyReLU,PReLU,ELU\n",
        "from keras.layers import Dropout"
      ]
    },
    {
      "cell_type": "code",
      "execution_count": null,
      "metadata": {},
      "outputs": [],
      "source": [
        "from tensorflow.keras.layers import BatchNormalization\n",
        "#CREATING THE ANN AS SEQUENCE OF LAYERS\n",
        "ann =Sequential()\n",
        "\n",
        "#ADDING FIRST HIDDEN LAYER WITH 30 NEURONS, THE INPUT LAYER WILL BE ADDED AUTOMATICALLY,\n",
        "ann.add(Dense(units = 30,activation = 'relu'))\n",
        "ann.add(BatchNormalization())\n",
        "ann.add(Dropout(0.5))\n",
        "\n",
        "#ADDING 2ND HIDDEN LAYER WITH 30 NEURONS\n",
        "ann.add(Dense(units = 30,activation = 'relu'))\n",
        "ann.add(BatchNormalization())\n",
        "ann.add(Dropout(0.5))\n",
        "\n",
        "#ADDING OUTPUT LAYER WITH 1 NEURON , AS THIS IS A BINARY CLASSIFICATION\n",
        "ann.add(Dense(units = 1,activation = 'sigmoid'))"
      ]
    }
  ],
  "metadata": {
    "colab": {
      "provenance": []
    },
    "kernelspec": {
      "display_name": "Python 3",
      "name": "python3"
    },
    "language_info": {
      "name": "python"
    }
  },
  "nbformat": 4,
  "nbformat_minor": 0
}

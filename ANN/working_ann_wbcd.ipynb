{
  "nbformat": 4,
  "nbformat_minor": 0,
  "metadata": {
    "colab": {
      "provenance": []
    },
    "kernelspec": {
      "name": "python3",
      "display_name": "Python 3"
    },
    "language_info": {
      "name": "python"
    }
  },
  "cells": [
    {
      "cell_type": "code",
      "execution_count": 1,
      "metadata": {
        "id": "qAkBuIEQvfkI"
      },
      "outputs": [],
      "source": [
        "#manipulation data libraries\n",
        "import pandas as pd\n",
        "import numpy as np\n",
        "\n",
        "#visualiation data libraries\n",
        "import matplotlib.pyplot as plt\n",
        "import seaborn as sns \n",
        "import matplotlib\n",
        "import plotly.graph_objects as go\n",
        "import plotly.express as px\n",
        "import sklearn as sk\n",
        "import tensorflow as tf\n",
        "import keras as ks"
      ]
    },
    {
      "cell_type": "code",
      "source": [
        "#set default theme\n",
        "sns.set(context='notebook', style='darkgrid', palette='colorblind', font='sans-serif', font_scale=1, rc=None)\n",
        "matplotlib.rcParams['figure.figsize'] =[8,8]\n",
        "matplotlib.rcParams.update({'font.size': 15})\n",
        "matplotlib.rcParams['font.family'] = 'sans-serif'"
      ],
      "metadata": {
        "id": "Hcd2-LOrvhuq"
      },
      "execution_count": 2,
      "outputs": []
    },
    {
      "cell_type": "code",
      "source": [
        "#import the dataset\n",
        "dataLabelled =  pd.read_csv('breast-cancer-wisconsin.data', sep=\",\", header=None, names=['id','clump_thickness','uniformity_of_cell_size','uniformity_of_cell_shape','marginal_adhesion','single_epithelial_cell_size','bare_nuclei','bland_chromatin','normal_nucleoli','mitoses','diagnosis'])\n",
        "print(dataLabelled.dtypes)"
      ],
      "metadata": {
        "colab": {
          "base_uri": "https://localhost:8080/"
        },
        "id": "GkSdPdRGvmEE",
        "outputId": "3bc8365f-58f5-4902-cff1-8e28dc928089"
      },
      "execution_count": 3,
      "outputs": [
        {
          "output_type": "stream",
          "name": "stdout",
          "text": [
            "id                              int64\n",
            "clump_thickness                 int64\n",
            "uniformity_of_cell_size         int64\n",
            "uniformity_of_cell_shape        int64\n",
            "marginal_adhesion               int64\n",
            "single_epithelial_cell_size     int64\n",
            "bare_nuclei                    object\n",
            "bland_chromatin                 int64\n",
            "normal_nucleoli                 int64\n",
            "mitoses                         int64\n",
            "diagnosis                       int64\n",
            "dtype: object\n"
          ]
        }
      ]
    },
    {
      "cell_type": "code",
      "source": [
        "#drop the 16 instances where bare_nuclei has a \"?\" as a value\n",
        "#the total value of instances is now 683\n",
        "dataLabelled.drop(dataLabelled[(dataLabelled['bare_nuclei'] == '?')].index, inplace=True)"
      ],
      "metadata": {
        "id": "8ToEC12-voY_"
      },
      "execution_count": 4,
      "outputs": []
    },
    {
      "cell_type": "code",
      "source": [
        "#check the data types and entries\n",
        "dataLabelled.info()"
      ],
      "metadata": {
        "colab": {
          "base_uri": "https://localhost:8080/"
        },
        "id": "FIBMA7AGvrI-",
        "outputId": "aef2ca32-85e0-49ca-a4ab-c5b27122fb4a"
      },
      "execution_count": 5,
      "outputs": [
        {
          "output_type": "stream",
          "name": "stdout",
          "text": [
            "<class 'pandas.core.frame.DataFrame'>\n",
            "Int64Index: 683 entries, 0 to 698\n",
            "Data columns (total 11 columns):\n",
            " #   Column                       Non-Null Count  Dtype \n",
            "---  ------                       --------------  ----- \n",
            " 0   id                           683 non-null    int64 \n",
            " 1   clump_thickness              683 non-null    int64 \n",
            " 2   uniformity_of_cell_size      683 non-null    int64 \n",
            " 3   uniformity_of_cell_shape     683 non-null    int64 \n",
            " 4   marginal_adhesion            683 non-null    int64 \n",
            " 5   single_epithelial_cell_size  683 non-null    int64 \n",
            " 6   bare_nuclei                  683 non-null    object\n",
            " 7   bland_chromatin              683 non-null    int64 \n",
            " 8   normal_nucleoli              683 non-null    int64 \n",
            " 9   mitoses                      683 non-null    int64 \n",
            " 10  diagnosis                    683 non-null    int64 \n",
            "dtypes: int64(10), object(1)\n",
            "memory usage: 64.0+ KB\n"
          ]
        }
      ]
    },
    {
      "cell_type": "code",
      "source": [
        "#convert the bare_nuclei column from object type to a float64\n",
        "dataLabelled['bare_nuclei'] = pd.to_numeric(dataLabelled['bare_nuclei'],errors='coerce')"
      ],
      "metadata": {
        "id": "hYoOrazovtn_"
      },
      "execution_count": 6,
      "outputs": []
    },
    {
      "cell_type": "code",
      "source": [
        "#replace the 2 (benign ) and 4 (malignant) with 0 and 1\n",
        "dataLabelled['diagnosis'].replace({2:0,4:1},inplace=True)"
      ],
      "metadata": {
        "id": "Ien3aVCTvvcx"
      },
      "execution_count": 7,
      "outputs": []
    },
    {
      "cell_type": "code",
      "source": [
        "#plot the benign and malicious diagnosis \n",
        "plt.figure(figsize = (8,6))\n",
        "sns.countplot(x = 'diagnosis', data = dataLabelled)"
      ],
      "metadata": {
        "colab": {
          "base_uri": "https://localhost:8080/",
          "height": 411
        },
        "id": "nErZ6NvFvzQH",
        "outputId": "18f34b5b-57cc-43d9-f110-64bc1c206e3d"
      },
      "execution_count": 8,
      "outputs": [
        {
          "output_type": "execute_result",
          "data": {
            "text/plain": [
              "<matplotlib.axes._subplots.AxesSubplot at 0x7f7bac399850>"
            ]
          },
          "metadata": {},
          "execution_count": 8
        },
        {
          "output_type": "display_data",
          "data": {
            "text/plain": [
              "<Figure size 576x432 with 1 Axes>"
            ],
            "image/png": "[encoded data removed]"
          },
          "metadata": {}
        }
      ]
    },
    {
      "cell_type": "code",
      "source": [
        "#more plotting but didn't work\n",
        "from plotly.offline import init_notebook_mode, iplot\n",
        "init_notebook_mode(connected=True)\n",
        "fig = px.pie(dataLabelled, values=dataLabelled['diagnosis'].value_counts().values, names=dataLabelled['diagnosis'].value_counts().index)\n",
        "fig.show()"
      ],
      "metadata": {
        "colab": {
          "base_uri": "https://localhost:8080/",
          "height": 542
        },
        "id": "GJ9z1j49m85E",
        "outputId": "8a4b95ce-265f-41a2-eb78-6927cbabf182"
      },
      "execution_count": 12,
      "outputs": [
        {
          "output_type": "display_data",
          "data": {
            "text/html": [
              "        <script type=\"text/javascript\">\n",
              "        window.PlotlyConfig = {MathJaxConfig: 'local'};\n",
              "        if (window.MathJax) {MathJax.Hub.Config({SVG: {font: \"STIX-Web\"}});}\n",
              "        if (typeof require !== 'undefined') {\n",
              "        require.undef(\"plotly\");\n",
              "        requirejs.config({\n",
              "            paths: {\n",
              "                'plotly': ['https://cdn.plot.ly/plotly-2.8.3.min']\n",
              "            }\n",
              "        });\n",
              "        require(['plotly'], function(Plotly) {\n",
              "            window._Plotly = Plotly;\n",
              "        });\n",
              "        }\n",
              "        </script>\n",
              "        "
            ]
          },
          "metadata": {}
        },
        {
          "output_type": "display_data",
          "data": {
            "application/vnd.plotly.v1+json": {
              "data": [
                {
                  "domain": {
                    "x": [
                      0,
                      1
                    ],
                    "y": [
                      0,
                      1
                    ]
                  },
                  "hovertemplate": "label=%{label}<br>value=%{value}<extra></extra>",
                  "labels": [
                    0,
                    1
                  ],
                  "legendgroup": "",
                  "name": "",
                  "showlegend": true,
                  "values": [
                    444,
                    239
                  ],
                  "type": "pie"
                }
              ],
              "layout": {
                "template": {
                  "data": {
                    "bar": [
                      {
                        "error_x": {
                          "color": "#2a3f5f"
                        },
                        "error_y": {
                          "color": "#2a3f5f"
                        },
                        "marker": {
                          "line": {
                            "color": "#E5ECF6",
                            "width": 0.5
                          },
                          "pattern": {
                            "fillmode": "overlay",
                            "size": 10,
                            "solidity": 0.2
                          }
                        },
                        "type": "bar"
                      }
                    ],
                    "barpolar": [
                      {
                        "marker": {
                          "line": {
                            "color": "#E5ECF6",
                            "width": 0.5
                          },
                          "pattern": {
                            "fillmode": "overlay",
                            "size": 10,
                            "solidity": 0.2
                          }
                        },
                        "type": "barpolar"
                      }
                    ],
                    "carpet": [
                      {
                        "aaxis": {
                          "endlinecolor": "#2a3f5f",
                          "gridcolor": "white",
                          "linecolor": "white",
                          "minorgridcolor": "white",
                          "startlinecolor": "#2a3f5f"
                        },
                        "baxis": {
                          "endlinecolor": "#2a3f5f",
                          "gridcolor": "white",
                          "linecolor": "white",
                          "minorgridcolor": "white",
                          "startlinecolor": "#2a3f5f"
                        },
                        "type": "carpet"
                      }
                    ],
                    "choropleth": [
                      {
                        "colorbar": {
                          "outlinewidth": 0,
                          "ticks": ""
                        },
                        "type": "choropleth"
                      }
                    ],
                    "contour": [
                      {
                        "colorbar": {
                          "outlinewidth": 0,
                          "ticks": ""
                        },
                        "colorscale": [
                          [
                            0,
                            "#0d0887"
                          ],
                          [
                            0.1111111111111111,
                            "#46039f"
                          ],
                          [
                            0.2222222222222222,
                            "#7201a8"
                          ],
                          [
                            0.3333333333333333,
                            "#9c179e"
                          ],
                          [
                            0.4444444444444444,
                            "#bd3786"
                          ],
                          [
                            0.5555555555555556,
                            "#d8576b"
                          ],
                          [
                            0.6666666666666666,
                            "#ed7953"
                          ],
                          [
                            0.7777777777777778,
                            "#fb9f3a"
                          ],
                          [
                            0.8888888888888888,
                            "#fdca26"
                          ],
                          [
                            1,
                            "#f0f921"
                          ]
                        ],
                        "type": "contour"
                      }
                    ],
                    "contourcarpet": [
                      {
                        "colorbar": {
                          "outlinewidth": 0,
                          "ticks": ""
                        },
                        "type": "contourcarpet"
                      }
                    ],
                    "heatmap": [
                      {
                        "colorbar": {
                          "outlinewidth": 0,
                          "ticks": ""
                        },
                        "colorscale": [
                          [
                            0,
                            "#0d0887"
                          ],
                          [
                            0.1111111111111111,
                            "#46039f"
                          ],
                          [
                            0.2222222222222222,
                            "#7201a8"
                          ],
                          [
                            0.3333333333333333,
                            "#9c179e"
                          ],
                          [
                            0.4444444444444444,
                            "#bd3786"
                          ],
                          [
                            0.5555555555555556,
                            "#d8576b"
                          ],
                          [
                            0.6666666666666666,
                            "#ed7953"
                          ],
                          [
                            0.7777777777777778,
                            "#fb9f3a"
                          ],
                          [
                            0.8888888888888888,
                            "#fdca26"
                          ],
                          [
                            1,
                            "#f0f921"
                          ]
                        ],
                        "type": "heatmap"
                      }
                    ],
                    "heatmapgl": [
                      {
                        "colorbar": {
                          "outlinewidth": 0,
                          "ticks": ""
                        },
                        "colorscale": [
                          [
                            0,
                            "#0d0887"
                          ],
                          [
                            0.1111111111111111,
                            "#46039f"
                          ],
                          [
                            0.2222222222222222,
                            "#7201a8"
                          ],
                          [
                            0.3333333333333333,
                            "#9c179e"
                          ],
                          [
                            0.4444444444444444,
                            "#bd3786"
                          ],
                          [
                            0.5555555555555556,
                            "#d8576b"
                          ],
                          [
                            0.6666666666666666,
                            "#ed7953"
                          ],
                          [
                            0.7777777777777778,
                            "#fb9f3a"
                          ],
                          [
                            0.8888888888888888,
                            "#fdca26"
                          ],
                          [
                            1,
                            "#f0f921"
                          ]
                        ],
                        "type": "heatmapgl"
                      }
                    ],
                    "histogram": [
                      {
                        "marker": {
                          "pattern": {
                            "fillmode": "overlay",
                            "size": 10,
                            "solidity": 0.2
                          }
                        },
                        "type": "histogram"
                      }
                    ],
                    "histogram2d": [
                      {
                        "colorbar": {
                          "outlinewidth": 0,
                          "ticks": ""
                        },
                        "colorscale": [
                          [
                            0,
                            "#0d0887"
                          ],
                          [
                            0.1111111111111111,
                            "#46039f"
                          ],
                          [
                            0.2222222222222222,
                            "#7201a8"
                          ],
                          [
                            0.3333333333333333,
                            "#9c179e"
                          ],
                          [
                            0.4444444444444444,
                            "#bd3786"
                          ],
                          [
                            0.5555555555555556,
                            "#d8576b"
                          ],
                          [
                            0.6666666666666666,
                            "#ed7953"
                          ],
                          [
                            0.7777777777777778,
                            "#fb9f3a"
                          ],
                          [
                            0.8888888888888888,
                            "#fdca26"
                          ],
                          [
                            1,
                            "#f0f921"
                          ]
                        ],
                        "type": "histogram2d"
                      }
                    ],
                    "histogram2dcontour": [
                      {
                        "colorbar": {
                          "outlinewidth": 0,
                          "ticks": ""
                        },
                        "colorscale": [
                          [
                            0,
                            "#0d0887"
                          ],
                          [
                            0.1111111111111111,
                            "#46039f"
                          ],
                          [
                            0.2222222222222222,
                            "#7201a8"
                          ],
                          [
                            0.3333333333333333,
                            "#9c179e"
                          ],
                          [
                            0.4444444444444444,
                            "#bd3786"
                          ],
                          [
                            0.5555555555555556,
                            "#d8576b"
                          ],
                          [
                            0.6666666666666666,
                            "#ed7953"
                          ],
                          [
                            0.7777777777777778,
                            "#fb9f3a"
                          ],
                          [
                            0.8888888888888888,
                            "#fdca26"
                          ],
                          [
                            1,
                            "#f0f921"
                          ]
                        ],
                        "type": "histogram2dcontour"
                      }
                    ],
                    "mesh3d": [
                      {
                        "colorbar": {
                          "outlinewidth": 0,
                          "ticks": ""
                        },
                        "type": "mesh3d"
                      }
                    ],
                    "parcoords": [
                      {
                        "line": {
                          "colorbar": {
                            "outlinewidth": 0,
                            "ticks": ""
                          }
                        },
                        "type": "parcoords"
                      }
                    ],
                    "pie": [
                      {
                        "automargin": true,
                        "type": "pie"
                      }
                    ],
                    "scatter": [
                      {
                        "marker": {
                          "colorbar": {
                            "outlinewidth": 0,
                            "ticks": ""
                          }
                        },
                        "type": "scatter"
                      }
                    ],
                    "scatter3d": [
                      {
                        "line": {
                          "colorbar": {
                            "outlinewidth": 0,
                            "ticks": ""
                          }
                        },
                        "marker": {
                          "colorbar": {
                            "outlinewidth": 0,
                            "ticks": ""
                          }
                        },
                        "type": "scatter3d"
                      }
                    ],
                    "scattercarpet": [
                      {
                        "marker": {
                          "colorbar": {
                            "outlinewidth": 0,
                            "ticks": ""
                          }
                        },
                        "type": "scattercarpet"
                      }
                    ],
                    "scattergeo": [
                      {
                        "marker": {
                          "colorbar": {
                            "outlinewidth": 0,
                            "ticks": ""
                          }
                        },
                        "type": "scattergeo"
                      }
                    ],
                    "scattergl": [
                      {
                        "marker": {
                          "colorbar": {
                            "outlinewidth": 0,
                            "ticks": ""
                          }
                        },
                        "type": "scattergl"
                      }
                    ],
                    "scattermapbox": [
                      {
                        "marker": {
                          "colorbar": {
                            "outlinewidth": 0,
                            "ticks": ""
                          }
                        },
                        "type": "scattermapbox"
                      }
                    ],
                    "scatterpolar": [
                      {
                        "marker": {
                          "colorbar": {
                            "outlinewidth": 0,
                            "ticks": ""
                          }
                        },
                        "type": "scatterpolar"
                      }
                    ],
                    "scatterpolargl": [
                      {
                        "marker": {
                          "colorbar": {
                            "outlinewidth": 0,
                            "ticks": ""
                          }
                        },
                        "type": "scatterpolargl"
                      }
                    ],
                    "scatterternary": [
                      {
                        "marker": {
                          "colorbar": {
                            "outlinewidth": 0,
                            "ticks": ""
                          }
                        },
                        "type": "scatterternary"
                      }
                    ],
                    "surface": [
                      {
                        "colorbar": {
                          "outlinewidth": 0,
                          "ticks": ""
                        },
                        "colorscale": [
                          [
                            0,
                            "#0d0887"
                          ],
                          [
                            0.1111111111111111,
                            "#46039f"
                          ],
                          [
                            0.2222222222222222,
                            "#7201a8"
                          ],
                          [
                            0.3333333333333333,
                            "#9c179e"
                          ],
                          [
                            0.4444444444444444,
                            "#bd3786"
                          ],
                          [
                            0.5555555555555556,
                            "#d8576b"
                          ],
                          [
                            0.6666666666666666,
                            "#ed7953"
                          ],
                          [
                            0.7777777777777778,
                            "#fb9f3a"
                          ],
                          [
                            0.8888888888888888,
                            "#fdca26"
                          ],
                          [
                            1,
                            "#f0f921"
                          ]
                        ],
                        "type": "surface"
                      }
                    ],
                    "table": [
                      {
                        "cells": {
                          "fill": {
                            "color": "#EBF0F8"
                          },
                          "line": {
                            "color": "white"
                          }
                        },
                        "header": {
                          "fill": {
                            "color": "#C8D4E3"
                          },
                          "line": {
                            "color": "white"
                          }
                        },
                        "type": "table"
                      }
                    ]
                  },
                  "layout": {
                    "annotationdefaults": {
                      "arrowcolor": "#2a3f5f",
                      "arrowhead": 0,
                      "arrowwidth": 1
                    },
                    "autotypenumbers": "strict",
                    "coloraxis": {
                      "colorbar": {
                        "outlinewidth": 0,
                        "ticks": ""
                      }
                    },
                    "colorscale": {
                      "diverging": [
                        [
                          0,
                          "#8e0152"
                        ],
                        [
                          0.1,
                          "#c51b7d"
                        ],
                        [
                          0.2,
                          "#de77ae"
                        ],
                        [
                          0.3,
                          "#f1b6da"
                        ],
                        [
                          0.4,
                          "#fde0ef"
                        ],
                        [
                          0.5,
                          "#f7f7f7"
                        ],
                        [
                          0.6,
                          "#e6f5d0"
                        ],
                        [
                          0.7,
                          "#b8e186"
                        ],
                        [
                          0.8,
                          "#7fbc41"
                        ],
                        [
                          0.9,
                          "#4d9221"
                        ],
                        [
                          1,
                          "#276419"
                        ]
                      ],
                      "sequential": [
                        [
                          0,
                          "#0d0887"
                        ],
                        [
                          0.1111111111111111,
                          "#46039f"
                        ],
                        [
                          0.2222222222222222,
                          "#7201a8"
                        ],
                        [
                          0.3333333333333333,
                          "#9c179e"
                        ],
                        [
                          0.4444444444444444,
                          "#bd3786"
                        ],
                        [
                          0.5555555555555556,
                          "#d8576b"
                        ],
                        [
                          0.6666666666666666,
                          "#ed7953"
                        ],
                        [
                          0.7777777777777778,
                          "#fb9f3a"
                        ],
                        [
                          0.8888888888888888,
                          "#fdca26"
                        ],
                        [
                          1,
                          "#f0f921"
                        ]
                      ],
                      "sequentialminus": [
                        [
                          0,
                          "#0d0887"
                        ],
                        [
                          0.1111111111111111,
                          "#46039f"
                        ],
                        [
                          0.2222222222222222,
                          "#7201a8"
                        ],
                        [
                          0.3333333333333333,
                          "#9c179e"
                        ],
                        [
                          0.4444444444444444,
                          "#bd3786"
                        ],
                        [
                          0.5555555555555556,
                          "#d8576b"
                        ],
                        [
                          0.6666666666666666,
                          "#ed7953"
                        ],
                        [
                          0.7777777777777778,
                          "#fb9f3a"
                        ],
                        [
                          0.8888888888888888,
                          "#fdca26"
                        ],
                        [
                          1,
                          "#f0f921"
                        ]
                      ]
                    },
                    "colorway": [
                      "#636efa",
                      "#EF553B",
                      "#00cc96",
                      "#ab63fa",
                      "#FFA15A",
                      "#19d3f3",
                      "#FF6692",
                      "#B6E880",
                      "#FF97FF",
                      "#FECB52"
                    ],
                    "font": {
                      "color": "#2a3f5f"
                    },
                    "geo": {
                      "bgcolor": "white",
                      "lakecolor": "white",
                      "landcolor": "#E5ECF6",
                      "showlakes": true,
                      "showland": true,
                      "subunitcolor": "white"
                    },
                    "hoverlabel": {
                      "align": "left"
                    },
                    "hovermode": "closest",
                    "mapbox": {
                      "style": "light"
                    },
                    "paper_bgcolor": "white",
                    "plot_bgcolor": "#E5ECF6",
                    "polar": {
                      "angularaxis": {
                        "gridcolor": "white",
                        "linecolor": "white",
                        "ticks": ""
                      },
                      "bgcolor": "#E5ECF6",
                      "radialaxis": {
                        "gridcolor": "white",
                        "linecolor": "white",
                        "ticks": ""
                      }
                    },
                    "scene": {
                      "xaxis": {
                        "backgroundcolor": "#E5ECF6",
                        "gridcolor": "white",
                        "gridwidth": 2,
                        "linecolor": "white",
                        "showbackground": true,
                        "ticks": "",
                        "zerolinecolor": "white"
                      },
                      "yaxis": {
                        "backgroundcolor": "#E5ECF6",
                        "gridcolor": "white",
                        "gridwidth": 2,
                        "linecolor": "white",
                        "showbackground": true,
                        "ticks": "",
                        "zerolinecolor": "white"
                      },
                      "zaxis": {
                        "backgroundcolor": "#E5ECF6",
                        "gridcolor": "white",
                        "gridwidth": 2,
                        "linecolor": "white",
                        "showbackground": true,
                        "ticks": "",
                        "zerolinecolor": "white"
                      }
                    },
                    "shapedefaults": {
                      "line": {
                        "color": "#2a3f5f"
                      }
                    },
                    "ternary": {
                      "aaxis": {
                        "gridcolor": "white",
                        "linecolor": "white",
                        "ticks": ""
                      },
                      "baxis": {
                        "gridcolor": "white",
                        "linecolor": "white",
                        "ticks": ""
                      },
                      "bgcolor": "#E5ECF6",
                      "caxis": {
                        "gridcolor": "white",
                        "linecolor": "white",
                        "ticks": ""
                      }
                    },
                    "title": {
                      "x": 0.05
                    },
                    "xaxis": {
                      "automargin": true,
                      "gridcolor": "white",
                      "linecolor": "white",
                      "ticks": "",
                      "title": {
                        "standoff": 15
                      },
                      "zerolinecolor": "white",
                      "zerolinewidth": 2
                    },
                    "yaxis": {
                      "automargin": true,
                      "gridcolor": "white",
                      "linecolor": "white",
                      "ticks": "",
                      "title": {
                        "standoff": 15
                      },
                      "zerolinecolor": "white",
                      "zerolinewidth": 2
                    }
                  }
                },
                "legend": {
                  "tracegroupgap": 0
                },
                "margin": {
                  "t": 60
                }
              },
              "config": {
                "plotlyServerURL": "https://plot.ly"
              }
            },
            "text/html": [
              "<div>                            <div id=\"6ccbd5ad-0807-4873-86f1-c77907602e6c\" class=\"plotly-graph-div\" style=\"height:525px; width:100%;\"></div>            <script type=\"text/javascript\">                require([\"plotly\"], function(Plotly) {                    window.PLOTLYENV=window.PLOTLYENV || {};                                    if (document.getElementById(\"6ccbd5ad-0807-4873-86f1-c77907602e6c\")) {                    Plotly.newPlot(                        \"6ccbd5ad-0807-4873-86f1-c77907602e6c\",                        [{\"domain\":{\"x\":[0.0,1.0],\"y\":[0.0,1.0]},\"hovertemplate\":\"label=%{label}<br>value=%{value}<extra></extra>\",\"labels\":[0,1],\"legendgroup\":\"\",\"name\":\"\",\"showlegend\":true,\"values\":[444,239],\"type\":\"pie\"}],                        {\"template\":{\"data\":{\"bar\":[{\"error_x\":{\"color\":\"#2a3f5f\"},\"error_y\":{\"color\":\"#2a3f5f\"},\"marker\":{\"line\":{\"color\":\"#E5ECF6\",\"width\":0.5},\"pattern\":{\"fillmode\":\"overlay\",\"size\":10,\"solidity\":0.2}},\"type\":\"bar\"}],\"barpolar\":[{\"marker\":{\"line\":{\"color\":\"#E5ECF6\",\"width\":0.5},\"pattern\":{\"fillmode\":\"overlay\",\"size\":10,\"solidity\":0.2}},\"type\":\"barpolar\"}],\"carpet\":[{\"aaxis\":{\"endlinecolor\":\"#2a3f5f\",\"gridcolor\":\"white\",\"linecolor\":\"white\",\"minorgridcolor\":\"white\",\"startlinecolor\":\"#2a3f5f\"},\"baxis\":{\"endlinecolor\":\"#2a3f5f\",\"gridcolor\":\"white\",\"linecolor\":\"white\",\"minorgridcolor\":\"white\",\"startlinecolor\":\"#2a3f5f\"},\"type\":\"carpet\"}],\"choropleth\":[{\"colorbar\":{\"outlinewidth\":0,\"ticks\":\"\"},\"type\":\"choropleth\"}],\"contour\":[{\"colorbar\":{\"outlinewidth\":0,\"ticks\":\"\"},\"colorscale\":[[0.0,\"#0d0887\"],[0.1111111111111111,\"#46039f\"],[0.2222222222222222,\"#7201a8\"],[0.3333333333333333,\"#9c179e\"],[0.4444444444444444,\"#bd3786\"],[0.5555555555555556,\"#d8576b\"],[0.6666666666666666,\"#ed7953\"],[0.7777777777777778,\"#fb9f3a\"],[0.8888888888888888,\"#fdca26\"],[1.0,\"#f0f921\"]],\"type\":\"contour\"}],\"contourcarpet\":[{\"colorbar\":{\"outlinewidth\":0,\"ticks\":\"\"},\"type\":\"contourcarpet\"}],\"heatmap\":[{\"colorbar\":{\"outlinewidth\":0,\"ticks\":\"\"},\"colorscale\":[[0.0,\"#0d0887\"],[0.1111111111111111,\"#46039f\"],[0.2222222222222222,\"#7201a8\"],[0.3333333333333333,\"#9c179e\"],[0.4444444444444444,\"#bd3786\"],[0.5555555555555556,\"#d8576b\"],[0.6666666666666666,\"#ed7953\"],[0.7777777777777778,\"#fb9f3a\"],[0.8888888888888888,\"#fdca26\"],[1.0,\"#f0f921\"]],\"type\":\"heatmap\"}],\"heatmapgl\":[{\"colorbar\":{\"outlinewidth\":0,\"ticks\":\"\"},\"colorscale\":[[0.0,\"#0d0887\"],[0.1111111111111111,\"#46039f\"],[0.2222222222222222,\"#7201a8\"],[0.3333333333333333,\"#9c179e\"],[0.4444444444444444,\"#bd3786\"],[0.5555555555555556,\"#d8576b\"],[0.6666666666666666,\"#ed7953\"],[0.7777777777777778,\"#fb9f3a\"],[0.8888888888888888,\"#fdca26\"],[1.0,\"#f0f921\"]],\"type\":\"heatmapgl\"}],\"histogram\":[{\"marker\":{\"pattern\":{\"fillmode\":\"overlay\",\"size\":10,\"solidity\":0.2}},\"type\":\"histogram\"}],\"histogram2d\":[{\"colorbar\":{\"outlinewidth\":0,\"ticks\":\"\"},\"colorscale\":[[0.0,\"#0d0887\"],[0.1111111111111111,\"#46039f\"],[0.2222222222222222,\"#7201a8\"],[0.3333333333333333,\"#9c179e\"],[0.4444444444444444,\"#bd3786\"],[0.5555555555555556,\"#d8576b\"],[0.6666666666666666,\"#ed7953\"],[0.7777777777777778,\"#fb9f3a\"],[0.8888888888888888,\"#fdca26\"],[1.0,\"#f0f921\"]],\"type\":\"histogram2d\"}],\"histogram2dcontour\":[{\"colorbar\":{\"outlinewidth\":0,\"ticks\":\"\"},\"colorscale\":[[0.0,\"#0d0887\"],[0.1111111111111111,\"#46039f\"],[0.2222222222222222,\"#7201a8\"],[0.3333333333333333,\"#9c179e\"],[0.4444444444444444,\"#bd3786\"],[0.5555555555555556,\"#d8576b\"],[0.6666666666666666,\"#ed7953\"],[0.7777777777777778,\"#fb9f3a\"],[0.8888888888888888,\"#fdca26\"],[1.0,\"#f0f921\"]],\"type\":\"histogram2dcontour\"}],\"mesh3d\":[{\"colorbar\":{\"outlinewidth\":0,\"ticks\":\"\"},\"type\":\"mesh3d\"}],\"parcoords\":[{\"line\":{\"colorbar\":{\"outlinewidth\":0,\"ticks\":\"\"}},\"type\":\"parcoords\"}],\"pie\":[{\"automargin\":true,\"type\":\"pie\"}],\"scatter\":[{\"marker\":{\"colorbar\":{\"outlinewidth\":0,\"ticks\":\"\"}},\"type\":\"scatter\"}],\"scatter3d\":[{\"line\":{\"colorbar\":{\"outlinewidth\":0,\"ticks\":\"\"}},\"marker\":{\"colorbar\":{\"outlinewidth\":0,\"ticks\":\"\"}},\"type\":\"scatter3d\"}],\"scattercarpet\":[{\"marker\":{\"colorbar\":{\"outlinewidth\":0,\"ticks\":\"\"}},\"type\":\"scattercarpet\"}],\"scattergeo\":[{\"marker\":{\"colorbar\":{\"outlinewidth\":0,\"ticks\":\"\"}},\"type\":\"scattergeo\"}],\"scattergl\":[{\"marker\":{\"colorbar\":{\"outlinewidth\":0,\"ticks\":\"\"}},\"type\":\"scattergl\"}],\"scattermapbox\":[{\"marker\":{\"colorbar\":{\"outlinewidth\":0,\"ticks\":\"\"}},\"type\":\"scattermapbox\"}],\"scatterpolar\":[{\"marker\":{\"colorbar\":{\"outlinewidth\":0,\"ticks\":\"\"}},\"type\":\"scatterpolar\"}],\"scatterpolargl\":[{\"marker\":{\"colorbar\":{\"outlinewidth\":0,\"ticks\":\"\"}},\"type\":\"scatterpolargl\"}],\"scatterternary\":[{\"marker\":{\"colorbar\":{\"outlinewidth\":0,\"ticks\":\"\"}},\"type\":\"scatterternary\"}],\"surface\":[{\"colorbar\":{\"outlinewidth\":0,\"ticks\":\"\"},\"colorscale\":[[0.0,\"#0d0887\"],[0.1111111111111111,\"#46039f\"],[0.2222222222222222,\"#7201a8\"],[0.3333333333333333,\"#9c179e\"],[0.4444444444444444,\"#bd3786\"],[0.5555555555555556,\"#d8576b\"],[0.6666666666666666,\"#ed7953\"],[0.7777777777777778,\"#fb9f3a\"],[0.8888888888888888,\"#fdca26\"],[1.0,\"#f0f921\"]],\"type\":\"surface\"}],\"table\":[{\"cells\":{\"fill\":{\"color\":\"#EBF0F8\"},\"line\":{\"color\":\"white\"}},\"header\":{\"fill\":{\"color\":\"#C8D4E3\"},\"line\":{\"color\":\"white\"}},\"type\":\"table\"}]},\"layout\":{\"annotationdefaults\":{\"arrowcolor\":\"#2a3f5f\",\"arrowhead\":0,\"arrowwidth\":1},\"autotypenumbers\":\"strict\",\"coloraxis\":{\"colorbar\":{\"outlinewidth\":0,\"ticks\":\"\"}},\"colorscale\":{\"diverging\":[[0,\"#8e0152\"],[0.1,\"#c51b7d\"],[0.2,\"#de77ae\"],[0.3,\"#f1b6da\"],[0.4,\"#fde0ef\"],[0.5,\"#f7f7f7\"],[0.6,\"#e6f5d0\"],[0.7,\"#b8e186\"],[0.8,\"#7fbc41\"],[0.9,\"#4d9221\"],[1,\"#276419\"]],\"sequential\":[[0.0,\"#0d0887\"],[0.1111111111111111,\"#46039f\"],[0.2222222222222222,\"#7201a8\"],[0.3333333333333333,\"#9c179e\"],[0.4444444444444444,\"#bd3786\"],[0.5555555555555556,\"#d8576b\"],[0.6666666666666666,\"#ed7953\"],[0.7777777777777778,\"#fb9f3a\"],[0.8888888888888888,\"#fdca26\"],[1.0,\"#f0f921\"]],\"sequentialminus\":[[0.0,\"#0d0887\"],[0.1111111111111111,\"#46039f\"],[0.2222222222222222,\"#7201a8\"],[0.3333333333333333,\"#9c179e\"],[0.4444444444444444,\"#bd3786\"],[0.5555555555555556,\"#d8576b\"],[0.6666666666666666,\"#ed7953\"],[0.7777777777777778,\"#fb9f3a\"],[0.8888888888888888,\"#fdca26\"],[1.0,\"#f0f921\"]]},\"colorway\":[\"#636efa\",\"#EF553B\",\"#00cc96\",\"#ab63fa\",\"#FFA15A\",\"#19d3f3\",\"#FF6692\",\"#B6E880\",\"#FF97FF\",\"#FECB52\"],\"font\":{\"color\":\"#2a3f5f\"},\"geo\":{\"bgcolor\":\"white\",\"lakecolor\":\"white\",\"landcolor\":\"#E5ECF6\",\"showlakes\":true,\"showland\":true,\"subunitcolor\":\"white\"},\"hoverlabel\":{\"align\":\"left\"},\"hovermode\":\"closest\",\"mapbox\":{\"style\":\"light\"},\"paper_bgcolor\":\"white\",\"plot_bgcolor\":\"#E5ECF6\",\"polar\":{\"angularaxis\":{\"gridcolor\":\"white\",\"linecolor\":\"white\",\"ticks\":\"\"},\"bgcolor\":\"#E5ECF6\",\"radialaxis\":{\"gridcolor\":\"white\",\"linecolor\":\"white\",\"ticks\":\"\"}},\"scene\":{\"xaxis\":{\"backgroundcolor\":\"#E5ECF6\",\"gridcolor\":\"white\",\"gridwidth\":2,\"linecolor\":\"white\",\"showbackground\":true,\"ticks\":\"\",\"zerolinecolor\":\"white\"},\"yaxis\":{\"backgroundcolor\":\"#E5ECF6\",\"gridcolor\":\"white\",\"gridwidth\":2,\"linecolor\":\"white\",\"showbackground\":true,\"ticks\":\"\",\"zerolinecolor\":\"white\"},\"zaxis\":{\"backgroundcolor\":\"#E5ECF6\",\"gridcolor\":\"white\",\"gridwidth\":2,\"linecolor\":\"white\",\"showbackground\":true,\"ticks\":\"\",\"zerolinecolor\":\"white\"}},\"shapedefaults\":{\"line\":{\"color\":\"#2a3f5f\"}},\"ternary\":{\"aaxis\":{\"gridcolor\":\"white\",\"linecolor\":\"white\",\"ticks\":\"\"},\"baxis\":{\"gridcolor\":\"white\",\"linecolor\":\"white\",\"ticks\":\"\"},\"bgcolor\":\"#E5ECF6\",\"caxis\":{\"gridcolor\":\"white\",\"linecolor\":\"white\",\"ticks\":\"\"}},\"title\":{\"x\":0.05},\"xaxis\":{\"automargin\":true,\"gridcolor\":\"white\",\"linecolor\":\"white\",\"ticks\":\"\",\"title\":{\"standoff\":15},\"zerolinecolor\":\"white\",\"zerolinewidth\":2},\"yaxis\":{\"automargin\":true,\"gridcolor\":\"white\",\"linecolor\":\"white\",\"ticks\":\"\",\"title\":{\"standoff\":15},\"zerolinecolor\":\"white\",\"zerolinewidth\":2}}},\"legend\":{\"tracegroupgap\":0},\"margin\":{\"t\":60}},                        {\"responsive\": true}                    ).then(function(){\n",
              "                            \n",
              "var gd = document.getElementById('6ccbd5ad-0807-4873-86f1-c77907602e6c');\n",
              "var x = new MutationObserver(function (mutations, observer) {{\n",
              "        var display = window.getComputedStyle(gd).display;\n",
              "        if (!display || display === 'none') {{\n",
              "            console.log([gd, 'removed!']);\n",
              "            Plotly.purge(gd);\n",
              "            observer.disconnect();\n",
              "        }}\n",
              "}});\n",
              "\n",
              "// Listen for the removal of the full notebook cells\n",
              "var notebookContainer = gd.closest('#notebook-container');\n",
              "if (notebookContainer) {{\n",
              "    x.observe(notebookContainer, {childList: true});\n",
              "}}\n",
              "\n",
              "// Listen for the clearing of the current output cell\n",
              "var outputEl = gd.closest('.output');\n",
              "if (outputEl) {{\n",
              "    x.observe(outputEl, {childList: true});\n",
              "}}\n",
              "\n",
              "                        })                };                });            </script>        </div>"
            ]
          },
          "metadata": {}
        }
      ]
    },
    {
      "cell_type": "code",
      "source": [
        "# drop the id columns\n",
        "dataLabelled.drop('id',axis=1, inplace=True)"
      ],
      "metadata": {
        "id": "Inu4JIGKv67D"
      },
      "execution_count": 13,
      "outputs": []
    },
    {
      "cell_type": "code",
      "source": [
        "#display the dataframe that will be used\n",
        "dataLabelled.describe().transpose()"
      ],
      "metadata": {
        "colab": {
          "base_uri": "https://localhost:8080/",
          "height": 363
        },
        "id": "Bhyd5FLgv8o_",
        "outputId": "3bc070d8-4a8d-43ee-f07a-084d7a782af9"
      },
      "execution_count": 14,
      "outputs": [
        {
          "output_type": "execute_result",
          "data": {
            "text/plain": [
              "                             count      mean       std  min  25%  50%  75%  \\\n",
              "clump_thickness              683.0  4.442167  2.820761  1.0  2.0  4.0  6.0   \n",
              "uniformity_of_cell_size      683.0  3.150805  3.065145  1.0  1.0  1.0  5.0   \n",
              "uniformity_of_cell_shape     683.0  3.215227  2.988581  1.0  1.0  1.0  5.0   \n",
              "marginal_adhesion            683.0  2.830161  2.864562  1.0  1.0  1.0  4.0   \n",
              "single_epithelial_cell_size  683.0  3.234261  2.223085  1.0  2.0  2.0  4.0   \n",
              "bare_nuclei                  683.0  3.544656  3.643857  1.0  1.0  1.0  6.0   \n",
              "bland_chromatin              683.0  3.445095  2.449697  1.0  2.0  3.0  5.0   \n",
              "normal_nucleoli              683.0  2.869693  3.052666  1.0  1.0  1.0  4.0   \n",
              "mitoses                      683.0  1.603221  1.732674  1.0  1.0  1.0  1.0   \n",
              "diagnosis                    683.0  0.349927  0.477296  0.0  0.0  0.0  1.0   \n",
              "\n",
              "                              max  \n",
              "clump_thickness              10.0  \n",
              "uniformity_of_cell_size      10.0  \n",
              "uniformity_of_cell_shape     10.0  \n",
              "marginal_adhesion            10.0  \n",
              "single_epithelial_cell_size  10.0  \n",
              "bare_nuclei                  10.0  \n",
              "bland_chromatin              10.0  \n",
              "normal_nucleoli              10.0  \n",
              "mitoses                      10.0  \n",
              "diagnosis                     1.0  "
            ],
            "text/html": [
              "\n",
              "  <div id=\"df-4a8f5fd6-4124-49c8-9679-f053ffaf68b8\">\n",
              "    <div class=\"colab-df-container\">\n",
              "      <div>\n",
              "<style scoped>\n",
              "    .dataframe tbody tr th:only-of-type {\n",
              "        vertical-align: middle;\n",
              "    }\n",
              "\n",
              "    .dataframe tbody tr th {\n",
              "        vertical-align: top;\n",
              "    }\n",
              "\n",
              "    .dataframe thead th {\n",
              "        text-align: right;\n",
              "    }\n",
              "</style>\n",
              "<table border=\"1\" class=\"dataframe\">\n",
              "  <thead>\n",
              "    <tr style=\"text-align: right;\">\n",
              "      <th></th>\n",
              "      <th>count</th>\n",
              "      <th>mean</th>\n",
              "      <th>std</th>\n",
              "      <th>min</th>\n",
              "      <th>25%</th>\n",
              "      <th>50%</th>\n",
              "      <th>75%</th>\n",
              "      <th>max</th>\n",
              "    </tr>\n",
              "  </thead>\n",
              "  <tbody>\n",
              "    <tr>\n",
              "      <th>clump_thickness</th>\n",
              "      <td>683.0</td>\n",
              "      <td>4.442167</td>\n",
              "      <td>2.820761</td>\n",
              "      <td>1.0</td>\n",
              "      <td>2.0</td>\n",
              "      <td>4.0</td>\n",
              "      <td>6.0</td>\n",
              "      <td>10.0</td>\n",
              "    </tr>\n",
              "    <tr>\n",
              "      <th>uniformity_of_cell_size</th>\n",
              "      <td>683.0</td>\n",
              "      <td>3.150805</td>\n",
              "      <td>3.065145</td>\n",
              "      <td>1.0</td>\n",
              "      <td>1.0</td>\n",
              "      <td>1.0</td>\n",
              "      <td>5.0</td>\n",
              "      <td>10.0</td>\n",
              "    </tr>\n",
              "    <tr>\n",
              "      <th>uniformity_of_cell_shape</th>\n",
              "      <td>683.0</td>\n",
              "      <td>3.215227</td>\n",
              "      <td>2.988581</td>\n",
              "      <td>1.0</td>\n",
              "      <td>1.0</td>\n",
              "      <td>1.0</td>\n",
              "      <td>5.0</td>\n",
              "      <td>10.0</td>\n",
              "    </tr>\n",
              "    <tr>\n",
              "      <th>marginal_adhesion</th>\n",
              "      <td>683.0</td>\n",
              "      <td>2.830161</td>\n",
              "      <td>2.864562</td>\n",
              "      <td>1.0</td>\n",
              "      <td>1.0</td>\n",
              "      <td>1.0</td>\n",
              "      <td>4.0</td>\n",
              "      <td>10.0</td>\n",
              "    </tr>\n",
              "    <tr>\n",
              "      <th>single_epithelial_cell_size</th>\n",
              "      <td>683.0</td>\n",
              "      <td>3.234261</td>\n",
              "      <td>2.223085</td>\n",
              "      <td>1.0</td>\n",
              "      <td>2.0</td>\n",
              "      <td>2.0</td>\n",
              "      <td>4.0</td>\n",
              "      <td>10.0</td>\n",
              "    </tr>\n",
              "    <tr>\n",
              "      <th>bare_nuclei</th>\n",
              "      <td>683.0</td>\n",
              "      <td>3.544656</td>\n",
              "      <td>3.643857</td>\n",
              "      <td>1.0</td>\n",
              "      <td>1.0</td>\n",
              "      <td>1.0</td>\n",
              "      <td>6.0</td>\n",
              "      <td>10.0</td>\n",
              "    </tr>\n",
              "    <tr>\n",
              "      <th>bland_chromatin</th>\n",
              "      <td>683.0</td>\n",
              "      <td>3.445095</td>\n",
              "      <td>2.449697</td>\n",
              "      <td>1.0</td>\n",
              "      <td>2.0</td>\n",
              "      <td>3.0</td>\n",
              "      <td>5.0</td>\n",
              "      <td>10.0</td>\n",
              "    </tr>\n",
              "    <tr>\n",
              "      <th>normal_nucleoli</th>\n",
              "      <td>683.0</td>\n",
              "      <td>2.869693</td>\n",
              "      <td>3.052666</td>\n",
              "      <td>1.0</td>\n",
              "      <td>1.0</td>\n",
              "      <td>1.0</td>\n",
              "      <td>4.0</td>\n",
              "      <td>10.0</td>\n",
              "    </tr>\n",
              "    <tr>\n",
              "      <th>mitoses</th>\n",
              "      <td>683.0</td>\n",
              "      <td>1.603221</td>\n",
              "      <td>1.732674</td>\n",
              "      <td>1.0</td>\n",
              "      <td>1.0</td>\n",
              "      <td>1.0</td>\n",
              "      <td>1.0</td>\n",
              "      <td>10.0</td>\n",
              "    </tr>\n",
              "    <tr>\n",
              "      <th>diagnosis</th>\n",
              "      <td>683.0</td>\n",
              "      <td>0.349927</td>\n",
              "      <td>0.477296</td>\n",
              "      <td>0.0</td>\n",
              "      <td>0.0</td>\n",
              "      <td>0.0</td>\n",
              "      <td>1.0</td>\n",
              "      <td>1.0</td>\n",
              "    </tr>\n",
              "  </tbody>\n",
              "</table>\n",
              "</div>\n",
              "      <button class=\"colab-df-convert\" onclick=\"convertToInteractive('df-4a8f5fd6-4124-49c8-9679-f053ffaf68b8')\"\n",
              "              title=\"Convert this dataframe to an interactive table.\"\n",
              "              style=\"display:none;\">\n",
              "        \n",
              "  <svg xmlns=\"http://www.w3.org/2000/svg\" height=\"24px\"viewBox=\"0 0 24 24\"\n",
              "       width=\"24px\">\n",
              "    <path d=\"M0 0h24v24H0V0z\" fill=\"none\"/>\n",
              "    <path d=\"M18.56 5.44l.94 2.06.94-2.06 2.06-.94-2.06-.94-.94-2.06-.94 2.06-2.06.94zm-11 1L8.5 8.5l.94-2.06 2.06-.94-2.06-.94L8.5 2.5l-.94 2.06-2.06.94zm10 10l.94 2.06.94-2.06 2.06-.94-2.06-.94-.94-2.06-.94 2.06-2.06.94z\"/><path d=\"M17.41 7.96l-1.37-1.37c-.4-.4-.92-.59-1.43-.59-.52 0-1.04.2-1.43.59L10.3 9.45l-7.72 7.72c-.78.78-.78 2.05 0 2.83L4 21.41c.39.39.9.59 1.41.59.51 0 1.02-.2 1.41-.59l7.78-7.78 2.81-2.81c.8-.78.8-2.07 0-2.86zM5.41 20L4 18.59l7.72-7.72 1.47 1.35L5.41 20z\"/>\n",
              "  </svg>\n",
              "      </button>\n",
              "      \n",
              "  <style>\n",
              "    .colab-df-container {\n",
              "      display:flex;\n",
              "      flex-wrap:wrap;\n",
              "      gap: 12px;\n",
              "    }\n",
              "\n",
              "    .colab-df-convert {\n",
              "      background-color: #E8F0FE;\n",
              "      border: none;\n",
              "      border-radius: 50%;\n",
              "      cursor: pointer;\n",
              "      display: none;\n",
              "      fill: #1967D2;\n",
              "      height: 32px;\n",
              "      padding: 0 0 0 0;\n",
              "      width: 32px;\n",
              "    }\n",
              "\n",
              "    .colab-df-convert:hover {\n",
              "      background-color: #E2EBFA;\n",
              "      box-shadow: 0px 1px 2px rgba(60, 64, 67, 0.3), 0px 1px 3px 1px rgba(60, 64, 67, 0.15);\n",
              "      fill: #174EA6;\n",
              "    }\n",
              "\n",
              "    [theme=dark] .colab-df-convert {\n",
              "      background-color: #3B4455;\n",
              "      fill: #D2E3FC;\n",
              "    }\n",
              "\n",
              "    [theme=dark] .colab-df-convert:hover {\n",
              "      background-color: #434B5C;\n",
              "      box-shadow: 0px 1px 3px 1px rgba(0, 0, 0, 0.15);\n",
              "      filter: drop-shadow(0px 1px 2px rgba(0, 0, 0, 0.3));\n",
              "      fill: #FFFFFF;\n",
              "    }\n",
              "  </style>\n",
              "\n",
              "      <script>\n",
              "        const buttonEl =\n",
              "          document.querySelector('#df-4a8f5fd6-4124-49c8-9679-f053ffaf68b8 button.colab-df-convert');\n",
              "        buttonEl.style.display =\n",
              "          google.colab.kernel.accessAllowed ? 'block' : 'none';\n",
              "\n",
              "        async function convertToInteractive(key) {\n",
              "          const element = document.querySelector('#df-4a8f5fd6-4124-49c8-9679-f053ffaf68b8');\n",
              "          const dataTable =\n",
              "            await google.colab.kernel.invokeFunction('convertToInteractive',\n",
              "                                                     [key], {});\n",
              "          if (!dataTable) return;\n",
              "\n",
              "          const docLinkHtml = 'Like what you see? Visit the ' +\n",
              "            '<a target=\"_blank\" href=https://colab.research.google.com/notebooks/data_table.ipynb>data table notebook</a>'\n",
              "            + ' to learn more about interactive tables.';\n",
              "          element.innerHTML = '';\n",
              "          dataTable['output_type'] = 'display_data';\n",
              "          await google.colab.output.renderOutput(dataTable, element);\n",
              "          const docLink = document.createElement('div');\n",
              "          docLink.innerHTML = docLinkHtml;\n",
              "          element.appendChild(docLink);\n",
              "        }\n",
              "      </script>\n",
              "    </div>\n",
              "  </div>\n",
              "  "
            ]
          },
          "metadata": {},
          "execution_count": 14
        }
      ]
    },
    {
      "cell_type": "code",
      "source": [
        "#create a confusion matrix to identify highly correlated features\n",
        "plt.figure(figsize=(16,14))\n",
        "sns.heatmap(dataLabelled.corr(), cmap='Greens', annot = True)\n",
        "plt.title(\"Correlation Map\", fontweight = \"bold\", fontsize=16)"
      ],
      "metadata": {
        "colab": {
          "base_uri": "https://localhost:8080/",
          "height": 978
        },
        "id": "Vkz0R3XrwC2t",
        "outputId": "3f921a91-1117-44bc-92a8-d50ffc7ddb71"
      },
      "execution_count": 15,
      "outputs": [
        {
          "output_type": "execute_result",
          "data": {
            "text/plain": [
              "Text(0.5, 1.0, 'Correlation Map')"
            ]
          },
          "metadata": {},
          "execution_count": 15
        },
        {
          "output_type": "display_data",
          "data": {
            "text/plain": [
              "<Figure size 1152x1008 with 2 Axes>"
            ],
            "image/png": "[encoded data removed]"
          },
          "metadata": {}
        }
      ]
    },
    {
      "cell_type": "code",
      "source": [
        "#define dependent (x) and independent (y) variables\n",
        "x = dataLabelled.drop('diagnosis', axis=1)\n",
        "y = dataLabelled['diagnosis']"
      ],
      "metadata": {
        "id": "n1XN4fQawFZp"
      },
      "execution_count": 16,
      "outputs": []
    },
    {
      "cell_type": "code",
      "source": [
        "#remove the two highly correlated features identified\n",
        "dataLabelled.drop(columns='uniformity_of_cell_size',inplace=True)\n",
        "dataLabelled.drop(columns='uniformity_of_cell_shape',inplace=True)"
      ],
      "metadata": {
        "id": "Xc3tnqu01eeX"
      },
      "execution_count": 17,
      "outputs": []
    },
    {
      "cell_type": "code",
      "source": [
        "#create the object\n",
        "from sklearn.preprocessing import LabelEncoder\n",
        "lb = LabelEncoder()\n",
        "y = lb.fit_transform(y)"
      ],
      "metadata": {
        "id": "SvVCucMywNyg"
      },
      "execution_count": 18,
      "outputs": []
    },
    {
      "cell_type": "code",
      "source": [
        "#split the data into training and testing set\n",
        "from sklearn.model_selection import train_test_split\n",
        "x_train, x_test, y_train, y_test = train_test_split(x, y, test_size = 0.25, random_state = 101)"
      ],
      "metadata": {
        "id": "mnODXr0mwQsR"
      },
      "execution_count": 19,
      "outputs": []
    },
    {
      "cell_type": "code",
      "source": [
        "#import keras library\n",
        "import keras\n",
        "#impor sequential module\n",
        "from keras.models import Sequential\n",
        "#import dense module for hidden layers\n",
        "from keras.layers import Dense\n",
        "#import activation functions\n",
        "from keras.layers import LeakyReLU,PReLU,ELU\n",
        "from keras.layers import Dropout"
      ],
      "metadata": {
        "id": "5viThzR_wN3T"
      },
      "execution_count": 20,
      "outputs": []
    },
    {
      "cell_type": "code",
      "source": [
        "from keras.layers import BatchNormalization\n",
        "#create ann with sequence of layers\n",
        "ann =Sequential()\n",
        "\n",
        "#add 1st hidden layer with 30 neurons --- input layer is addedd automatically\n",
        "ann.add(Dense(units = 30,activation = 'relu'))\n",
        "ann.add(BatchNormalization())\n",
        "ann.add(Dropout(0.5))\n",
        "\n",
        "#add 2nd hidden layer with 25 neurons\n",
        "ann.add(Dense(units = 25,activation = 'relu'))\n",
        "ann.add(BatchNormalization())\n",
        "ann.add(Dropout(0.5))\n",
        "\n",
        "#add 3rd hidden layer with 25 neurons\n",
        "ann.add(Dense(units = 25,activation = 'relu'))\n",
        "\n",
        "#add output layer with 1 neuron for binary classification\n",
        "ann.add(Dense(units = 1,activation = 'sigmoid'))"
      ],
      "metadata": {
        "id": "T2yYmCaQwVPl"
      },
      "execution_count": 21,
      "outputs": []
    },
    {
      "cell_type": "code",
      "source": [
        "#set callbacks to monitor maximum accuracy\n",
        "from keras.callbacks import EarlyStopping\n",
        "early = EarlyStopping(monitor = 'accuracy', mode = 'max',patience = 25)"
      ],
      "metadata": {
        "id": "WzIzA5r7weBg"
      },
      "execution_count": 22,
      "outputs": []
    },
    {
      "cell_type": "code",
      "source": [
        "#compile the ann using the stochastic gradient descent (optimizer = 'adam')\n",
        "ann.compile(optimizer = 'adam', loss = 'binary_crossentropy', metrics = ['accuracy'])"
      ],
      "metadata": {
        "id": "iUHDdJhFwgLk"
      },
      "execution_count": 23,
      "outputs": []
    },
    {
      "cell_type": "code",
      "source": [
        "#train the ann with batch size of 32\n",
        "ann.fit(x_train, y_train,batch_size = 32, validation_data=(x_test, y_test),epochs = 200,callbacks = [early])"
      ],
      "metadata": {
        "colab": {
          "base_uri": "https://localhost:8080/"
        },
        "id": "6veGmGmJwiIP",
        "outputId": "9f7f123b-78ce-491b-d8f1-83e4dea57e2f"
      },
      "execution_count": 24,
      "outputs": [
        {
          "output_type": "stream",
          "name": "stdout",
          "text": [
            "Epoch 1/200\n",
            "16/16 [==============================] - 2s 26ms/step - loss: 0.8136 - accuracy: 0.4707 - val_loss: 0.6302 - val_accuracy: 0.3392\n",
            "Epoch 2/200\n",
            "16/16 [==============================] - 0s 5ms/step - loss: 0.5995 - accuracy: 0.6465 - val_loss: 0.5705 - val_accuracy: 0.5322\n",
            "Epoch 3/200\n",
            "16/16 [==============================] - 0s 7ms/step - loss: 0.5220 - accuracy: 0.7832 - val_loss: 0.5043 - val_accuracy: 0.7485\n",
            "Epoch 4/200\n",
            "16/16 [==============================] - 0s 7ms/step - loss: 0.4310 - accuracy: 0.8398 - val_loss: 0.4579 - val_accuracy: 0.8363\n",
            "Epoch 5/200\n",
            "16/16 [==============================] - 0s 5ms/step - loss: 0.3553 - accuracy: 0.8984 - val_loss: 0.4064 - val_accuracy: 0.8947\n",
            "Epoch 6/200\n",
            "16/16 [==============================] - 0s 5ms/step - loss: 0.2889 - accuracy: 0.9336 - val_loss: 0.3515 - val_accuracy: 0.9240\n",
            "Epoch 7/200\n",
            "16/16 [==============================] - 0s 6ms/step - loss: 0.2601 - accuracy: 0.9375 - val_loss: 0.2956 - val_accuracy: 0.9357\n",
            "Epoch 8/200\n",
            "16/16 [==============================] - 0s 5ms/step - loss: 0.2850 - accuracy: 0.9062 - val_loss: 0.2450 - val_accuracy: 0.9474\n",
            "Epoch 9/200\n",
            "16/16 [==============================] - 0s 5ms/step - loss: 0.2274 - accuracy: 0.9336 - val_loss: 0.2076 - val_accuracy: 0.9591\n",
            "Epoch 10/200\n",
            "16/16 [==============================] - 0s 5ms/step - loss: 0.2312 - accuracy: 0.9355 - val_loss: 0.1760 - val_accuracy: 0.9766\n",
            "Epoch 11/200\n",
            "16/16 [==============================] - 0s 5ms/step - loss: 0.2120 - accuracy: 0.9316 - val_loss: 0.1491 - val_accuracy: 0.9825\n",
            "Epoch 12/200\n",
            "16/16 [==============================] - 0s 6ms/step - loss: 0.1862 - accuracy: 0.9414 - val_loss: 0.1291 - val_accuracy: 0.9766\n",
            "Epoch 13/200\n",
            "16/16 [==============================] - 0s 7ms/step - loss: 0.1927 - accuracy: 0.9355 - val_loss: 0.1117 - val_accuracy: 0.9766\n",
            "Epoch 14/200\n",
            "16/16 [==============================] - 0s 6ms/step - loss: 0.1792 - accuracy: 0.9355 - val_loss: 0.0983 - val_accuracy: 0.9766\n",
            "Epoch 15/200\n",
            "16/16 [==============================] - 0s 6ms/step - loss: 0.1734 - accuracy: 0.9414 - val_loss: 0.0874 - val_accuracy: 0.9766\n",
            "Epoch 16/200\n",
            "16/16 [==============================] - 0s 6ms/step - loss: 0.1752 - accuracy: 0.9277 - val_loss: 0.0771 - val_accuracy: 0.9825\n",
            "Epoch 17/200\n",
            "16/16 [==============================] - 0s 6ms/step - loss: 0.1944 - accuracy: 0.9238 - val_loss: 0.0711 - val_accuracy: 0.9825\n",
            "Epoch 18/200\n",
            "16/16 [==============================] - 0s 6ms/step - loss: 0.1489 - accuracy: 0.9512 - val_loss: 0.0672 - val_accuracy: 0.9825\n",
            "Epoch 19/200\n",
            "16/16 [==============================] - 0s 6ms/step - loss: 0.1726 - accuracy: 0.9336 - val_loss: 0.0635 - val_accuracy: 0.9825\n",
            "Epoch 20/200\n",
            "16/16 [==============================] - 0s 5ms/step - loss: 0.1760 - accuracy: 0.9473 - val_loss: 0.0613 - val_accuracy: 0.9825\n",
            "Epoch 21/200\n",
            "16/16 [==============================] - 0s 7ms/step - loss: 0.1624 - accuracy: 0.9434 - val_loss: 0.0578 - val_accuracy: 0.9825\n",
            "Epoch 22/200\n",
            "16/16 [==============================] - 0s 5ms/step - loss: 0.1475 - accuracy: 0.9570 - val_loss: 0.0557 - val_accuracy: 0.9825\n",
            "Epoch 23/200\n",
            "16/16 [==============================] - 0s 7ms/step - loss: 0.1407 - accuracy: 0.9551 - val_loss: 0.0540 - val_accuracy: 0.9825\n",
            "Epoch 24/200\n",
            "16/16 [==============================] - 0s 5ms/step - loss: 0.1479 - accuracy: 0.9414 - val_loss: 0.0530 - val_accuracy: 0.9766\n",
            "Epoch 25/200\n",
            "16/16 [==============================] - 0s 5ms/step - loss: 0.1937 - accuracy: 0.9316 - val_loss: 0.0530 - val_accuracy: 0.9766\n",
            "Epoch 26/200\n",
            "16/16 [==============================] - 0s 7ms/step - loss: 0.1278 - accuracy: 0.9551 - val_loss: 0.0535 - val_accuracy: 0.9825\n",
            "Epoch 27/200\n",
            "16/16 [==============================] - 0s 6ms/step - loss: 0.1491 - accuracy: 0.9551 - val_loss: 0.0533 - val_accuracy: 0.9825\n",
            "Epoch 28/200\n",
            "16/16 [==============================] - 0s 6ms/step - loss: 0.1542 - accuracy: 0.9453 - val_loss: 0.0526 - val_accuracy: 0.9825\n",
            "Epoch 29/200\n",
            "16/16 [==============================] - 0s 5ms/step - loss: 0.1361 - accuracy: 0.9590 - val_loss: 0.0526 - val_accuracy: 0.9825\n",
            "Epoch 30/200\n",
            "16/16 [==============================] - 0s 6ms/step - loss: 0.1679 - accuracy: 0.9492 - val_loss: 0.0525 - val_accuracy: 0.9825\n",
            "Epoch 31/200\n",
            "16/16 [==============================] - 0s 6ms/step - loss: 0.1478 - accuracy: 0.9492 - val_loss: 0.0522 - val_accuracy: 0.9825\n",
            "Epoch 32/200\n",
            "16/16 [==============================] - 0s 5ms/step - loss: 0.1269 - accuracy: 0.9570 - val_loss: 0.0510 - val_accuracy: 0.9825\n",
            "Epoch 33/200\n",
            "16/16 [==============================] - 0s 7ms/step - loss: 0.1254 - accuracy: 0.9551 - val_loss: 0.0509 - val_accuracy: 0.9825\n",
            "Epoch 34/200\n",
            "16/16 [==============================] - 0s 6ms/step - loss: 0.1293 - accuracy: 0.9551 - val_loss: 0.0500 - val_accuracy: 0.9825\n",
            "Epoch 35/200\n",
            "16/16 [==============================] - 0s 6ms/step - loss: 0.1128 - accuracy: 0.9570 - val_loss: 0.0495 - val_accuracy: 0.9825\n",
            "Epoch 36/200\n",
            "16/16 [==============================] - 0s 6ms/step - loss: 0.1346 - accuracy: 0.9531 - val_loss: 0.0497 - val_accuracy: 0.9825\n",
            "Epoch 37/200\n",
            "16/16 [==============================] - 0s 5ms/step - loss: 0.1344 - accuracy: 0.9453 - val_loss: 0.0522 - val_accuracy: 0.9825\n",
            "Epoch 38/200\n",
            "16/16 [==============================] - 0s 5ms/step - loss: 0.1582 - accuracy: 0.9453 - val_loss: 0.0531 - val_accuracy: 0.9825\n",
            "Epoch 39/200\n",
            "16/16 [==============================] - 0s 6ms/step - loss: 0.1092 - accuracy: 0.9648 - val_loss: 0.0528 - val_accuracy: 0.9825\n",
            "Epoch 40/200\n",
            "16/16 [==============================] - 0s 6ms/step - loss: 0.1230 - accuracy: 0.9629 - val_loss: 0.0525 - val_accuracy: 0.9825\n",
            "Epoch 41/200\n",
            "16/16 [==============================] - 0s 5ms/step - loss: 0.1257 - accuracy: 0.9531 - val_loss: 0.0533 - val_accuracy: 0.9825\n",
            "Epoch 42/200\n",
            "16/16 [==============================] - 0s 6ms/step - loss: 0.1228 - accuracy: 0.9570 - val_loss: 0.0539 - val_accuracy: 0.9825\n",
            "Epoch 43/200\n",
            "16/16 [==============================] - 0s 6ms/step - loss: 0.1221 - accuracy: 0.9492 - val_loss: 0.0549 - val_accuracy: 0.9825\n",
            "Epoch 44/200\n",
            "16/16 [==============================] - 0s 6ms/step - loss: 0.1117 - accuracy: 0.9629 - val_loss: 0.0555 - val_accuracy: 0.9825\n",
            "Epoch 45/200\n",
            "16/16 [==============================] - 0s 6ms/step - loss: 0.1184 - accuracy: 0.9590 - val_loss: 0.0556 - val_accuracy: 0.9883\n",
            "Epoch 46/200\n",
            "16/16 [==============================] - 0s 5ms/step - loss: 0.1061 - accuracy: 0.9648 - val_loss: 0.0555 - val_accuracy: 0.9883\n",
            "Epoch 47/200\n",
            "16/16 [==============================] - 0s 6ms/step - loss: 0.1369 - accuracy: 0.9473 - val_loss: 0.0576 - val_accuracy: 0.9883\n",
            "Epoch 48/200\n",
            "16/16 [==============================] - 0s 5ms/step - loss: 0.1602 - accuracy: 0.9570 - val_loss: 0.0624 - val_accuracy: 0.9883\n",
            "Epoch 49/200\n",
            "16/16 [==============================] - 0s 5ms/step - loss: 0.1271 - accuracy: 0.9590 - val_loss: 0.0634 - val_accuracy: 0.9883\n",
            "Epoch 50/200\n",
            "16/16 [==============================] - 0s 7ms/step - loss: 0.1277 - accuracy: 0.9551 - val_loss: 0.0648 - val_accuracy: 0.9883\n",
            "Epoch 51/200\n",
            "16/16 [==============================] - 0s 6ms/step - loss: 0.1206 - accuracy: 0.9609 - val_loss: 0.0663 - val_accuracy: 0.9883\n",
            "Epoch 52/200\n",
            "16/16 [==============================] - 0s 5ms/step - loss: 0.1118 - accuracy: 0.9609 - val_loss: 0.0666 - val_accuracy: 0.9825\n",
            "Epoch 53/200\n",
            "16/16 [==============================] - 0s 5ms/step - loss: 0.1207 - accuracy: 0.9590 - val_loss: 0.0665 - val_accuracy: 0.9883\n",
            "Epoch 54/200\n",
            "16/16 [==============================] - 0s 6ms/step - loss: 0.1134 - accuracy: 0.9629 - val_loss: 0.0667 - val_accuracy: 0.9883\n",
            "Epoch 55/200\n",
            "16/16 [==============================] - 0s 6ms/step - loss: 0.0985 - accuracy: 0.9688 - val_loss: 0.0678 - val_accuracy: 0.9825\n",
            "Epoch 56/200\n",
            "16/16 [==============================] - 0s 5ms/step - loss: 0.1212 - accuracy: 0.9590 - val_loss: 0.0701 - val_accuracy: 0.9825\n",
            "Epoch 57/200\n",
            "16/16 [==============================] - 0s 5ms/step - loss: 0.1339 - accuracy: 0.9492 - val_loss: 0.0701 - val_accuracy: 0.9825\n",
            "Epoch 58/200\n",
            "16/16 [==============================] - 0s 8ms/step - loss: 0.1198 - accuracy: 0.9648 - val_loss: 0.0700 - val_accuracy: 0.9883\n",
            "Epoch 59/200\n",
            "16/16 [==============================] - 0s 6ms/step - loss: 0.1453 - accuracy: 0.9414 - val_loss: 0.0735 - val_accuracy: 0.9883\n",
            "Epoch 60/200\n",
            "16/16 [==============================] - 0s 5ms/step - loss: 0.0956 - accuracy: 0.9648 - val_loss: 0.0756 - val_accuracy: 0.9883\n",
            "Epoch 61/200\n",
            "16/16 [==============================] - 0s 4ms/step - loss: 0.1274 - accuracy: 0.9590 - val_loss: 0.0766 - val_accuracy: 0.9883\n",
            "Epoch 62/200\n",
            "16/16 [==============================] - 0s 4ms/step - loss: 0.1312 - accuracy: 0.9609 - val_loss: 0.0780 - val_accuracy: 0.9883\n",
            "Epoch 63/200\n",
            "16/16 [==============================] - 0s 5ms/step - loss: 0.1238 - accuracy: 0.9570 - val_loss: 0.0798 - val_accuracy: 0.9883\n",
            "Epoch 64/200\n",
            "16/16 [==============================] - 0s 7ms/step - loss: 0.1212 - accuracy: 0.9668 - val_loss: 0.0787 - val_accuracy: 0.9883\n",
            "Epoch 65/200\n",
            "16/16 [==============================] - 0s 5ms/step - loss: 0.1030 - accuracy: 0.9609 - val_loss: 0.0805 - val_accuracy: 0.9883\n",
            "Epoch 66/200\n",
            "16/16 [==============================] - 0s 4ms/step - loss: 0.1322 - accuracy: 0.9531 - val_loss: 0.0805 - val_accuracy: 0.9883\n",
            "Epoch 67/200\n",
            "16/16 [==============================] - 0s 6ms/step - loss: 0.1078 - accuracy: 0.9590 - val_loss: 0.0797 - val_accuracy: 0.9883\n",
            "Epoch 68/200\n",
            "16/16 [==============================] - 0s 5ms/step - loss: 0.1139 - accuracy: 0.9648 - val_loss: 0.0766 - val_accuracy: 0.9883\n",
            "Epoch 69/200\n",
            "16/16 [==============================] - 0s 6ms/step - loss: 0.1426 - accuracy: 0.9512 - val_loss: 0.0744 - val_accuracy: 0.9883\n",
            "Epoch 70/200\n",
            "16/16 [==============================] - 0s 5ms/step - loss: 0.1067 - accuracy: 0.9570 - val_loss: 0.0719 - val_accuracy: 0.9883\n",
            "Epoch 71/200\n",
            "16/16 [==============================] - 0s 5ms/step - loss: 0.1098 - accuracy: 0.9609 - val_loss: 0.0718 - val_accuracy: 0.9883\n",
            "Epoch 72/200\n",
            "16/16 [==============================] - 0s 7ms/step - loss: 0.1263 - accuracy: 0.9590 - val_loss: 0.0721 - val_accuracy: 0.9883\n",
            "Epoch 73/200\n",
            "16/16 [==============================] - 0s 5ms/step - loss: 0.1180 - accuracy: 0.9668 - val_loss: 0.0702 - val_accuracy: 0.9883\n",
            "Epoch 74/200\n",
            "16/16 [==============================] - 0s 5ms/step - loss: 0.1076 - accuracy: 0.9648 - val_loss: 0.0707 - val_accuracy: 0.9883\n",
            "Epoch 75/200\n",
            "16/16 [==============================] - 0s 6ms/step - loss: 0.1333 - accuracy: 0.9531 - val_loss: 0.0729 - val_accuracy: 0.9883\n",
            "Epoch 76/200\n",
            "16/16 [==============================] - 0s 6ms/step - loss: 0.1509 - accuracy: 0.9570 - val_loss: 0.0779 - val_accuracy: 0.9883\n",
            "Epoch 77/200\n",
            "16/16 [==============================] - 0s 5ms/step - loss: 0.1239 - accuracy: 0.9590 - val_loss: 0.0756 - val_accuracy: 0.9883\n",
            "Epoch 78/200\n",
            "16/16 [==============================] - 0s 5ms/step - loss: 0.0910 - accuracy: 0.9766 - val_loss: 0.0727 - val_accuracy: 0.9883\n",
            "Epoch 79/200\n",
            "16/16 [==============================] - 0s 7ms/step - loss: 0.1201 - accuracy: 0.9648 - val_loss: 0.0709 - val_accuracy: 0.9883\n",
            "Epoch 80/200\n",
            "16/16 [==============================] - 0s 5ms/step - loss: 0.0952 - accuracy: 0.9648 - val_loss: 0.0695 - val_accuracy: 0.9883\n",
            "Epoch 81/200\n",
            "16/16 [==============================] - 0s 6ms/step - loss: 0.1034 - accuracy: 0.9629 - val_loss: 0.0683 - val_accuracy: 0.9883\n",
            "Epoch 82/200\n",
            "16/16 [==============================] - 0s 5ms/step - loss: 0.1208 - accuracy: 0.9668 - val_loss: 0.0669 - val_accuracy: 0.9883\n",
            "Epoch 83/200\n",
            "16/16 [==============================] - 0s 6ms/step - loss: 0.1056 - accuracy: 0.9551 - val_loss: 0.0693 - val_accuracy: 0.9883\n",
            "Epoch 84/200\n",
            "16/16 [==============================] - 0s 5ms/step - loss: 0.1009 - accuracy: 0.9707 - val_loss: 0.0702 - val_accuracy: 0.9883\n",
            "Epoch 85/200\n",
            "16/16 [==============================] - 0s 5ms/step - loss: 0.1025 - accuracy: 0.9688 - val_loss: 0.0711 - val_accuracy: 0.9883\n",
            "Epoch 86/200\n",
            "16/16 [==============================] - 0s 6ms/step - loss: 0.1425 - accuracy: 0.9609 - val_loss: 0.0707 - val_accuracy: 0.9883\n",
            "Epoch 87/200\n",
            "16/16 [==============================] - 0s 5ms/step - loss: 0.1117 - accuracy: 0.9629 - val_loss: 0.0709 - val_accuracy: 0.9883\n",
            "Epoch 88/200\n",
            "16/16 [==============================] - 0s 5ms/step - loss: 0.0962 - accuracy: 0.9648 - val_loss: 0.0709 - val_accuracy: 0.9883\n",
            "Epoch 89/200\n",
            "16/16 [==============================] - 0s 5ms/step - loss: 0.0909 - accuracy: 0.9766 - val_loss: 0.0702 - val_accuracy: 0.9883\n",
            "Epoch 90/200\n",
            "16/16 [==============================] - 0s 6ms/step - loss: 0.1073 - accuracy: 0.9648 - val_loss: 0.0689 - val_accuracy: 0.9883\n",
            "Epoch 91/200\n",
            "16/16 [==============================] - 0s 6ms/step - loss: 0.1247 - accuracy: 0.9590 - val_loss: 0.0707 - val_accuracy: 0.9883\n",
            "Epoch 92/200\n",
            "16/16 [==============================] - 0s 5ms/step - loss: 0.1233 - accuracy: 0.9551 - val_loss: 0.0719 - val_accuracy: 0.9883\n",
            "Epoch 93/200\n",
            "16/16 [==============================] - 0s 5ms/step - loss: 0.0837 - accuracy: 0.9688 - val_loss: 0.0711 - val_accuracy: 0.9883\n",
            "Epoch 94/200\n",
            "16/16 [==============================] - 0s 6ms/step - loss: 0.1369 - accuracy: 0.9531 - val_loss: 0.0704 - val_accuracy: 0.9883\n",
            "Epoch 95/200\n",
            "16/16 [==============================] - 0s 7ms/step - loss: 0.1064 - accuracy: 0.9629 - val_loss: 0.0686 - val_accuracy: 0.9883\n",
            "Epoch 96/200\n",
            "16/16 [==============================] - 0s 6ms/step - loss: 0.1055 - accuracy: 0.9609 - val_loss: 0.0673 - val_accuracy: 0.9883\n",
            "Epoch 97/200\n",
            "16/16 [==============================] - 0s 6ms/step - loss: 0.1296 - accuracy: 0.9590 - val_loss: 0.0662 - val_accuracy: 0.9883\n",
            "Epoch 98/200\n",
            "16/16 [==============================] - 0s 5ms/step - loss: 0.1126 - accuracy: 0.9648 - val_loss: 0.0657 - val_accuracy: 0.9883\n",
            "Epoch 99/200\n",
            "16/16 [==============================] - 0s 5ms/step - loss: 0.1128 - accuracy: 0.9531 - val_loss: 0.0647 - val_accuracy: 0.9883\n",
            "Epoch 100/200\n",
            "16/16 [==============================] - 0s 5ms/step - loss: 0.1167 - accuracy: 0.9629 - val_loss: 0.0628 - val_accuracy: 0.9883\n",
            "Epoch 101/200\n",
            "16/16 [==============================] - 0s 5ms/step - loss: 0.1138 - accuracy: 0.9590 - val_loss: 0.0608 - val_accuracy: 0.9883\n",
            "Epoch 102/200\n",
            "16/16 [==============================] - 0s 5ms/step - loss: 0.1145 - accuracy: 0.9590 - val_loss: 0.0602 - val_accuracy: 0.9883\n",
            "Epoch 103/200\n",
            "16/16 [==============================] - 0s 6ms/step - loss: 0.1046 - accuracy: 0.9707 - val_loss: 0.0593 - val_accuracy: 0.9883\n"
          ]
        },
        {
          "output_type": "execute_result",
          "data": {
            "text/plain": [
              "<keras.callbacks.History at 0x7f7b44fc4430>"
            ]
          },
          "metadata": {},
          "execution_count": 24
        }
      ]
    },
    {
      "cell_type": "code",
      "source": [
        "#summary of layers\n",
        "ann.summary()"
      ],
      "metadata": {
        "colab": {
          "base_uri": "https://localhost:8080/"
        },
        "id": "2ejsb9ZF4I_q",
        "outputId": "f2259558-0ce2-4f8f-cfad-12061fbc7a7e"
      },
      "execution_count": 25,
      "outputs": [
        {
          "output_type": "stream",
          "name": "stdout",
          "text": [
            "Model: \"sequential\"\n",
            "_________________________________________________________________\n",
            " Layer (type)                Output Shape              Param #   \n",
            "=================================================================\n",
            " dense (Dense)               (None, 30)                300       \n",
            "                                                                 \n",
            " batch_normalization (BatchN  (None, 30)               120       \n",
            " ormalization)                                                   \n",
            "                                                                 \n",
            " dropout (Dropout)           (None, 30)                0         \n",
            "                                                                 \n",
            " dense_1 (Dense)             (None, 25)                775       \n",
            "                                                                 \n",
            " batch_normalization_1 (Batc  (None, 25)               100       \n",
            " hNormalization)                                                 \n",
            "                                                                 \n",
            " dropout_1 (Dropout)         (None, 25)                0         \n",
            "                                                                 \n",
            " dense_2 (Dense)             (None, 25)                650       \n",
            "                                                                 \n",
            " dense_3 (Dense)             (None, 1)                 26        \n",
            "                                                                 \n",
            "=================================================================\n",
            "Total params: 1,971\n",
            "Trainable params: 1,861\n",
            "Non-trainable params: 110\n",
            "_________________________________________________________________\n"
          ]
        }
      ]
    },
    {
      "cell_type": "code",
      "source": [
        "#plot the loss vs accuracy gain\n",
        "losses = pd.DataFrame(ann.history.history)\n",
        "losses.plot()"
      ],
      "metadata": {
        "colab": {
          "base_uri": "https://localhost:8080/",
          "height": 502
        },
        "id": "WWsju0ZP4PcE",
        "outputId": "e579823f-b42d-44ff-d92e-deb5cdaade21"
      },
      "execution_count": 26,
      "outputs": [
        {
          "output_type": "execute_result",
          "data": {
            "text/plain": [
              "<matplotlib.axes._subplots.AxesSubplot at 0x7f7b3c2a2e50>"
            ]
          },
          "metadata": {},
          "execution_count": 26
        },
        {
          "output_type": "display_data",
          "data": {
            "text/plain": [
              "<Figure size 576x576 with 1 Axes>"
            ],
            "image/png": "[encoded data removed]"
          },
          "metadata": {}
        }
      ]
    },
    {
      "cell_type": "code",
      "source": [
        "#test the testing data\n",
        "y_pred = ann.predict(x_test)\n",
        "#convert values\n",
        "y_pred = (y_pred>0.5)"
      ],
      "metadata": {
        "colab": {
          "base_uri": "https://localhost:8080/"
        },
        "id": "uGccM5Nw4q4h",
        "outputId": "066b5386-05b8-4e58-f174-bd3101be2fd3"
      },
      "execution_count": 27,
      "outputs": [
        {
          "output_type": "stream",
          "name": "stdout",
          "text": [
            "6/6 [==============================] - 0s 3ms/step\n"
          ]
        }
      ]
    },
    {
      "cell_type": "code",
      "source": [
        "#create a confusion matrix\n",
        "#calculate the accuracy score\n",
        "from sklearn.metrics import confusion_matrix\n",
        "from sklearn.metrics import accuracy_score\n",
        "cm = confusion_matrix(y_test,y_pred)\n",
        "score = accuracy_score(y_test,y_pred)\n",
        "print(cm)\n",
        "print('score is:',score)"
      ],
      "metadata": {
        "colab": {
          "base_uri": "https://localhost:8080/"
        },
        "id": "9DHqEiYt4wp2",
        "outputId": "f2a99e56-02dd-4ac1-a003-0c522d47edad"
      },
      "execution_count": 37,
      "outputs": [
        {
          "output_type": "stream",
          "name": "stdout",
          "text": [
            "[[111   2]\n",
            " [  0  58]]\n",
            "score is: 0.9883040935672515\n"
          ]
        }
      ]
    },
    {
      "cell_type": "code",
      "source": [
        "#calculate precision, recall and f1 score metrics\n",
        "from sklearn.metrics import classification_report,confusion_matrix\n",
        "print(classification_report(y_test,y_pred))"
      ],
      "metadata": {
        "colab": {
          "base_uri": "https://localhost:8080/"
        },
        "id": "e7dYKrNL43xE",
        "outputId": "98cebd06-98e4-44ff-e49f-0fa262c94905"
      },
      "execution_count": 38,
      "outputs": [
        {
          "output_type": "stream",
          "name": "stdout",
          "text": [
            "              precision    recall  f1-score   support\n",
            "\n",
            "           0       1.00      0.98      0.99       113\n",
            "           1       0.97      1.00      0.98        58\n",
            "\n",
            "    accuracy                           0.99       171\n",
            "   macro avg       0.98      0.99      0.99       171\n",
            "weighted avg       0.99      0.99      0.99       171\n",
            "\n"
          ]
        }
      ]
    },
    {
      "cell_type": "code",
      "source": [
        "#create confussion matrix through heatmap\n",
        "plt.figure(figsize=[14,7])\n",
        "sns.heatmap(cm, annot=True, fmt=\"d\", linewidth=.5)\n",
        "plt.show()"
      ],
      "metadata": {
        "colab": {
          "base_uri": "https://localhost:8080/",
          "height": 431
        },
        "id": "DjSylKEt4-BQ",
        "outputId": "0827a607-d8a6-4c8f-d3c3-751818639c27"
      },
      "execution_count": 43,
      "outputs": [
        {
          "output_type": "display_data",
          "data": {
            "text/plain": [
              "<Figure size 1008x504 with 2 Axes>"
            ],
            "image/png": "[encoded data removed]"
          },
          "metadata": {}
        }
      ]
    },
    {
      "cell_type": "code",
      "source": [
        "from keras.layers import BatchNormalization\n",
        "#create ann with sequence of layers\n",
        "ann =Sequential()\n",
        "\n",
        "#add 1st hidden layer with 30 neurons --- input layer is addedd automatically\n",
        "ann.add(Dense(units = 30,activation = 'relu'))\n",
        "ann.add(Dropout(0.5))\n",
        "\n",
        "#add 2nd hidden layer with 25 neurons\n",
        "ann.add(Dense(units = 30,activation = 'relu'))\n",
        "ann.add(Dropout(0.5))\n",
        "\n",
        "#add output layer with 1 neuron for binary classification\n",
        "ann.add(Dense(units = 1,activation = 'sigmoid'))\n",
        "\n",
        "#compile the ann using the stochastic gradient descent (optimizer = 'adam')\n",
        "ann.compile(optimizer = 'adam', loss = 'binary_crossentropy', metrics = ['accuracy'])\n",
        "\n",
        "#set callbacks to monitor maximum accuracy\n",
        "from keras.callbacks import EarlyStopping\n",
        "early_stop = EarlyStopping(monitor='val_loss', mode='min', verbose=1, patience=25)\n",
        "\n",
        "#train the ann with batch size of 32\n",
        "model=ann.fit(x_train, y_train,batch_size = 32, validation_data=(x_test, y_test),epochs =100,callbacks = [early_stop])"
      ],
      "metadata": {
        "colab": {
          "base_uri": "https://localhost:8080/"
        },
        "id": "p3zzZbDL2VoW",
        "outputId": "7af6a802-3fd6-445e-9f0b-d046760c438b"
      },
      "execution_count": 44,
      "outputs": [
        {
          "output_type": "stream",
          "name": "stdout",
          "text": [
            "Epoch 1/100\n",
            "16/16 [==============================] - 1s 18ms/step - loss: 1.6932 - accuracy: 0.5488 - val_loss: 0.6421 - val_accuracy: 0.5263\n",
            "Epoch 2/100\n",
            "16/16 [==============================] - 0s 5ms/step - loss: 1.2103 - accuracy: 0.4336 - val_loss: 0.6490 - val_accuracy: 0.3977\n",
            "Epoch 3/100\n",
            "16/16 [==============================] - 0s 5ms/step - loss: 0.8706 - accuracy: 0.4863 - val_loss: 0.6140 - val_accuracy: 0.4211\n",
            "Epoch 4/100\n",
            "16/16 [==============================] - 0s 6ms/step - loss: 0.8754 - accuracy: 0.4941 - val_loss: 0.5832 - val_accuracy: 0.4854\n",
            "Epoch 5/100\n",
            "16/16 [==============================] - 0s 4ms/step - loss: 0.7601 - accuracy: 0.5156 - val_loss: 0.5565 - val_accuracy: 0.7544\n",
            "Epoch 6/100\n",
            "16/16 [==============================] - 0s 4ms/step - loss: 0.7536 - accuracy: 0.5547 - val_loss: 0.5399 - val_accuracy: 0.8363\n",
            "Epoch 7/100\n",
            "16/16 [==============================] - 0s 4ms/step - loss: 0.6803 - accuracy: 0.6035 - val_loss: 0.5293 - val_accuracy: 0.8421\n",
            "Epoch 8/100\n",
            "16/16 [==============================] - 0s 4ms/step - loss: 0.6914 - accuracy: 0.6250 - val_loss: 0.5231 - val_accuracy: 0.8830\n",
            "Epoch 9/100\n",
            "16/16 [==============================] - 0s 5ms/step - loss: 0.6328 - accuracy: 0.6660 - val_loss: 0.5125 - val_accuracy: 0.8947\n",
            "Epoch 10/100\n",
            "16/16 [==============================] - 0s 5ms/step - loss: 0.5919 - accuracy: 0.6816 - val_loss: 0.4986 - val_accuracy: 0.9064\n",
            "Epoch 11/100\n",
            "16/16 [==============================] - 0s 5ms/step - loss: 0.5839 - accuracy: 0.7246 - val_loss: 0.4813 - val_accuracy: 0.9123\n",
            "Epoch 12/100\n",
            "16/16 [==============================] - 0s 6ms/step - loss: 0.5956 - accuracy: 0.7207 - val_loss: 0.4620 - val_accuracy: 0.9123\n",
            "Epoch 13/100\n",
            "16/16 [==============================] - 0s 5ms/step - loss: 0.5828 - accuracy: 0.7715 - val_loss: 0.4488 - val_accuracy: 0.9123\n",
            "Epoch 14/100\n",
            "16/16 [==============================] - 0s 5ms/step - loss: 0.5386 - accuracy: 0.8008 - val_loss: 0.4349 - val_accuracy: 0.9123\n",
            "Epoch 15/100\n",
            "16/16 [==============================] - 0s 5ms/step - loss: 0.5110 - accuracy: 0.8184 - val_loss: 0.4191 - val_accuracy: 0.9181\n",
            "Epoch 16/100\n",
            "16/16 [==============================] - 0s 5ms/step - loss: 0.5196 - accuracy: 0.8145 - val_loss: 0.4023 - val_accuracy: 0.9123\n",
            "Epoch 17/100\n",
            "16/16 [==============================] - 0s 4ms/step - loss: 0.4874 - accuracy: 0.8418 - val_loss: 0.3873 - val_accuracy: 0.9240\n",
            "Epoch 18/100\n",
            "16/16 [==============================] - 0s 5ms/step - loss: 0.4399 - accuracy: 0.8711 - val_loss: 0.3703 - val_accuracy: 0.9181\n",
            "Epoch 19/100\n",
            "16/16 [==============================] - 0s 6ms/step - loss: 0.4492 - accuracy: 0.8516 - val_loss: 0.3492 - val_accuracy: 0.9181\n",
            "Epoch 20/100\n",
            "16/16 [==============================] - 0s 5ms/step - loss: 0.4464 - accuracy: 0.8711 - val_loss: 0.3341 - val_accuracy: 0.9123\n",
            "Epoch 21/100\n",
            "16/16 [==============================] - 0s 6ms/step - loss: 0.4333 - accuracy: 0.8770 - val_loss: 0.3168 - val_accuracy: 0.9240\n",
            "Epoch 22/100\n",
            "16/16 [==============================] - 0s 6ms/step - loss: 0.3966 - accuracy: 0.8828 - val_loss: 0.2963 - val_accuracy: 0.9357\n",
            "Epoch 23/100\n",
            "16/16 [==============================] - 0s 5ms/step - loss: 0.3900 - accuracy: 0.8887 - val_loss: 0.2815 - val_accuracy: 0.9298\n",
            "Epoch 24/100\n",
            "16/16 [==============================] - 0s 5ms/step - loss: 0.3782 - accuracy: 0.8867 - val_loss: 0.2717 - val_accuracy: 0.9357\n",
            "Epoch 25/100\n",
            "16/16 [==============================] - 0s 5ms/step - loss: 0.3986 - accuracy: 0.8828 - val_loss: 0.2649 - val_accuracy: 0.9474\n",
            "Epoch 26/100\n",
            "16/16 [==============================] - 0s 8ms/step - loss: 0.3503 - accuracy: 0.9062 - val_loss: 0.2540 - val_accuracy: 0.9298\n",
            "Epoch 27/100\n",
            "16/16 [==============================] - 0s 10ms/step - loss: 0.3194 - accuracy: 0.9082 - val_loss: 0.2427 - val_accuracy: 0.9357\n",
            "Epoch 28/100\n",
            "16/16 [==============================] - 0s 9ms/step - loss: 0.3260 - accuracy: 0.9141 - val_loss: 0.2332 - val_accuracy: 0.9357\n",
            "Epoch 29/100\n",
            "16/16 [==============================] - 0s 10ms/step - loss: 0.3558 - accuracy: 0.8906 - val_loss: 0.2263 - val_accuracy: 0.9415\n",
            "Epoch 30/100\n",
            "16/16 [==============================] - 0s 11ms/step - loss: 0.2929 - accuracy: 0.9180 - val_loss: 0.2201 - val_accuracy: 0.9415\n",
            "Epoch 31/100\n",
            "16/16 [==============================] - 0s 12ms/step - loss: 0.2626 - accuracy: 0.9355 - val_loss: 0.2100 - val_accuracy: 0.9415\n",
            "Epoch 32/100\n",
            "16/16 [==============================] - 0s 6ms/step - loss: 0.2859 - accuracy: 0.9141 - val_loss: 0.2048 - val_accuracy: 0.9415\n",
            "Epoch 33/100\n",
            "16/16 [==============================] - 0s 5ms/step - loss: 0.2673 - accuracy: 0.9238 - val_loss: 0.1964 - val_accuracy: 0.9415\n",
            "Epoch 34/100\n",
            "16/16 [==============================] - 0s 5ms/step - loss: 0.2946 - accuracy: 0.9043 - val_loss: 0.1907 - val_accuracy: 0.9415\n",
            "Epoch 35/100\n",
            "16/16 [==============================] - 0s 5ms/step - loss: 0.2472 - accuracy: 0.9395 - val_loss: 0.1856 - val_accuracy: 0.9474\n",
            "Epoch 36/100\n",
            "16/16 [==============================] - 0s 7ms/step - loss: 0.2903 - accuracy: 0.9102 - val_loss: 0.1827 - val_accuracy: 0.9532\n",
            "Epoch 37/100\n",
            "16/16 [==============================] - 0s 8ms/step - loss: 0.2729 - accuracy: 0.9160 - val_loss: 0.1794 - val_accuracy: 0.9532\n",
            "Epoch 38/100\n",
            "16/16 [==============================] - 0s 6ms/step - loss: 0.2243 - accuracy: 0.9258 - val_loss: 0.1754 - val_accuracy: 0.9591\n",
            "Epoch 39/100\n",
            "16/16 [==============================] - 0s 5ms/step - loss: 0.2693 - accuracy: 0.9180 - val_loss: 0.1739 - val_accuracy: 0.9532\n",
            "Epoch 40/100\n",
            "16/16 [==============================] - 0s 5ms/step - loss: 0.2509 - accuracy: 0.9180 - val_loss: 0.1721 - val_accuracy: 0.9532\n",
            "Epoch 41/100\n",
            "16/16 [==============================] - 0s 6ms/step - loss: 0.2766 - accuracy: 0.9219 - val_loss: 0.1705 - val_accuracy: 0.9532\n",
            "Epoch 42/100\n",
            "16/16 [==============================] - 0s 6ms/step - loss: 0.2198 - accuracy: 0.9395 - val_loss: 0.1679 - val_accuracy: 0.9591\n",
            "Epoch 43/100\n",
            "16/16 [==============================] - 0s 5ms/step - loss: 0.2431 - accuracy: 0.9238 - val_loss: 0.1652 - val_accuracy: 0.9591\n",
            "Epoch 44/100\n",
            "16/16 [==============================] - 0s 5ms/step - loss: 0.2074 - accuracy: 0.9336 - val_loss: 0.1610 - val_accuracy: 0.9591\n",
            "Epoch 45/100\n",
            "16/16 [==============================] - 0s 4ms/step - loss: 0.2198 - accuracy: 0.9238 - val_loss: 0.1586 - val_accuracy: 0.9591\n",
            "Epoch 46/100\n",
            "16/16 [==============================] - 0s 5ms/step - loss: 0.2051 - accuracy: 0.9316 - val_loss: 0.1575 - val_accuracy: 0.9591\n",
            "Epoch 47/100\n",
            "16/16 [==============================] - 0s 5ms/step - loss: 0.2209 - accuracy: 0.9336 - val_loss: 0.1562 - val_accuracy: 0.9591\n",
            "Epoch 48/100\n",
            "16/16 [==============================] - 0s 5ms/step - loss: 0.2117 - accuracy: 0.9395 - val_loss: 0.1532 - val_accuracy: 0.9591\n",
            "Epoch 49/100\n",
            "16/16 [==============================] - 0s 5ms/step - loss: 0.2051 - accuracy: 0.9375 - val_loss: 0.1514 - val_accuracy: 0.9591\n",
            "Epoch 50/100\n",
            "16/16 [==============================] - 0s 6ms/step - loss: 0.2315 - accuracy: 0.9199 - val_loss: 0.1474 - val_accuracy: 0.9591\n",
            "Epoch 51/100\n",
            "16/16 [==============================] - 0s 4ms/step - loss: 0.1952 - accuracy: 0.9355 - val_loss: 0.1449 - val_accuracy: 0.9591\n",
            "Epoch 52/100\n",
            "16/16 [==============================] - 0s 4ms/step - loss: 0.1945 - accuracy: 0.9336 - val_loss: 0.1419 - val_accuracy: 0.9591\n",
            "Epoch 53/100\n",
            "16/16 [==============================] - 0s 5ms/step - loss: 0.2117 - accuracy: 0.9199 - val_loss: 0.1387 - val_accuracy: 0.9591\n",
            "Epoch 54/100\n",
            "16/16 [==============================] - 0s 6ms/step - loss: 0.1991 - accuracy: 0.9414 - val_loss: 0.1349 - val_accuracy: 0.9591\n",
            "Epoch 55/100\n",
            "16/16 [==============================] - 0s 4ms/step - loss: 0.1883 - accuracy: 0.9375 - val_loss: 0.1321 - val_accuracy: 0.9649\n",
            "Epoch 56/100\n",
            "16/16 [==============================] - 0s 6ms/step - loss: 0.1896 - accuracy: 0.9414 - val_loss: 0.1324 - val_accuracy: 0.9708\n",
            "Epoch 57/100\n",
            "16/16 [==============================] - 0s 5ms/step - loss: 0.1922 - accuracy: 0.9434 - val_loss: 0.1329 - val_accuracy: 0.9649\n",
            "Epoch 58/100\n",
            "16/16 [==============================] - 0s 5ms/step - loss: 0.1751 - accuracy: 0.9395 - val_loss: 0.1340 - val_accuracy: 0.9591\n",
            "Epoch 59/100\n",
            "16/16 [==============================] - 0s 5ms/step - loss: 0.2067 - accuracy: 0.9277 - val_loss: 0.1362 - val_accuracy: 0.9708\n",
            "Epoch 60/100\n",
            "16/16 [==============================] - 0s 5ms/step - loss: 0.2014 - accuracy: 0.9434 - val_loss: 0.1353 - val_accuracy: 0.9708\n",
            "Epoch 61/100\n",
            "16/16 [==============================] - 0s 7ms/step - loss: 0.2069 - accuracy: 0.9336 - val_loss: 0.1318 - val_accuracy: 0.9708\n",
            "Epoch 62/100\n",
            "16/16 [==============================] - 0s 5ms/step - loss: 0.1859 - accuracy: 0.9395 - val_loss: 0.1295 - val_accuracy: 0.9708\n",
            "Epoch 63/100\n",
            "16/16 [==============================] - 0s 4ms/step - loss: 0.1829 - accuracy: 0.9434 - val_loss: 0.1262 - val_accuracy: 0.9708\n",
            "Epoch 64/100\n",
            "16/16 [==============================] - 0s 4ms/step - loss: 0.2006 - accuracy: 0.9375 - val_loss: 0.1262 - val_accuracy: 0.9708\n",
            "Epoch 65/100\n",
            "16/16 [==============================] - 0s 5ms/step - loss: 0.1817 - accuracy: 0.9492 - val_loss: 0.1225 - val_accuracy: 0.9649\n",
            "Epoch 66/100\n",
            "16/16 [==============================] - 0s 5ms/step - loss: 0.1973 - accuracy: 0.9414 - val_loss: 0.1246 - val_accuracy: 0.9708\n",
            "Epoch 67/100\n",
            "16/16 [==============================] - 0s 5ms/step - loss: 0.1754 - accuracy: 0.9414 - val_loss: 0.1241 - val_accuracy: 0.9649\n",
            "Epoch 68/100\n",
            "16/16 [==============================] - 0s 5ms/step - loss: 0.2037 - accuracy: 0.9316 - val_loss: 0.1272 - val_accuracy: 0.9649\n",
            "Epoch 69/100\n",
            "16/16 [==============================] - 0s 4ms/step - loss: 0.1829 - accuracy: 0.9355 - val_loss: 0.1252 - val_accuracy: 0.9649\n",
            "Epoch 70/100\n",
            "16/16 [==============================] - 0s 4ms/step - loss: 0.1561 - accuracy: 0.9434 - val_loss: 0.1221 - val_accuracy: 0.9649\n",
            "Epoch 71/100\n",
            "16/16 [==============================] - 0s 4ms/step - loss: 0.1645 - accuracy: 0.9414 - val_loss: 0.1176 - val_accuracy: 0.9649\n",
            "Epoch 72/100\n",
            "16/16 [==============================] - 0s 4ms/step - loss: 0.1825 - accuracy: 0.9512 - val_loss: 0.1178 - val_accuracy: 0.9649\n",
            "Epoch 73/100\n",
            "16/16 [==============================] - 0s 6ms/step - loss: 0.1521 - accuracy: 0.9531 - val_loss: 0.1231 - val_accuracy: 0.9649\n",
            "Epoch 74/100\n",
            "16/16 [==============================] - 0s 5ms/step - loss: 0.2287 - accuracy: 0.9199 - val_loss: 0.1171 - val_accuracy: 0.9708\n",
            "Epoch 75/100\n",
            "16/16 [==============================] - 0s 4ms/step - loss: 0.1715 - accuracy: 0.9531 - val_loss: 0.1156 - val_accuracy: 0.9708\n",
            "Epoch 76/100\n",
            "16/16 [==============================] - 0s 5ms/step - loss: 0.1850 - accuracy: 0.9395 - val_loss: 0.1145 - val_accuracy: 0.9708\n",
            "Epoch 77/100\n",
            "16/16 [==============================] - 0s 4ms/step - loss: 0.1405 - accuracy: 0.9551 - val_loss: 0.1108 - val_accuracy: 0.9649\n",
            "Epoch 78/100\n",
            "16/16 [==============================] - 0s 4ms/step - loss: 0.1585 - accuracy: 0.9453 - val_loss: 0.1107 - val_accuracy: 0.9649\n",
            "Epoch 79/100\n",
            "16/16 [==============================] - 0s 4ms/step - loss: 0.1487 - accuracy: 0.9453 - val_loss: 0.1091 - val_accuracy: 0.9649\n",
            "Epoch 80/100\n",
            "16/16 [==============================] - 0s 4ms/step - loss: 0.1453 - accuracy: 0.9473 - val_loss: 0.1060 - val_accuracy: 0.9708\n",
            "Epoch 81/100\n",
            "16/16 [==============================] - 0s 4ms/step - loss: 0.1672 - accuracy: 0.9414 - val_loss: 0.1093 - val_accuracy: 0.9708\n",
            "Epoch 82/100\n",
            "16/16 [==============================] - 0s 5ms/step - loss: 0.1570 - accuracy: 0.9473 - val_loss: 0.1114 - val_accuracy: 0.9649\n",
            "Epoch 83/100\n",
            "16/16 [==============================] - 0s 4ms/step - loss: 0.1453 - accuracy: 0.9531 - val_loss: 0.1092 - val_accuracy: 0.9649\n",
            "Epoch 84/100\n",
            "16/16 [==============================] - 0s 5ms/step - loss: 0.1542 - accuracy: 0.9570 - val_loss: 0.1103 - val_accuracy: 0.9649\n",
            "Epoch 85/100\n",
            "16/16 [==============================] - 0s 5ms/step - loss: 0.1434 - accuracy: 0.9609 - val_loss: 0.1131 - val_accuracy: 0.9649\n",
            "Epoch 86/100\n",
            "16/16 [==============================] - 0s 7ms/step - loss: 0.1165 - accuracy: 0.9531 - val_loss: 0.1037 - val_accuracy: 0.9649\n",
            "Epoch 87/100\n",
            "16/16 [==============================] - 0s 4ms/step - loss: 0.1549 - accuracy: 0.9395 - val_loss: 0.1019 - val_accuracy: 0.9649\n",
            "Epoch 88/100\n",
            "16/16 [==============================] - 0s 4ms/step - loss: 0.1660 - accuracy: 0.9355 - val_loss: 0.0980 - val_accuracy: 0.9766\n",
            "Epoch 89/100\n",
            "16/16 [==============================] - 0s 4ms/step - loss: 0.1472 - accuracy: 0.9375 - val_loss: 0.0951 - val_accuracy: 0.9825\n",
            "Epoch 90/100\n",
            "16/16 [==============================] - 0s 5ms/step - loss: 0.1734 - accuracy: 0.9414 - val_loss: 0.0955 - val_accuracy: 0.9766\n",
            "Epoch 91/100\n",
            "16/16 [==============================] - 0s 5ms/step - loss: 0.1600 - accuracy: 0.9375 - val_loss: 0.0964 - val_accuracy: 0.9766\n",
            "Epoch 92/100\n",
            "16/16 [==============================] - 0s 5ms/step - loss: 0.1477 - accuracy: 0.9453 - val_loss: 0.0975 - val_accuracy: 0.9708\n",
            "Epoch 93/100\n",
            "16/16 [==============================] - 0s 4ms/step - loss: 0.1465 - accuracy: 0.9395 - val_loss: 0.0967 - val_accuracy: 0.9708\n",
            "Epoch 94/100\n",
            "16/16 [==============================] - 0s 4ms/step - loss: 0.1536 - accuracy: 0.9512 - val_loss: 0.0951 - val_accuracy: 0.9766\n",
            "Epoch 95/100\n",
            "16/16 [==============================] - 0s 5ms/step - loss: 0.1215 - accuracy: 0.9570 - val_loss: 0.0942 - val_accuracy: 0.9649\n",
            "Epoch 96/100\n",
            "16/16 [==============================] - 0s 4ms/step - loss: 0.1486 - accuracy: 0.9473 - val_loss: 0.0981 - val_accuracy: 0.9649\n",
            "Epoch 97/100\n",
            "16/16 [==============================] - 0s 5ms/step - loss: 0.1405 - accuracy: 0.9473 - val_loss: 0.0994 - val_accuracy: 0.9649\n",
            "Epoch 98/100\n",
            "16/16 [==============================] - 0s 5ms/step - loss: 0.1411 - accuracy: 0.9551 - val_loss: 0.1001 - val_accuracy: 0.9708\n",
            "Epoch 99/100\n",
            "16/16 [==============================] - 0s 5ms/step - loss: 0.1224 - accuracy: 0.9609 - val_loss: 0.0998 - val_accuracy: 0.9708\n",
            "Epoch 100/100\n",
            "16/16 [==============================] - 0s 5ms/step - loss: 0.1567 - accuracy: 0.9434 - val_loss: 0.1002 - val_accuracy: 0.9766\n"
          ]
        }
      ]
    },
    {
      "cell_type": "code",
      "source": [
        "#install necessary keras visualization libraries \n",
        "!pip install ann_visualizer\n",
        "!pip install graphviz"
      ],
      "metadata": {
        "colab": {
          "base_uri": "https://localhost:8080/"
        },
        "id": "P4fnk-mq2hXo",
        "outputId": "a5735eb5-d7a3-4777-e6b9-80aeb0f8f38e"
      },
      "execution_count": 45,
      "outputs": [
        {
          "output_type": "stream",
          "name": "stdout",
          "text": [
            "Looking in indexes: https://pypi.org/simple, https://us-python.pkg.dev/colab-wheels/public/simple/\n",
            "Collecting ann_visualizer\n",
            "  Downloading ann_visualizer-2.5.tar.gz (4.7 kB)\n",
            "  Preparing metadata (setup.py) ... \u001b[?25l\u001b[?25hdone\n",
            "Building wheels for collected packages: ann_visualizer\n",
            "  Building wheel for ann_visualizer (setup.py) ... \u001b[?25l\u001b[?25hdone\n",
            "  Created wheel for ann_visualizer: filename=ann_visualizer-2.5-py3-none-any.whl size=4168 sha256=8aa70378dfe9ad145d5c9f68098e3e2391b20de667bd52cd0739b6620416791c\n",
            "  Stored in directory: /root/.cache/pip/wheels/4b/ef/77/9b8c4ae2f9a11de19957b80bc5c684accd99114bb8dc6b374c\n",
            "Successfully built ann_visualizer\n",
            "Installing collected packages: ann_visualizer\n",
            "Successfully installed ann_visualizer-2.5\n",
            "Looking in indexes: https://pypi.org/simple, https://us-python.pkg.dev/colab-wheels/public/simple/\n",
            "Requirement already satisfied: graphviz in /usr/local/lib/python3.8/dist-packages (0.10.1)\n"
          ]
        }
      ]
    },
    {
      "cell_type": "code",
      "source": [
        "#visualise the network\n",
        "from ann_visualizer.visualize import ann_viz;\n",
        "from graphviz import Source\n",
        "ann_viz(ann, view=True, filename='network.gv', title='Breast cancer prediction ANN  - group 13')\n",
        "Source.from_file('./network.gv')"
      ],
      "metadata": {
        "colab": {
          "base_uri": "https://localhost:8080/",
          "height": 1000
        },
        "id": "6B0EGIBz3C4v",
        "outputId": "7ca841b5-6003-4e21-9451-883f93b7fd76"
      },
      "execution_count": 47,
      "outputs": [
        {
          "output_type": "execute_result",
          "data": {
            "text/plain": [
              "<graphviz.files.Source at 0x7f7b37dc6e80>"
            ],
            "image/svg+xml": "<?xml version=\"1.0\" encoding=\"UTF-8\" standalone=\"no\"?>\n<!DOCTYPE svg PUBLIC \"-//W3C//DTD SVG 1.1//EN\"\n \"http://www.w3.org/Graphics/SVG/1.1/DTD/svg11.dtd\">\n<!-- Generated by graphviz version 2.40.1 (20161225.0304)\n -->\n<!-- Title: g Pages: 1 -->\n<svg width=\"1137pt\" height=\"1102pt\"\n viewBox=\"0.00 0.00 1137.00 1101.79\" xmlns=\"http://www.w3.org/2000/svg\" xmlns:xlink=\"http://www.w3.org/1999/xlink\">\n<g id=\"graph0\" class=\"graph\" transform=\"scale(1 1) rotate(0) translate(4 1097.7889)\">\n<title>g</title>\n<polygon fill=\"#ffffff\" stroke=\"transparent\" points=\"-4,4 -4,-1097.7889 1133,-1097.7889 1133,4 -4,4\"/>\n<g id=\"clust1\" class=\"cluster\">\n<title>cluster_input</title>\n<polygon fill=\"none\" stroke=\"#ffffff\" points=\"121,-947.7889 121,-1085.7889 1037,-1085.7889 1037,-947.7889 121,-947.7889\"/>\n<text text-anchor=\"middle\" x=\"579\" y=\"-1070.5889\" font-family=\"Times,serif\" font-size=\"14.00\" fill=\"#000000\">Breast cancer prediction ANN &#160;&#45; group 13</text>\n<text text-anchor=\"middle\" x=\"579\" y=\"-1007.5889\" font-family=\"Times,serif\" font-size=\"14.00\" fill=\"#000000\">Input Layer</text>\n</g>\n<g id=\"clust2\" class=\"cluster\">\n<title>cluster_1</title>\n<polygon fill=\"none\" stroke=\"#ffffff\" points=\"39,-739.1926 39,-819.7889 1121,-819.7889 1121,-739.1926 39,-739.1926\"/>\n<text text-anchor=\"middle\" x=\"1094.5\" y=\"-746.9926\" font-family=\"Times,serif\" font-size=\"14.00\" fill=\"#000000\"> (+20)</text>\n</g>\n<g id=\"clust3\" class=\"cluster\">\n<title>cluster_2</title>\n<polygon fill=\"none\" stroke=\"#ffffff\" points=\"476,-582.1926 476,-634.1926 624,-634.1926 624,-582.1926 476,-582.1926\"/>\n</g>\n<g id=\"clust4\" class=\"cluster\">\n<title>cluster_3</title>\n<polygon fill=\"none\" stroke=\"#ffffff\" points=\"8,-373.5963 8,-454.1926 1092,-454.1926 1092,-373.5963 8,-373.5963\"/>\n<text text-anchor=\"middle\" x=\"1065.5\" y=\"-381.3963\" font-family=\"Times,serif\" font-size=\"14.00\" fill=\"#000000\"> (+20)</text>\n</g>\n<g id=\"clust5\" class=\"cluster\">\n<title>cluster_4</title>\n<polygon fill=\"none\" stroke=\"#ffffff\" points=\"476,-216.5963 476,-268.5963 624,-268.5963 624,-216.5963 476,-216.5963\"/>\n</g>\n<g id=\"clust6\" class=\"cluster\">\n<title>cluster_output</title>\n<polygon fill=\"none\" stroke=\"#ffffff\" points=\"503,-8 503,-88.5963 597,-88.5963 597,-8 503,-8\"/>\n<text text-anchor=\"middle\" x=\"550\" y=\"-15.8\" font-family=\"Times,serif\" font-size=\"14.00\" fill=\"#000000\">Output Layer</text>\n</g>\n<!-- 1 -->\n<g id=\"node1\" class=\"node\">\n<title>1</title>\n<ellipse fill=\"#2ecc71\" stroke=\"#2ecc71\" cx=\"579\" cy=\"-973.7889\" rx=\"18\" ry=\"18\"/>\n<text text-anchor=\"middle\" x=\"579\" y=\"-970.0889\" font-family=\"Times,serif\" font-size=\"14.00\" fill=\"#2ecc71\">1</text>\n</g>\n<!-- 10 -->\n<g id=\"node10\" class=\"node\">\n<title>10</title>\n<ellipse fill=\"#3498db\" stroke=\"#3498db\" cx=\"180\" cy=\"-790.9908\" rx=\"20.5982\" ry=\"20.5982\"/>\n<text text-anchor=\"middle\" x=\"180\" y=\"-787.2908\" font-family=\"Times,serif\" font-size=\"14.00\" fill=\"#3498db\">10</text>\n</g>\n<!-- 1&#45;&gt;10 -->\n<g id=\"edge1\" class=\"edge\">\n<title>1&#45;&gt;10</title>\n<path fill=\"none\" stroke=\"#707070\" d=\"M562.6149,-966.2822C498.825,-937.0575 267.2428,-830.9603 199.03,-799.7092\"/>\n</g>\n<!-- 11 -->\n<g id=\"node11\" class=\"node\">\n<title>11</title>\n<ellipse fill=\"#3498db\" stroke=\"#3498db\" cx=\"67\" cy=\"-790.9908\" rx=\"20.2975\" ry=\"20.2975\"/>\n<text text-anchor=\"middle\" x=\"67\" y=\"-787.2908\" font-family=\"Times,serif\" font-size=\"14.00\" fill=\"#3498db\">11</text>\n</g>\n<!-- 1&#45;&gt;11 -->\n<g id=\"edge10\" class=\"edge\">\n<title>1&#45;&gt;11</title>\n<path fill=\"none\" stroke=\"#707070\" d=\"M561.9648,-967.7069C484.7505,-940.1393 167.8573,-826.9996 86.2426,-797.8609\"/>\n</g>\n<!-- 12 -->\n<g id=\"node12\" class=\"node\">\n<title>12</title>\n<ellipse fill=\"#3498db\" stroke=\"#3498db\" cx=\"1092\" cy=\"-790.9908\" rx=\"20.5982\" ry=\"20.5982\"/>\n<text text-anchor=\"middle\" x=\"1092\" y=\"-787.2908\" font-family=\"Times,serif\" font-size=\"14.00\" fill=\"#3498db\">12</text>\n</g>\n<!-- 1&#45;&gt;12 -->\n<g id=\"edge19\" class=\"edge\">\n<title>1&#45;&gt;12</title>\n<path fill=\"none\" stroke=\"#707070\" d=\"M596.0684,-967.7069C673.2597,-940.2012 989.5199,-827.5077 1072.165,-798.0586\"/>\n</g>\n<!-- 13 -->\n<g id=\"node13\" class=\"node\">\n<title>13</title>\n<ellipse fill=\"#3498db\" stroke=\"#3498db\" cx=\"978\" cy=\"-790.9908\" rx=\"20.5982\" ry=\"20.5982\"/>\n<text text-anchor=\"middle\" x=\"978\" y=\"-787.2908\" font-family=\"Times,serif\" font-size=\"14.00\" fill=\"#3498db\">13</text>\n</g>\n<!-- 1&#45;&gt;13 -->\n<g id=\"edge28\" class=\"edge\">\n<title>1&#45;&gt;13</title>\n<path fill=\"none\" stroke=\"#707070\" d=\"M595.3851,-966.2822C659.175,-937.0575 890.7572,-830.9603 958.97,-799.7092\"/>\n</g>\n<!-- 14 -->\n<g id=\"node14\" class=\"node\">\n<title>14</title>\n<ellipse fill=\"#3498db\" stroke=\"#3498db\" cx=\"864\" cy=\"-790.9908\" rx=\"20.5982\" ry=\"20.5982\"/>\n<text text-anchor=\"middle\" x=\"864\" y=\"-787.2908\" font-family=\"Times,serif\" font-size=\"14.00\" fill=\"#3498db\">14</text>\n</g>\n<!-- 1&#45;&gt;14 -->\n<g id=\"edge37\" class=\"edge\">\n<title>1&#45;&gt;14</title>\n<path fill=\"none\" stroke=\"#707070\" d=\"M594.3228,-963.9609C643.1145,-932.6661 794.6777,-835.4539 846.454,-802.2447\"/>\n</g>\n<!-- 15 -->\n<g id=\"node15\" class=\"node\">\n<title>15</title>\n<ellipse fill=\"#3498db\" stroke=\"#3498db\" cx=\"750\" cy=\"-790.9908\" rx=\"20.5982\" ry=\"20.5982\"/>\n<text text-anchor=\"middle\" x=\"750\" y=\"-787.2908\" font-family=\"Times,serif\" font-size=\"14.00\" fill=\"#3498db\">15</text>\n</g>\n<!-- 1&#45;&gt;15 -->\n<g id=\"edge46\" class=\"edge\">\n<title>1&#45;&gt;15</title>\n<path fill=\"none\" stroke=\"#707070\" d=\"M591.2979,-960.6425C622.1595,-927.6517 702.7607,-841.4894 735.6804,-806.2983\"/>\n</g>\n<!-- 16 -->\n<g id=\"node16\" class=\"node\">\n<title>16</title>\n<ellipse fill=\"#3498db\" stroke=\"#3498db\" cx=\"636\" cy=\"-790.9908\" rx=\"20.5982\" ry=\"20.5982\"/>\n<text text-anchor=\"middle\" x=\"636\" y=\"-787.2908\" font-family=\"Times,serif\" font-size=\"14.00\" fill=\"#3498db\">16</text>\n</g>\n<!-- 1&#45;&gt;16 -->\n<g id=\"edge55\" class=\"edge\">\n<title>1&#45;&gt;16</title>\n<path fill=\"none\" stroke=\"#707070\" d=\"M584.3624,-956.5917C594.949,-922.6407 618.4828,-847.1682 629.751,-811.0311\"/>\n</g>\n<!-- 17 -->\n<g id=\"node17\" class=\"node\">\n<title>17</title>\n<ellipse fill=\"#3498db\" stroke=\"#3498db\" cx=\"522\" cy=\"-790.9908\" rx=\"20.5982\" ry=\"20.5982\"/>\n<text text-anchor=\"middle\" x=\"522\" y=\"-787.2908\" font-family=\"Times,serif\" font-size=\"14.00\" fill=\"#3498db\">17</text>\n</g>\n<!-- 1&#45;&gt;17 -->\n<g id=\"edge64\" class=\"edge\">\n<title>1&#45;&gt;17</title>\n<path fill=\"none\" stroke=\"#707070\" d=\"M573.6376,-956.5917C563.051,-922.6407 539.5172,-847.1682 528.249,-811.0311\"/>\n</g>\n<!-- 18 -->\n<g id=\"node18\" class=\"node\">\n<title>18</title>\n<ellipse fill=\"#3498db\" stroke=\"#3498db\" cx=\"408\" cy=\"-790.9908\" rx=\"20.5982\" ry=\"20.5982\"/>\n<text text-anchor=\"middle\" x=\"408\" y=\"-787.2908\" font-family=\"Times,serif\" font-size=\"14.00\" fill=\"#3498db\">18</text>\n</g>\n<!-- 1&#45;&gt;18 -->\n<g id=\"edge73\" class=\"edge\">\n<title>1&#45;&gt;18</title>\n<path fill=\"none\" stroke=\"#707070\" d=\"M566.7021,-960.6425C535.8405,-927.6517 455.2393,-841.4894 422.3196,-806.2983\"/>\n</g>\n<!-- 19 -->\n<g id=\"node19\" class=\"node\">\n<title>19</title>\n<ellipse fill=\"#3498db\" stroke=\"#3498db\" cx=\"294\" cy=\"-790.9908\" rx=\"20.5982\" ry=\"20.5982\"/>\n<text text-anchor=\"middle\" x=\"294\" y=\"-787.2908\" font-family=\"Times,serif\" font-size=\"14.00\" fill=\"#3498db\">19</text>\n</g>\n<!-- 1&#45;&gt;19 -->\n<g id=\"edge82\" class=\"edge\">\n<title>1&#45;&gt;19</title>\n<path fill=\"none\" stroke=\"#707070\" d=\"M563.6772,-963.9609C514.8855,-932.6661 363.3223,-835.4539 311.546,-802.2447\"/>\n</g>\n<!-- 2 -->\n<g id=\"node2\" class=\"node\">\n<title>2</title>\n<ellipse fill=\"#2ecc71\" stroke=\"#2ecc71\" cx=\"471\" cy=\"-973.7889\" rx=\"18\" ry=\"18\"/>\n<text text-anchor=\"middle\" x=\"471\" y=\"-970.0889\" font-family=\"Times,serif\" font-size=\"14.00\" fill=\"#2ecc71\">2</text>\n</g>\n<!-- 2&#45;&gt;10 -->\n<g id=\"edge2\" class=\"edge\">\n<title>2&#45;&gt;10</title>\n<path fill=\"none\" stroke=\"#707070\" d=\"M455.3546,-963.9609C405.5358,-932.6661 250.7817,-835.4539 197.9154,-802.2447\"/>\n</g>\n<!-- 2&#45;&gt;11 -->\n<g id=\"edge11\" class=\"edge\">\n<title>2&#45;&gt;11</title>\n<path fill=\"none\" stroke=\"#707070\" d=\"M454.4095,-966.2822C389.6718,-936.9903 154.2571,-830.4721 85.7948,-799.4949\"/>\n</g>\n<!-- 2&#45;&gt;12 -->\n<g id=\"edge20\" class=\"edge\">\n<title>2&#45;&gt;12</title>\n<path fill=\"none\" stroke=\"#707070\" d=\"M488.585,-968.6126C577.5057,-942.4378 977.1069,-824.8108 1071.8219,-796.9304\"/>\n</g>\n<!-- 2&#45;&gt;13 -->\n<g id=\"edge29\" class=\"edge\">\n<title>2&#45;&gt;13</title>\n<path fill=\"none\" stroke=\"#707070\" d=\"M488.1593,-967.6022C564.8737,-939.9429 876.2244,-827.6858 958.1618,-798.1434\"/>\n</g>\n<!-- 2&#45;&gt;14 -->\n<g id=\"edge38\" class=\"edge\">\n<title>2&#45;&gt;14</title>\n<path fill=\"none\" stroke=\"#707070\" d=\"M487.3864,-966.167C550.4336,-936.8416 777.2009,-831.3641 844.8308,-799.907\"/>\n</g>\n<!-- 2&#45;&gt;15 -->\n<g id=\"edge47\" class=\"edge\">\n<title>2&#45;&gt;15</title>\n<path fill=\"none\" stroke=\"#707070\" d=\"M486.3977,-963.7005C534.4914,-932.19 681.7205,-835.7269 732.5366,-802.4326\"/>\n</g>\n<!-- 2&#45;&gt;16 -->\n<g id=\"edge56\" class=\"edge\">\n<title>2&#45;&gt;16</title>\n<path fill=\"none\" stroke=\"#707070\" d=\"M483.1328,-960.3473C513.051,-927.202 590.2264,-841.7019 622.0067,-806.4935\"/>\n</g>\n<!-- 2&#45;&gt;17 -->\n<g id=\"edge65\" class=\"edge\">\n<title>2&#45;&gt;17</title>\n<path fill=\"none\" stroke=\"#707070\" d=\"M475.8901,-956.2615C485.389,-922.2149 506.284,-847.3213 516.3545,-811.2257\"/>\n</g>\n<!-- 2&#45;&gt;18 -->\n<g id=\"edge74\" class=\"edge\">\n<title>2&#45;&gt;18</title>\n<path fill=\"none\" stroke=\"#707070\" d=\"M465.0731,-956.5917C453.3415,-922.5518 427.2248,-846.7728 414.8092,-810.7481\"/>\n</g>\n<!-- 2&#45;&gt;19 -->\n<g id=\"edge83\" class=\"edge\">\n<title>2&#45;&gt;19</title>\n<path fill=\"none\" stroke=\"#707070\" d=\"M458.2706,-960.6425C426.2469,-927.5698 342.4825,-841.0615 308.5693,-806.0373\"/>\n</g>\n<!-- 3 -->\n<g id=\"node3\" class=\"node\">\n<title>3</title>\n<ellipse fill=\"#2ecc71\" stroke=\"#2ecc71\" cx=\"363\" cy=\"-973.7889\" rx=\"18\" ry=\"18\"/>\n<text text-anchor=\"middle\" x=\"363\" y=\"-970.0889\" font-family=\"Times,serif\" font-size=\"14.00\" fill=\"#2ecc71\">3</text>\n</g>\n<!-- 3&#45;&gt;10 -->\n<g id=\"edge3\" class=\"edge\">\n<title>3&#45;&gt;10</title>\n<path fill=\"none\" stroke=\"#707070\" d=\"M350.1318,-960.9349C317.1823,-928.0218 229.9075,-840.8432 194.8684,-805.8428\"/>\n</g>\n<!-- 3&#45;&gt;11 -->\n<g id=\"edge12\" class=\"edge\">\n<title>3&#45;&gt;11</title>\n<path fill=\"none\" stroke=\"#707070\" d=\"M347.5025,-964.2183C296.9473,-932.9973 137.0471,-834.2491 84.1657,-801.5916\"/>\n</g>\n<!-- 3&#45;&gt;12 -->\n<g id=\"edge21\" class=\"edge\">\n<title>3&#45;&gt;12</title>\n<path fill=\"none\" stroke=\"#707070\" d=\"M380.6591,-969.3609C479.7038,-944.5252 965.5266,-822.7042 1071.5432,-796.1204\"/>\n</g>\n<!-- 3&#45;&gt;13 -->\n<g id=\"edge30\" class=\"edge\">\n<title>3&#45;&gt;13</title>\n<path fill=\"none\" stroke=\"#707070\" d=\"M380.4151,-968.6126C468.4767,-942.4378 864.217,-824.8108 958.0169,-796.9304\"/>\n</g>\n<!-- 3&#45;&gt;14 -->\n<g id=\"edge39\" class=\"edge\">\n<title>3&#45;&gt;14</title>\n<path fill=\"none\" stroke=\"#707070\" d=\"M379.9562,-967.6022C455.7628,-939.9429 763.4288,-827.6858 844.3966,-798.1434\"/>\n</g>\n<!-- 3&#45;&gt;15 -->\n<g id=\"edge48\" class=\"edge\">\n<title>3&#45;&gt;15</title>\n<path fill=\"none\" stroke=\"#707070\" d=\"M379.6289,-965.9343C442.2737,-936.3443 663.8552,-831.681 730.7425,-800.087\"/>\n</g>\n<!-- 3&#45;&gt;16 -->\n<g id=\"edge57\" class=\"edge\">\n<title>3&#45;&gt;16</title>\n<path fill=\"none\" stroke=\"#707070\" d=\"M378.0665,-963.7005C425.0142,-932.2648 568.505,-836.1848 618.5562,-802.671\"/>\n</g>\n<!-- 3&#45;&gt;17 -->\n<g id=\"edge66\" class=\"edge\">\n<title>3&#45;&gt;17</title>\n<path fill=\"none\" stroke=\"#707070\" d=\"M374.9508,-960.0494C403.9116,-926.754 477.709,-841.9109 508.346,-806.6885\"/>\n</g>\n<!-- 3&#45;&gt;18 -->\n<g id=\"edge75\" class=\"edge\">\n<title>3&#45;&gt;18</title>\n<path fill=\"none\" stroke=\"#707070\" d=\"M367.3148,-956.2615C375.6961,-922.2149 394.1329,-847.3213 403.0187,-811.2257\"/>\n</g>\n<!-- 3&#45;&gt;19 -->\n<g id=\"edge84\" class=\"edge\">\n<title>3&#45;&gt;19</title>\n<path fill=\"none\" stroke=\"#707070\" d=\"M356.6323,-956.9194C343.8212,-922.9794 314.9961,-846.6146 301.3842,-810.5534\"/>\n</g>\n<!-- 4 -->\n<g id=\"node4\" class=\"node\">\n<title>4</title>\n<ellipse fill=\"#2ecc71\" stroke=\"#2ecc71\" cx=\"255\" cy=\"-973.7889\" rx=\"18\" ry=\"18\"/>\n<text text-anchor=\"middle\" x=\"255\" y=\"-970.0889\" font-family=\"Times,serif\" font-size=\"14.00\" fill=\"#2ecc71\">4</text>\n</g>\n<!-- 4&#45;&gt;10 -->\n<g id=\"edge4\" class=\"edge\">\n<title>4&#45;&gt;10</title>\n<path fill=\"none\" stroke=\"#707070\" d=\"M248.0786,-956.9194C234.1172,-922.891 202.6585,-846.2165 187.9111,-810.2725\"/>\n</g>\n<!-- 4&#45;&gt;11 -->\n<g id=\"edge13\" class=\"edge\">\n<title>4&#45;&gt;11</title>\n<path fill=\"none\" stroke=\"#707070\" d=\"M242.078,-961.2245C208.2311,-928.3141 117.1515,-839.7546 81.5469,-805.1351\"/>\n</g>\n<!-- 4&#45;&gt;12 -->\n<g id=\"edge22\" class=\"edge\">\n<title>4&#45;&gt;12</title>\n<path fill=\"none\" stroke=\"#707070\" d=\"M272.8692,-969.8864C381.7332,-946.1108 954.9524,-820.9215 1071.3625,-795.4979\"/>\n</g>\n<!-- 4&#45;&gt;13 -->\n<g id=\"edge31\" class=\"edge\">\n<title>4&#45;&gt;13</title>\n<path fill=\"none\" stroke=\"#707070\" d=\"M272.5138,-969.3609C370.7433,-944.5252 852.5676,-822.7042 957.7115,-796.1204\"/>\n</g>\n<!-- 4&#45;&gt;14 -->\n<g id=\"edge40\" class=\"edge\">\n<title>4&#45;&gt;14</title>\n<path fill=\"none\" stroke=\"#707070\" d=\"M272.2452,-968.6126C359.3509,-942.4668 750.4576,-825.0718 843.9015,-797.0236\"/>\n</g>\n<!-- 4&#45;&gt;15 -->\n<g id=\"edge49\" class=\"edge\">\n<title>4&#45;&gt;15</title>\n<path fill=\"none\" stroke=\"#707070\" d=\"M272.039,-967.4966C347.3497,-939.6852 650.1538,-827.8629 730.4012,-798.2284\"/>\n</g>\n<!-- 4&#45;&gt;16 -->\n<g id=\"edge58\" class=\"edge\">\n<title>4&#45;&gt;16</title>\n<path fill=\"none\" stroke=\"#707070\" d=\"M271.3711,-965.9343C333.0447,-936.3443 551.1908,-831.681 617.041,-800.087\"/>\n</g>\n<!-- 4&#45;&gt;17 -->\n<g id=\"edge67\" class=\"edge\">\n<title>4&#45;&gt;17</title>\n<path fill=\"none\" stroke=\"#707070\" d=\"M270.1201,-963.4372C316.3428,-931.7914 455.5989,-836.4514 504.6631,-802.8603\"/>\n</g>\n<!-- 4&#45;&gt;18 -->\n<g id=\"edge76\" class=\"edge\">\n<title>4&#45;&gt;18</title>\n<path fill=\"none\" stroke=\"#707070\" d=\"M266.7516,-959.7486C294.6714,-926.3912 364.8562,-842.5372 394.4763,-807.1484\"/>\n</g>\n<!-- 4&#45;&gt;19 -->\n<g id=\"edge85\" class=\"edge\">\n<title>4&#45;&gt;19</title>\n<path fill=\"none\" stroke=\"#707070\" d=\"M258.8105,-955.9286C266.0939,-921.7904 281.9499,-847.4714 289.6415,-811.4197\"/>\n</g>\n<!-- 5 -->\n<g id=\"node5\" class=\"node\">\n<title>5</title>\n<ellipse fill=\"#2ecc71\" stroke=\"#2ecc71\" cx=\"147\" cy=\"-973.7889\" rx=\"18\" ry=\"18\"/>\n<text text-anchor=\"middle\" x=\"147\" y=\"-970.0889\" font-family=\"Times,serif\" font-size=\"14.00\" fill=\"#2ecc71\">5</text>\n</g>\n<!-- 5&#45;&gt;10 -->\n<g id=\"edge5\" class=\"edge\">\n<title>5&#45;&gt;10</title>\n<path fill=\"none\" stroke=\"#707070\" d=\"M150.2243,-955.9286C156.3709,-921.8803 169.7332,-847.8622 176.2605,-811.7051\"/>\n</g>\n<!-- 5&#45;&gt;11 -->\n<g id=\"edge14\" class=\"edge\">\n<title>5&#45;&gt;11</title>\n<path fill=\"none\" stroke=\"#707070\" d=\"M139.7594,-957.2444C124.836,-923.1448 90.7466,-845.2513 75.1099,-809.5218\"/>\n</g>\n<!-- 5&#45;&gt;12 -->\n<g id=\"edge23\" class=\"edge\">\n<title>5&#45;&gt;12</title>\n<path fill=\"none\" stroke=\"#707070\" d=\"M165.0338,-970.3005C283.1768,-947.4473 945.6763,-819.2952 1071.4008,-794.9754\"/>\n</g>\n<!-- 5&#45;&gt;13 -->\n<g id=\"edge32\" class=\"edge\">\n<title>5&#45;&gt;13</title>\n<path fill=\"none\" stroke=\"#707070\" d=\"M164.7411,-969.8864C272.8247,-946.1108 841.9348,-820.9215 957.5104,-795.4979\"/>\n</g>\n<!-- 5&#45;&gt;14 -->\n<g id=\"edge41\" class=\"edge\">\n<title>5&#45;&gt;14</title>\n<path fill=\"none\" stroke=\"#707070\" d=\"M164.7237,-969.2703C262.8438,-944.2547 738.8156,-822.9064 843.5776,-796.1974\"/>\n</g>\n<!-- 5&#45;&gt;15 -->\n<g id=\"edge50\" class=\"edge\">\n<title>5&#45;&gt;15</title>\n<path fill=\"none\" stroke=\"#707070\" d=\"M164.3963,-968.5153C251.1956,-942.2023 636.9478,-825.2623 729.8321,-797.1046\"/>\n</g>\n<!-- 5&#45;&gt;16 -->\n<g id=\"edge59\" class=\"edge\">\n<title>5&#45;&gt;16</title>\n<path fill=\"none\" stroke=\"#707070\" d=\"M164.117,-967.3902C238.9181,-939.4281 536.8934,-828.0389 616.4107,-798.3137\"/>\n</g>\n<!-- 5&#45;&gt;17 -->\n<g id=\"edge68\" class=\"edge\">\n<title>5&#45;&gt;17</title>\n<path fill=\"none\" stroke=\"#707070\" d=\"M163.5971,-965.6985C224.8313,-935.8492 437.8848,-831.9937 502.9691,-800.2676\"/>\n</g>\n<!-- 5&#45;&gt;18 -->\n<g id=\"edge77\" class=\"edge\">\n<title>5&#45;&gt;18</title>\n<path fill=\"none\" stroke=\"#707070\" d=\"M161.7803,-963.4372C206.8565,-931.8669 342.4419,-836.9061 390.7077,-803.1019\"/>\n</g>\n<!-- 5&#45;&gt;19 -->\n<g id=\"edge86\" class=\"edge\">\n<title>5&#45;&gt;19</title>\n<path fill=\"none\" stroke=\"#707070\" d=\"M158.2908,-959.7486C185.0484,-926.4748 252.2104,-842.9572 280.7919,-807.4153\"/>\n</g>\n<!-- 6 -->\n<g id=\"node6\" class=\"node\">\n<title>6</title>\n<ellipse fill=\"#2ecc71\" stroke=\"#2ecc71\" cx=\"1011\" cy=\"-973.7889\" rx=\"18\" ry=\"18\"/>\n<text text-anchor=\"middle\" x=\"1011\" y=\"-970.0889\" font-family=\"Times,serif\" font-size=\"14.00\" fill=\"#2ecc71\">6</text>\n</g>\n<!-- 6&#45;&gt;10 -->\n<g id=\"edge6\" class=\"edge\">\n<title>6&#45;&gt;10</title>\n<path fill=\"none\" stroke=\"#707070\" d=\"M993.2589,-969.8864C885.1753,-946.1108 316.0652,-820.9215 200.4896,-795.4979\"/>\n</g>\n<!-- 6&#45;&gt;11 -->\n<g id=\"edge15\" class=\"edge\">\n<title>6&#45;&gt;11</title>\n<path fill=\"none\" stroke=\"#707070\" d=\"M992.9853,-970.3005C874.8399,-947.4226 211.7388,-819.0183 87.1724,-794.897\"/>\n</g>\n<!-- 6&#45;&gt;12 -->\n<g id=\"edge24\" class=\"edge\">\n<title>6&#45;&gt;12</title>\n<path fill=\"none\" stroke=\"#707070\" d=\"M1018.3311,-957.2444C1033.3631,-923.3206 1067.6012,-846.0532 1083.5424,-810.0776\"/>\n</g>\n<!-- 6&#45;&gt;13 -->\n<g id=\"edge33\" class=\"edge\">\n<title>6&#45;&gt;13</title>\n<path fill=\"none\" stroke=\"#707070\" d=\"M1007.7757,-955.9286C1001.6291,-921.8803 988.2668,-847.8622 981.7395,-811.7051\"/>\n</g>\n<!-- 6&#45;&gt;14 -->\n<g id=\"edge42\" class=\"edge\">\n<title>6&#45;&gt;14</title>\n<path fill=\"none\" stroke=\"#707070\" d=\"M999.7092,-959.7486C972.9516,-926.4748 905.7896,-842.9572 877.2081,-807.4153\"/>\n</g>\n<!-- 6&#45;&gt;15 -->\n<g id=\"edge51\" class=\"edge\">\n<title>6&#45;&gt;15</title>\n<path fill=\"none\" stroke=\"#707070\" d=\"M996.2197,-963.4372C951.1435,-931.8669 815.5581,-836.9061 767.2923,-803.1019\"/>\n</g>\n<!-- 6&#45;&gt;16 -->\n<g id=\"edge60\" class=\"edge\">\n<title>6&#45;&gt;16</title>\n<path fill=\"none\" stroke=\"#707070\" d=\"M994.4029,-965.6985C933.1687,-935.8492 720.1152,-831.9937 655.0309,-800.2676\"/>\n</g>\n<!-- 6&#45;&gt;17 -->\n<g id=\"edge69\" class=\"edge\">\n<title>6&#45;&gt;17</title>\n<path fill=\"none\" stroke=\"#707070\" d=\"M993.883,-967.3902C919.0819,-939.4281 621.1066,-828.0389 541.5893,-798.3137\"/>\n</g>\n<!-- 6&#45;&gt;18 -->\n<g id=\"edge78\" class=\"edge\">\n<title>6&#45;&gt;18</title>\n<path fill=\"none\" stroke=\"#707070\" d=\"M993.6037,-968.5153C906.8044,-942.2023 521.0522,-825.2623 428.1679,-797.1046\"/>\n</g>\n<!-- 6&#45;&gt;19 -->\n<g id=\"edge87\" class=\"edge\">\n<title>6&#45;&gt;19</title>\n<path fill=\"none\" stroke=\"#707070\" d=\"M993.2763,-969.2703C895.1562,-944.2547 419.1844,-822.9064 314.4224,-796.1974\"/>\n</g>\n<!-- 7 -->\n<g id=\"node7\" class=\"node\">\n<title>7</title>\n<ellipse fill=\"#2ecc71\" stroke=\"#2ecc71\" cx=\"903\" cy=\"-973.7889\" rx=\"18\" ry=\"18\"/>\n<text text-anchor=\"middle\" x=\"903\" y=\"-970.0889\" font-family=\"Times,serif\" font-size=\"14.00\" fill=\"#2ecc71\">7</text>\n</g>\n<!-- 7&#45;&gt;10 -->\n<g id=\"edge7\" class=\"edge\">\n<title>7&#45;&gt;10</title>\n<path fill=\"none\" stroke=\"#707070\" d=\"M885.4862,-969.3609C787.2567,-944.5252 305.4324,-822.7042 200.2885,-796.1204\"/>\n</g>\n<!-- 7&#45;&gt;11 -->\n<g id=\"edge16\" class=\"edge\">\n<title>7&#45;&gt;11</title>\n<path fill=\"none\" stroke=\"#707070\" d=\"M885.1522,-969.8864C776.1816,-946.0591 201.3897,-820.3762 86.8603,-795.3334\"/>\n</g>\n<!-- 7&#45;&gt;12 -->\n<g id=\"edge25\" class=\"edge\">\n<title>7&#45;&gt;12</title>\n<path fill=\"none\" stroke=\"#707070\" d=\"M915.9907,-961.2245C949.8509,-928.4754 1040.6855,-840.6215 1076.8454,-805.6481\"/>\n</g>\n<!-- 7&#45;&gt;13 -->\n<g id=\"edge34\" class=\"edge\">\n<title>7&#45;&gt;13</title>\n<path fill=\"none\" stroke=\"#707070\" d=\"M909.9214,-956.9194C923.8828,-922.891 955.3415,-846.2165 970.0889,-810.2725\"/>\n</g>\n<!-- 7&#45;&gt;14 -->\n<g id=\"edge43\" class=\"edge\">\n<title>7&#45;&gt;14</title>\n<path fill=\"none\" stroke=\"#707070\" d=\"M899.1895,-955.9286C891.9061,-921.7904 876.0501,-847.4714 868.3585,-811.4197\"/>\n</g>\n<!-- 7&#45;&gt;15 -->\n<g id=\"edge52\" class=\"edge\">\n<title>7&#45;&gt;15</title>\n<path fill=\"none\" stroke=\"#707070\" d=\"M891.2484,-959.7486C863.3286,-926.3912 793.1438,-842.5372 763.5237,-807.1484\"/>\n</g>\n<!-- 7&#45;&gt;16 -->\n<g id=\"edge61\" class=\"edge\">\n<title>7&#45;&gt;16</title>\n<path fill=\"none\" stroke=\"#707070\" d=\"M887.8799,-963.4372C841.6572,-931.7914 702.4011,-836.4514 653.3369,-802.8603\"/>\n</g>\n<!-- 7&#45;&gt;17 -->\n<g id=\"edge70\" class=\"edge\">\n<title>7&#45;&gt;17</title>\n<path fill=\"none\" stroke=\"#707070\" d=\"M886.6289,-965.9343C824.9553,-936.3443 606.8092,-831.681 540.959,-800.087\"/>\n</g>\n<!-- 7&#45;&gt;18 -->\n<g id=\"edge79\" class=\"edge\">\n<title>7&#45;&gt;18</title>\n<path fill=\"none\" stroke=\"#707070\" d=\"M885.961,-967.4966C810.6503,-939.6852 507.8462,-827.8629 427.5988,-798.2284\"/>\n</g>\n<!-- 7&#45;&gt;19 -->\n<g id=\"edge88\" class=\"edge\">\n<title>7&#45;&gt;19</title>\n<path fill=\"none\" stroke=\"#707070\" d=\"M885.7548,-968.6126C798.6491,-942.4668 407.5424,-825.0718 314.0985,-797.0236\"/>\n</g>\n<!-- 8 -->\n<g id=\"node8\" class=\"node\">\n<title>8</title>\n<ellipse fill=\"#2ecc71\" stroke=\"#2ecc71\" cx=\"795\" cy=\"-973.7889\" rx=\"18\" ry=\"18\"/>\n<text text-anchor=\"middle\" x=\"795\" y=\"-970.0889\" font-family=\"Times,serif\" font-size=\"14.00\" fill=\"#2ecc71\">8</text>\n</g>\n<!-- 8&#45;&gt;10 -->\n<g id=\"edge8\" class=\"edge\">\n<title>8&#45;&gt;10</title>\n<path fill=\"none\" stroke=\"#707070\" d=\"M777.5849,-968.6126C689.5233,-942.4378 293.783,-824.8108 199.9831,-796.9304\"/>\n</g>\n<!-- 8&#45;&gt;11 -->\n<g id=\"edge17\" class=\"edge\">\n<title>8&#45;&gt;11</title>\n<path fill=\"none\" stroke=\"#707070\" d=\"M777.3651,-969.3609C678.2392,-944.4707 191.1678,-822.1689 86.737,-795.9467\"/>\n</g>\n<!-- 8&#45;&gt;12 -->\n<g id=\"edge26\" class=\"edge\">\n<title>8&#45;&gt;12</title>\n<path fill=\"none\" stroke=\"#707070\" d=\"M810.5498,-964.2183C861.0372,-933.1442 1020.2087,-835.177 1074.0201,-802.0571\"/>\n</g>\n<!-- 8&#45;&gt;13 -->\n<g id=\"edge35\" class=\"edge\">\n<title>8&#45;&gt;13</title>\n<path fill=\"none\" stroke=\"#707070\" d=\"M807.8682,-960.9349C840.8177,-928.0218 928.0925,-840.8432 963.1316,-805.8428\"/>\n</g>\n<!-- 8&#45;&gt;14 -->\n<g id=\"edge44\" class=\"edge\">\n<title>8&#45;&gt;14</title>\n<path fill=\"none\" stroke=\"#707070\" d=\"M801.3677,-956.9194C814.1788,-922.9794 843.0039,-846.6146 856.6158,-810.5534\"/>\n</g>\n<!-- 8&#45;&gt;15 -->\n<g id=\"edge53\" class=\"edge\">\n<title>8&#45;&gt;15</title>\n<path fill=\"none\" stroke=\"#707070\" d=\"M790.6852,-956.2615C782.3039,-922.2149 763.8671,-847.3213 754.9813,-811.2257\"/>\n</g>\n<!-- 8&#45;&gt;16 -->\n<g id=\"edge62\" class=\"edge\">\n<title>8&#45;&gt;16</title>\n<path fill=\"none\" stroke=\"#707070\" d=\"M783.0492,-960.0494C754.0884,-926.754 680.291,-841.9109 649.654,-806.6885\"/>\n</g>\n<!-- 8&#45;&gt;17 -->\n<g id=\"edge71\" class=\"edge\">\n<title>8&#45;&gt;17</title>\n<path fill=\"none\" stroke=\"#707070\" d=\"M779.9335,-963.7005C732.9858,-932.2648 589.495,-836.1848 539.4438,-802.671\"/>\n</g>\n<!-- 8&#45;&gt;18 -->\n<g id=\"edge80\" class=\"edge\">\n<title>8&#45;&gt;18</title>\n<path fill=\"none\" stroke=\"#707070\" d=\"M778.3711,-965.9343C715.7263,-936.3443 494.1448,-831.681 427.2575,-800.087\"/>\n</g>\n<!-- 8&#45;&gt;19 -->\n<g id=\"edge89\" class=\"edge\">\n<title>8&#45;&gt;19</title>\n<path fill=\"none\" stroke=\"#707070\" d=\"M778.0438,-967.6022C702.2372,-939.9429 394.5712,-827.6858 313.6034,-798.1434\"/>\n</g>\n<!-- 9 -->\n<g id=\"node9\" class=\"node\">\n<title>9</title>\n<ellipse fill=\"#2ecc71\" stroke=\"#2ecc71\" cx=\"687\" cy=\"-973.7889\" rx=\"18\" ry=\"18\"/>\n<text text-anchor=\"middle\" x=\"687\" y=\"-970.0889\" font-family=\"Times,serif\" font-size=\"14.00\" fill=\"#2ecc71\">9</text>\n</g>\n<!-- 9&#45;&gt;10 -->\n<g id=\"edge9\" class=\"edge\">\n<title>9&#45;&gt;10</title>\n<path fill=\"none\" stroke=\"#707070\" d=\"M669.8407,-967.6022C593.1263,-939.9429 281.7756,-827.6858 199.8382,-798.1434\"/>\n</g>\n<!-- 9&#45;&gt;11 -->\n<g id=\"edge18\" class=\"edge\">\n<title>9&#45;&gt;11</title>\n<path fill=\"none\" stroke=\"#707070\" d=\"M669.4433,-968.6126C580.4687,-942.3797 179.9353,-824.2881 86.5204,-796.7461\"/>\n</g>\n<!-- 9&#45;&gt;12 -->\n<g id=\"edge27\" class=\"edge\">\n<title>9&#45;&gt;12</title>\n<path fill=\"none\" stroke=\"#707070\" d=\"M703.6315,-966.2822C768.3806,-937.0575 1003.4452,-830.9603 1072.6838,-799.7092\"/>\n</g>\n<!-- 9&#45;&gt;13 -->\n<g id=\"edge36\" class=\"edge\">\n<title>9&#45;&gt;13</title>\n<path fill=\"none\" stroke=\"#707070\" d=\"M702.6454,-963.9609C752.4642,-932.6661 907.2183,-835.4539 960.0846,-802.2447\"/>\n</g>\n<!-- 9&#45;&gt;14 -->\n<g id=\"edge45\" class=\"edge\">\n<title>9&#45;&gt;14</title>\n<path fill=\"none\" stroke=\"#707070\" d=\"M699.7294,-960.6425C731.7531,-927.5698 815.5175,-841.0615 849.4307,-806.0373\"/>\n</g>\n<!-- 9&#45;&gt;15 -->\n<g id=\"edge54\" class=\"edge\">\n<title>9&#45;&gt;15</title>\n<path fill=\"none\" stroke=\"#707070\" d=\"M692.9269,-956.5917C704.6585,-922.5518 730.7752,-846.7728 743.1908,-810.7481\"/>\n</g>\n<!-- 9&#45;&gt;16 -->\n<g id=\"edge63\" class=\"edge\">\n<title>9&#45;&gt;16</title>\n<path fill=\"none\" stroke=\"#707070\" d=\"M682.1099,-956.2615C672.611,-922.2149 651.716,-847.3213 641.6455,-811.2257\"/>\n</g>\n<!-- 9&#45;&gt;17 -->\n<g id=\"edge72\" class=\"edge\">\n<title>9&#45;&gt;17</title>\n<path fill=\"none\" stroke=\"#707070\" d=\"M674.8672,-960.3473C644.949,-927.202 567.7736,-841.7019 535.9933,-806.4935\"/>\n</g>\n<!-- 9&#45;&gt;18 -->\n<g id=\"edge81\" class=\"edge\">\n<title>9&#45;&gt;18</title>\n<path fill=\"none\" stroke=\"#707070\" d=\"M671.6023,-963.7005C623.5086,-932.19 476.2795,-835.7269 425.4634,-802.4326\"/>\n</g>\n<!-- 9&#45;&gt;19 -->\n<g id=\"edge90\" class=\"edge\">\n<title>9&#45;&gt;19</title>\n<path fill=\"none\" stroke=\"#707070\" d=\"M670.6136,-966.167C607.5664,-936.8416 380.7991,-831.3641 313.1692,-799.907\"/>\n</g>\n<!-- 20 -->\n<g id=\"node20\" class=\"node\">\n<title>20</title>\n<ellipse fill=\"#f39c12\" stroke=\"#000000\" cx=\"550\" cy=\"-608.1926\" rx=\"66.0889\" ry=\"18\"/>\n<text text-anchor=\"middle\" x=\"550\" y=\"-604.4926\" font-family=\"Times,serif\" font-size=\"14.00\" fill=\"#ffffff\">Dropout Layer</text>\n</g>\n<!-- 10&#45;&gt;20 -->\n<g id=\"edge91\" class=\"edge\">\n<title>10&#45;&gt;20</title>\n<path fill=\"none\" stroke=\"#707070\" d=\"M198.857,-781.6745C258.425,-752.245 443.0409,-661.0356 517.9392,-624.0322\"/>\n</g>\n<!-- 11&#45;&gt;20 -->\n<g id=\"edge92\" class=\"edge\">\n<title>11&#45;&gt;20</title>\n<path fill=\"none\" stroke=\"#707070\" d=\"M85.9342,-783.8249C157.6181,-756.6951 413.2516,-659.947 511.3175,-622.8325\"/>\n</g>\n<!-- 12&#45;&gt;20 -->\n<g id=\"edge93\" class=\"edge\">\n<title>12&#45;&gt;20</title>\n<path fill=\"none\" stroke=\"#707070\" d=\"M1072.0671,-784.2681C993.0951,-757.6335 701.1655,-659.1756 591.7638,-622.2781\"/>\n</g>\n<!-- 13&#45;&gt;20 -->\n<g id=\"edge94\" class=\"edge\">\n<title>13&#45;&gt;20</title>\n<path fill=\"none\" stroke=\"#707070\" d=\"M958.7783,-782.7812C892.4947,-754.4716 672.7788,-660.6312 585.8512,-623.5046\"/>\n</g>\n<!-- 14&#45;&gt;20 -->\n<g id=\"edge95\" class=\"edge\">\n<title>14&#45;&gt;20</title>\n<path fill=\"none\" stroke=\"#707070\" d=\"M845.7608,-780.3727C793.2742,-749.8171 641.5812,-661.5075 578.2749,-624.6531\"/>\n</g>\n<!-- 15&#45;&gt;20 -->\n<g id=\"edge96\" class=\"edge\">\n<title>15&#45;&gt;20</title>\n<path fill=\"none\" stroke=\"#707070\" d=\"M734.6384,-776.9504C698.5994,-744.0111 608.6878,-661.8327 569.1584,-625.7032\"/>\n</g>\n<!-- 16&#45;&gt;20 -->\n<g id=\"edge97\" class=\"edge\">\n<title>16&#45;&gt;20</title>\n<path fill=\"none\" stroke=\"#707070\" d=\"M627.1204,-772.1167C610.4691,-736.7233 574.7662,-660.8347 558.4493,-626.1522\"/>\n</g>\n<!-- 17&#45;&gt;20 -->\n<g id=\"edge98\" class=\"edge\">\n<title>17&#45;&gt;20</title>\n<path fill=\"none\" stroke=\"#707070\" d=\"M525.1575,-770.3768C530.6782,-734.3353 541.9945,-660.4563 547.23,-626.2767\"/>\n</g>\n<!-- 18&#45;&gt;20 -->\n<g id=\"edge99\" class=\"edge\">\n<title>18&#45;&gt;20</title>\n<path fill=\"none\" stroke=\"#707070\" d=\"M420.852,-774.4463C447.5458,-740.083 508.7874,-661.246 536.2428,-625.9024\"/>\n</g>\n<!-- 19&#45;&gt;20 -->\n<g id=\"edge100\" class=\"edge\">\n<title>19&#45;&gt;20</title>\n<path fill=\"none\" stroke=\"#707070\" d=\"M311.1944,-778.713C355.8127,-746.8531 475.3649,-661.4862 526.3911,-625.0507\"/>\n</g>\n<!-- 21 -->\n<g id=\"node21\" class=\"node\">\n<title>21</title>\n<ellipse fill=\"#3498db\" stroke=\"#3498db\" cx=\"1063\" cy=\"-425.3945\" rx=\"20.5982\" ry=\"20.5982\"/>\n<text text-anchor=\"middle\" x=\"1063\" y=\"-421.6945\" font-family=\"Times,serif\" font-size=\"14.00\" fill=\"#3498db\">21</text>\n</g>\n<!-- 20&#45;&gt;21 -->\n<g id=\"edge101\" class=\"edge\">\n<title>20&#45;&gt;21</title>\n<path fill=\"none\" stroke=\"#707070\" d=\"M590.2542,-593.8488C693.9465,-556.8999 967.3723,-459.4696 1043.2335,-432.4379\"/>\n</g>\n<!-- 22 -->\n<g id=\"node22\" class=\"node\">\n<title>22</title>\n<ellipse fill=\"#3498db\" stroke=\"#3498db\" cx=\"949\" cy=\"-425.3945\" rx=\"20.5982\" ry=\"20.5982\"/>\n<text text-anchor=\"middle\" x=\"949\" y=\"-421.6945\" font-family=\"Times,serif\" font-size=\"14.00\" fill=\"#3498db\">22</text>\n</g>\n<!-- 20&#45;&gt;22 -->\n<g id=\"edge102\" class=\"edge\">\n<title>20&#45;&gt;22</title>\n<path fill=\"none\" stroke=\"#707070\" d=\"M584.0185,-592.6074C664.866,-555.5678 866.47,-463.2048 929.7091,-434.2324\"/>\n</g>\n<!-- 23 -->\n<g id=\"node23\" class=\"node\">\n<title>23</title>\n<ellipse fill=\"#3498db\" stroke=\"#3498db\" cx=\"835\" cy=\"-425.3945\" rx=\"20.5982\" ry=\"20.5982\"/>\n<text text-anchor=\"middle\" x=\"835\" y=\"-421.6945\" font-family=\"Times,serif\" font-size=\"14.00\" fill=\"#3498db\">23</text>\n</g>\n<!-- 20&#45;&gt;23 -->\n<g id=\"edge103\" class=\"edge\">\n<title>20&#45;&gt;23</title>\n<path fill=\"none\" stroke=\"#707070\" d=\"M576.0474,-591.4859C633.3487,-554.733 769.0836,-467.6731 817.4812,-436.631\"/>\n</g>\n<!-- 24 -->\n<g id=\"node24\" class=\"node\">\n<title>24</title>\n<ellipse fill=\"#3498db\" stroke=\"#3498db\" cx=\"721\" cy=\"-425.3945\" rx=\"20.5982\" ry=\"20.5982\"/>\n<text text-anchor=\"middle\" x=\"721\" y=\"-421.6945\" font-family=\"Times,serif\" font-size=\"14.00\" fill=\"#3498db\">24</text>\n</g>\n<!-- 20&#45;&gt;24 -->\n<g id=\"edge104\" class=\"edge\">\n<title>20&#45;&gt;24</title>\n<path fill=\"none\" stroke=\"#707070\" d=\"M566.3962,-590.6652C599.75,-555.0101 675.0102,-474.5573 706.6059,-440.7817\"/>\n</g>\n<!-- 25 -->\n<g id=\"node25\" class=\"node\">\n<title>25</title>\n<ellipse fill=\"#3498db\" stroke=\"#3498db\" cx=\"607\" cy=\"-425.3945\" rx=\"20.5982\" ry=\"20.5982\"/>\n<text text-anchor=\"middle\" x=\"607\" y=\"-421.6945\" font-family=\"Times,serif\" font-size=\"14.00\" fill=\"#3498db\">25</text>\n</g>\n<!-- 20&#45;&gt;25 -->\n<g id=\"edge105\" class=\"edge\">\n<title>20&#45;&gt;25</title>\n<path fill=\"none\" stroke=\"#707070\" d=\"M555.6738,-589.9969C566.4024,-555.5904 589.5855,-481.2426 600.7463,-445.4499\"/>\n</g>\n<!-- 26 -->\n<g id=\"node26\" class=\"node\">\n<title>26</title>\n<ellipse fill=\"#3498db\" stroke=\"#3498db\" cx=\"493\" cy=\"-425.3945\" rx=\"20.5982\" ry=\"20.5982\"/>\n<text text-anchor=\"middle\" x=\"493\" y=\"-421.6945\" font-family=\"Times,serif\" font-size=\"14.00\" fill=\"#3498db\">26</text>\n</g>\n<!-- 20&#45;&gt;26 -->\n<g id=\"edge106\" class=\"edge\">\n<title>20&#45;&gt;26</title>\n<path fill=\"none\" stroke=\"#707070\" d=\"M544.3262,-589.9969C533.5976,-555.5904 510.4145,-481.2426 499.2537,-445.4499\"/>\n</g>\n<!-- 27 -->\n<g id=\"node27\" class=\"node\">\n<title>27</title>\n<ellipse fill=\"#3498db\" stroke=\"#3498db\" cx=\"379\" cy=\"-425.3945\" rx=\"20.5982\" ry=\"20.5982\"/>\n<text text-anchor=\"middle\" x=\"379\" y=\"-421.6945\" font-family=\"Times,serif\" font-size=\"14.00\" fill=\"#3498db\">27</text>\n</g>\n<!-- 20&#45;&gt;27 -->\n<g id=\"edge107\" class=\"edge\">\n<title>20&#45;&gt;27</title>\n<path fill=\"none\" stroke=\"#707070\" d=\"M533.6038,-590.6652C500.25,-555.0101 424.9898,-474.5573 393.3941,-440.7817\"/>\n</g>\n<!-- 28 -->\n<g id=\"node28\" class=\"node\">\n<title>28</title>\n<ellipse fill=\"#3498db\" stroke=\"#3498db\" cx=\"265\" cy=\"-425.3945\" rx=\"20.5982\" ry=\"20.5982\"/>\n<text text-anchor=\"middle\" x=\"265\" y=\"-421.6945\" font-family=\"Times,serif\" font-size=\"14.00\" fill=\"#3498db\">28</text>\n</g>\n<!-- 20&#45;&gt;28 -->\n<g id=\"edge108\" class=\"edge\">\n<title>20&#45;&gt;28</title>\n<path fill=\"none\" stroke=\"#707070\" d=\"M523.9526,-591.4859C466.6513,-554.733 330.9164,-467.6731 282.5188,-436.631\"/>\n</g>\n<!-- 29 -->\n<g id=\"node29\" class=\"node\">\n<title>29</title>\n<ellipse fill=\"#3498db\" stroke=\"#3498db\" cx=\"151\" cy=\"-425.3945\" rx=\"20.5982\" ry=\"20.5982\"/>\n<text text-anchor=\"middle\" x=\"151\" y=\"-421.6945\" font-family=\"Times,serif\" font-size=\"14.00\" fill=\"#3498db\">29</text>\n</g>\n<!-- 20&#45;&gt;29 -->\n<g id=\"edge109\" class=\"edge\">\n<title>20&#45;&gt;29</title>\n<path fill=\"none\" stroke=\"#707070\" d=\"M515.9815,-592.6074C435.134,-555.5678 233.53,-463.2048 170.2909,-434.2324\"/>\n</g>\n<!-- 30 -->\n<g id=\"node30\" class=\"node\">\n<title>30</title>\n<ellipse fill=\"#3498db\" stroke=\"#3498db\" cx=\"37\" cy=\"-425.3945\" rx=\"20.5982\" ry=\"20.5982\"/>\n<text text-anchor=\"middle\" x=\"37\" y=\"-421.6945\" font-family=\"Times,serif\" font-size=\"14.00\" fill=\"#3498db\">30</text>\n</g>\n<!-- 20&#45;&gt;30 -->\n<g id=\"edge110\" class=\"edge\">\n<title>20&#45;&gt;30</title>\n<path fill=\"none\" stroke=\"#707070\" d=\"M509.7458,-593.8488C406.0535,-556.8999 132.6277,-459.4696 56.7665,-432.4379\"/>\n</g>\n<!-- 31 -->\n<g id=\"node31\" class=\"node\">\n<title>31</title>\n<ellipse fill=\"#f39c12\" stroke=\"#000000\" cx=\"550\" cy=\"-242.5963\" rx=\"66.0889\" ry=\"18\"/>\n<text text-anchor=\"middle\" x=\"550\" y=\"-238.8963\" font-family=\"Times,serif\" font-size=\"14.00\" fill=\"#ffffff\">Dropout Layer</text>\n</g>\n<!-- 21&#45;&gt;31 -->\n<g id=\"edge111\" class=\"edge\">\n<title>21&#45;&gt;31</title>\n<path fill=\"none\" stroke=\"#707070\" d=\"M1043.2041,-418.3406C967.3401,-391.3078 694.2093,-293.9826 590.4115,-256.9962\"/>\n</g>\n<!-- 22&#45;&gt;31 -->\n<g id=\"edge112\" class=\"edge\">\n<title>22&#45;&gt;31</title>\n<path fill=\"none\" stroke=\"#707070\" d=\"M930.0238,-416.7007C867.1462,-387.8939 665.0298,-295.2961 584.036,-258.1896\"/>\n</g>\n<!-- 23&#45;&gt;31 -->\n<g id=\"edge113\" class=\"edge\">\n<title>23&#45;&gt;31</title>\n<path fill=\"none\" stroke=\"#707070\" d=\"M817.172,-413.9596C768.5489,-382.773 633.455,-296.1241 576.1921,-259.3958\"/>\n</g>\n<!-- 24&#45;&gt;31 -->\n<g id=\"edge114\" class=\"edge\">\n<title>24&#45;&gt;31</title>\n<path fill=\"none\" stroke=\"#707070\" d=\"M706.7148,-410.1236C675.1687,-376.4011 599.7182,-295.7448 566.3496,-260.0739\"/>\n</g>\n<!-- 25&#45;&gt;31 -->\n<g id=\"edge115\" class=\"edge\">\n<title>25&#45;&gt;31</title>\n<path fill=\"none\" stroke=\"#707070\" d=\"M600.7915,-405.4839C589.6251,-369.6733 566.3208,-294.9368 555.6073,-260.5788\"/>\n</g>\n<!-- 26&#45;&gt;31 -->\n<g id=\"edge116\" class=\"edge\">\n<title>26&#45;&gt;31</title>\n<path fill=\"none\" stroke=\"#707070\" d=\"M499.2085,-405.4839C510.3749,-369.6733 533.6792,-294.9368 544.3927,-260.5788\"/>\n</g>\n<!-- 27&#45;&gt;31 -->\n<g id=\"edge117\" class=\"edge\">\n<title>27&#45;&gt;31</title>\n<path fill=\"none\" stroke=\"#707070\" d=\"M393.2852,-410.1236C424.8313,-376.4011 500.2818,-295.7448 533.6504,-260.0739\"/>\n</g>\n<!-- 28&#45;&gt;31 -->\n<g id=\"edge118\" class=\"edge\">\n<title>28&#45;&gt;31</title>\n<path fill=\"none\" stroke=\"#707070\" d=\"M282.828,-413.9596C331.4511,-382.773 466.545,-296.1241 523.8079,-259.3958\"/>\n</g>\n<!-- 29&#45;&gt;31 -->\n<g id=\"edge119\" class=\"edge\">\n<title>29&#45;&gt;31</title>\n<path fill=\"none\" stroke=\"#707070\" d=\"M169.9762,-416.7007C232.8538,-387.8939 434.9702,-295.2961 515.964,-258.1896\"/>\n</g>\n<!-- 30&#45;&gt;31 -->\n<g id=\"edge120\" class=\"edge\">\n<title>30&#45;&gt;31</title>\n<path fill=\"none\" stroke=\"#707070\" d=\"M56.7959,-418.3406C132.6599,-391.3078 405.7907,-293.9826 509.5885,-256.9962\"/>\n</g>\n<!-- 32 -->\n<g id=\"node32\" class=\"node\">\n<title>32</title>\n<ellipse fill=\"#e74c3c\" stroke=\"#e74c3c\" cx=\"550\" cy=\"-59.7982\" rx=\"20.5982\" ry=\"20.5982\"/>\n<text text-anchor=\"middle\" x=\"550\" y=\"-56.0982\" font-family=\"Times,serif\" font-size=\"14.00\" fill=\"#e74c3c\">32</text>\n</g>\n<!-- 31&#45;&gt;32 -->\n<g id=\"edge121\" class=\"edge\">\n<title>31&#45;&gt;32</title>\n<path fill=\"none\" stroke=\"#707070\" d=\"M550,-224.4006C550,-190.265 550,-116.8147 550,-80.7062\"/>\n</g>\n</g>\n</svg>\n"
          },
          "metadata": {},
          "execution_count": 47
        }
      ]
    },
    {
      "cell_type": "code",
      "source": [
        "from keras.layers import BatchNormalization\n",
        "#create ann with sequence of layers\n",
        "ann =Sequential()\n",
        "\n",
        "#add 1st hidden layer with 30 neurons --- input layer is addedd automatically\n",
        "ann.add(Dense(units = 30,activation = 'relu'))\n",
        "ann.add(Dropout(0.5))\n",
        "\n",
        "#add 2nd hidden layer with 25 neurons\n",
        "ann.add(Dense(units = 30,activation = 'relu'))\n",
        "ann.add(Dropout(0.5))\n",
        "\n",
        "#add output layer with 1 neuron for binary classification\n",
        "ann.add(Dense(units = 1,activation = 'sigmoid'))"
      ],
      "metadata": {
        "id": "XPFi8jtd4FoP"
      },
      "execution_count": 48,
      "outputs": []
    },
    {
      "cell_type": "code",
      "source": [
        "#compile the ann using the stochastic gradient descent (optimizer = 'adam')\n",
        "ann.compile(optimizer = 'adam', loss = 'binary_crossentropy', metrics = ['accuracy'])\n",
        "\n",
        "#set callbacks to monitor maximum accuracy\n",
        "from keras.callbacks import EarlyStopping\n",
        "early_stop = EarlyStopping(monitor='val_loss', mode='min', verbose=1, patience=25)\n",
        "\n",
        "#train the ann with batch size of 32\n",
        "model=ann.fit(x_train, y_train,batch_size = 32, validation_data=(x_test, y_test),epochs =100,callbacks = [early_stop])"
      ],
      "metadata": {
        "colab": {
          "base_uri": "https://localhost:8080/"
        },
        "id": "qcxA7MpW4JCx",
        "outputId": "1a05f5ca-3913-416c-8c81-ce48b04a5e40"
      },
      "execution_count": 49,
      "outputs": [
        {
          "output_type": "stream",
          "name": "stdout",
          "text": [
            "Epoch 1/100\n",
            "16/16 [==============================] - 1s 18ms/step - loss: 1.0049 - accuracy: 0.5801 - val_loss: 0.6677 - val_accuracy: 0.3450\n",
            "Epoch 2/100\n",
            "16/16 [==============================] - 0s 6ms/step - loss: 0.8850 - accuracy: 0.5430 - val_loss: 0.6385 - val_accuracy: 0.3626\n",
            "Epoch 3/100\n",
            "16/16 [==============================] - 0s 4ms/step - loss: 0.7964 - accuracy: 0.5430 - val_loss: 0.6115 - val_accuracy: 0.4795\n",
            "Epoch 4/100\n",
            "16/16 [==============================] - 0s 4ms/step - loss: 0.7100 - accuracy: 0.5957 - val_loss: 0.5893 - val_accuracy: 0.6199\n",
            "Epoch 5/100\n",
            "16/16 [==============================] - 0s 4ms/step - loss: 0.6627 - accuracy: 0.6328 - val_loss: 0.5675 - val_accuracy: 0.6842\n",
            "Epoch 6/100\n",
            "16/16 [==============================] - 0s 5ms/step - loss: 0.6629 - accuracy: 0.6406 - val_loss: 0.5454 - val_accuracy: 0.7427\n",
            "Epoch 7/100\n",
            "16/16 [==============================] - 0s 4ms/step - loss: 0.6488 - accuracy: 0.6836 - val_loss: 0.5284 - val_accuracy: 0.8129\n",
            "Epoch 8/100\n",
            "16/16 [==============================] - 0s 4ms/step - loss: 0.6021 - accuracy: 0.6797 - val_loss: 0.5108 - val_accuracy: 0.8421\n",
            "Epoch 9/100\n",
            "16/16 [==============================] - 0s 5ms/step - loss: 0.5791 - accuracy: 0.7500 - val_loss: 0.4945 - val_accuracy: 0.8655\n",
            "Epoch 10/100\n",
            "16/16 [==============================] - 0s 5ms/step - loss: 0.5433 - accuracy: 0.7773 - val_loss: 0.4725 - val_accuracy: 0.8889\n",
            "Epoch 11/100\n",
            "16/16 [==============================] - 0s 4ms/step - loss: 0.5660 - accuracy: 0.7812 - val_loss: 0.4493 - val_accuracy: 0.9064\n",
            "Epoch 12/100\n",
            "16/16 [==============================] - 0s 4ms/step - loss: 0.5121 - accuracy: 0.8105 - val_loss: 0.4306 - val_accuracy: 0.9123\n",
            "Epoch 13/100\n",
            "16/16 [==============================] - 0s 6ms/step - loss: 0.5416 - accuracy: 0.8242 - val_loss: 0.4099 - val_accuracy: 0.9123\n",
            "Epoch 14/100\n",
            "16/16 [==============================] - 0s 4ms/step - loss: 0.4450 - accuracy: 0.8594 - val_loss: 0.3861 - val_accuracy: 0.9240\n",
            "Epoch 15/100\n",
            "16/16 [==============================] - 0s 4ms/step - loss: 0.5048 - accuracy: 0.8281 - val_loss: 0.3658 - val_accuracy: 0.9240\n",
            "Epoch 16/100\n",
            "16/16 [==============================] - 0s 5ms/step - loss: 0.4742 - accuracy: 0.8379 - val_loss: 0.3509 - val_accuracy: 0.9240\n",
            "Epoch 17/100\n",
            "16/16 [==============================] - 0s 4ms/step - loss: 0.4767 - accuracy: 0.8555 - val_loss: 0.3385 - val_accuracy: 0.9357\n",
            "Epoch 18/100\n",
            "16/16 [==============================] - 0s 4ms/step - loss: 0.4685 - accuracy: 0.8457 - val_loss: 0.3267 - val_accuracy: 0.9357\n",
            "Epoch 19/100\n",
            "16/16 [==============================] - 0s 5ms/step - loss: 0.3950 - accuracy: 0.8672 - val_loss: 0.3097 - val_accuracy: 0.9357\n",
            "Epoch 20/100\n",
            "16/16 [==============================] - 0s 4ms/step - loss: 0.3958 - accuracy: 0.8828 - val_loss: 0.2984 - val_accuracy: 0.9357\n",
            "Epoch 21/100\n",
            "16/16 [==============================] - 0s 6ms/step - loss: 0.3977 - accuracy: 0.8672 - val_loss: 0.2868 - val_accuracy: 0.9357\n",
            "Epoch 22/100\n",
            "16/16 [==============================] - 0s 7ms/step - loss: 0.3631 - accuracy: 0.8926 - val_loss: 0.2742 - val_accuracy: 0.9357\n",
            "Epoch 23/100\n",
            "16/16 [==============================] - 0s 5ms/step - loss: 0.3604 - accuracy: 0.8965 - val_loss: 0.2634 - val_accuracy: 0.9357\n",
            "Epoch 24/100\n",
            "16/16 [==============================] - 0s 6ms/step - loss: 0.3547 - accuracy: 0.9082 - val_loss: 0.2572 - val_accuracy: 0.9357\n",
            "Epoch 25/100\n",
            "16/16 [==============================] - 0s 4ms/step - loss: 0.3394 - accuracy: 0.8945 - val_loss: 0.2454 - val_accuracy: 0.9357\n",
            "Epoch 26/100\n",
            "16/16 [==============================] - 0s 5ms/step - loss: 0.3351 - accuracy: 0.9004 - val_loss: 0.2361 - val_accuracy: 0.9415\n",
            "Epoch 27/100\n",
            "16/16 [==============================] - 0s 4ms/step - loss: 0.3416 - accuracy: 0.9062 - val_loss: 0.2359 - val_accuracy: 0.9415\n",
            "Epoch 28/100\n",
            "16/16 [==============================] - 0s 5ms/step - loss: 0.3055 - accuracy: 0.9023 - val_loss: 0.2223 - val_accuracy: 0.9415\n",
            "Epoch 29/100\n",
            "16/16 [==============================] - 0s 5ms/step - loss: 0.2998 - accuracy: 0.9102 - val_loss: 0.2177 - val_accuracy: 0.9415\n",
            "Epoch 30/100\n",
            "16/16 [==============================] - 0s 6ms/step - loss: 0.2839 - accuracy: 0.9082 - val_loss: 0.2097 - val_accuracy: 0.9415\n",
            "Epoch 31/100\n",
            "16/16 [==============================] - 0s 5ms/step - loss: 0.3081 - accuracy: 0.9102 - val_loss: 0.2015 - val_accuracy: 0.9474\n",
            "Epoch 32/100\n",
            "16/16 [==============================] - 0s 4ms/step - loss: 0.3028 - accuracy: 0.9062 - val_loss: 0.1954 - val_accuracy: 0.9532\n",
            "Epoch 33/100\n",
            "16/16 [==============================] - 0s 7ms/step - loss: 0.3181 - accuracy: 0.9043 - val_loss: 0.1922 - val_accuracy: 0.9532\n",
            "Epoch 34/100\n",
            "16/16 [==============================] - 0s 6ms/step - loss: 0.2919 - accuracy: 0.9199 - val_loss: 0.1898 - val_accuracy: 0.9532\n",
            "Epoch 35/100\n",
            "16/16 [==============================] - 0s 5ms/step - loss: 0.2629 - accuracy: 0.9238 - val_loss: 0.1865 - val_accuracy: 0.9532\n",
            "Epoch 36/100\n",
            "16/16 [==============================] - 0s 4ms/step - loss: 0.2761 - accuracy: 0.9199 - val_loss: 0.1851 - val_accuracy: 0.9532\n",
            "Epoch 37/100\n",
            "16/16 [==============================] - 0s 4ms/step - loss: 0.2793 - accuracy: 0.9121 - val_loss: 0.1800 - val_accuracy: 0.9591\n",
            "Epoch 38/100\n",
            "16/16 [==============================] - 0s 5ms/step - loss: 0.2252 - accuracy: 0.9297 - val_loss: 0.1760 - val_accuracy: 0.9591\n",
            "Epoch 39/100\n",
            "16/16 [==============================] - 0s 5ms/step - loss: 0.2981 - accuracy: 0.9102 - val_loss: 0.1712 - val_accuracy: 0.9532\n",
            "Epoch 40/100\n",
            "16/16 [==============================] - 0s 5ms/step - loss: 0.2649 - accuracy: 0.9375 - val_loss: 0.1705 - val_accuracy: 0.9532\n",
            "Epoch 41/100\n",
            "16/16 [==============================] - 0s 5ms/step - loss: 0.2762 - accuracy: 0.9199 - val_loss: 0.1697 - val_accuracy: 0.9649\n",
            "Epoch 42/100\n",
            "16/16 [==============================] - 0s 4ms/step - loss: 0.2654 - accuracy: 0.9277 - val_loss: 0.1710 - val_accuracy: 0.9649\n",
            "Epoch 43/100\n",
            "16/16 [==============================] - 0s 5ms/step - loss: 0.2428 - accuracy: 0.9160 - val_loss: 0.1661 - val_accuracy: 0.9591\n",
            "Epoch 44/100\n",
            "16/16 [==============================] - 0s 7ms/step - loss: 0.2452 - accuracy: 0.9258 - val_loss: 0.1628 - val_accuracy: 0.9532\n",
            "Epoch 45/100\n",
            "16/16 [==============================] - 0s 5ms/step - loss: 0.2493 - accuracy: 0.9258 - val_loss: 0.1597 - val_accuracy: 0.9591\n",
            "Epoch 46/100\n",
            "16/16 [==============================] - 0s 5ms/step - loss: 0.2146 - accuracy: 0.9297 - val_loss: 0.1566 - val_accuracy: 0.9649\n",
            "Epoch 47/100\n",
            "16/16 [==============================] - 0s 5ms/step - loss: 0.2450 - accuracy: 0.9219 - val_loss: 0.1579 - val_accuracy: 0.9591\n",
            "Epoch 48/100\n",
            "16/16 [==============================] - 0s 6ms/step - loss: 0.2409 - accuracy: 0.9160 - val_loss: 0.1528 - val_accuracy: 0.9591\n",
            "Epoch 49/100\n",
            "16/16 [==============================] - 0s 4ms/step - loss: 0.2547 - accuracy: 0.9375 - val_loss: 0.1509 - val_accuracy: 0.9649\n",
            "Epoch 50/100\n",
            "16/16 [==============================] - 0s 5ms/step - loss: 0.2167 - accuracy: 0.9258 - val_loss: 0.1468 - val_accuracy: 0.9591\n",
            "Epoch 51/100\n",
            "16/16 [==============================] - 0s 5ms/step - loss: 0.2122 - accuracy: 0.9297 - val_loss: 0.1447 - val_accuracy: 0.9649\n",
            "Epoch 52/100\n",
            "16/16 [==============================] - 0s 6ms/step - loss: 0.2167 - accuracy: 0.9297 - val_loss: 0.1452 - val_accuracy: 0.9649\n",
            "Epoch 53/100\n",
            "16/16 [==============================] - 0s 4ms/step - loss: 0.2184 - accuracy: 0.9219 - val_loss: 0.1462 - val_accuracy: 0.9708\n",
            "Epoch 54/100\n",
            "16/16 [==============================] - 0s 4ms/step - loss: 0.2270 - accuracy: 0.9336 - val_loss: 0.1424 - val_accuracy: 0.9649\n",
            "Epoch 55/100\n",
            "16/16 [==============================] - 0s 4ms/step - loss: 0.2173 - accuracy: 0.9355 - val_loss: 0.1403 - val_accuracy: 0.9649\n",
            "Epoch 56/100\n",
            "16/16 [==============================] - 0s 5ms/step - loss: 0.2130 - accuracy: 0.9414 - val_loss: 0.1406 - val_accuracy: 0.9649\n",
            "Epoch 57/100\n",
            "16/16 [==============================] - 0s 4ms/step - loss: 0.2212 - accuracy: 0.9297 - val_loss: 0.1426 - val_accuracy: 0.9649\n",
            "Epoch 58/100\n",
            "16/16 [==============================] - 0s 4ms/step - loss: 0.2267 - accuracy: 0.9316 - val_loss: 0.1442 - val_accuracy: 0.9708\n",
            "Epoch 59/100\n",
            "16/16 [==============================] - 0s 4ms/step - loss: 0.2227 - accuracy: 0.9297 - val_loss: 0.1440 - val_accuracy: 0.9708\n",
            "Epoch 60/100\n",
            "16/16 [==============================] - 0s 5ms/step - loss: 0.1966 - accuracy: 0.9414 - val_loss: 0.1401 - val_accuracy: 0.9649\n",
            "Epoch 61/100\n",
            "16/16 [==============================] - 0s 5ms/step - loss: 0.1892 - accuracy: 0.9492 - val_loss: 0.1393 - val_accuracy: 0.9708\n",
            "Epoch 62/100\n",
            "16/16 [==============================] - 0s 4ms/step - loss: 0.2145 - accuracy: 0.9395 - val_loss: 0.1372 - val_accuracy: 0.9708\n",
            "Epoch 63/100\n",
            "16/16 [==============================] - 0s 5ms/step - loss: 0.1909 - accuracy: 0.9336 - val_loss: 0.1334 - val_accuracy: 0.9649\n",
            "Epoch 64/100\n",
            "16/16 [==============================] - 0s 6ms/step - loss: 0.1728 - accuracy: 0.9395 - val_loss: 0.1323 - val_accuracy: 0.9649\n",
            "Epoch 65/100\n",
            "16/16 [==============================] - 0s 5ms/step - loss: 0.1911 - accuracy: 0.9453 - val_loss: 0.1331 - val_accuracy: 0.9708\n",
            "Epoch 66/100\n",
            "16/16 [==============================] - 0s 4ms/step - loss: 0.1931 - accuracy: 0.9395 - val_loss: 0.1282 - val_accuracy: 0.9649\n",
            "Epoch 67/100\n",
            "16/16 [==============================] - 0s 7ms/step - loss: 0.2159 - accuracy: 0.9238 - val_loss: 0.1301 - val_accuracy: 0.9708\n",
            "Epoch 68/100\n",
            "16/16 [==============================] - 0s 5ms/step - loss: 0.2055 - accuracy: 0.9160 - val_loss: 0.1301 - val_accuracy: 0.9708\n",
            "Epoch 69/100\n",
            "16/16 [==============================] - 0s 4ms/step - loss: 0.1978 - accuracy: 0.9297 - val_loss: 0.1288 - val_accuracy: 0.9708\n",
            "Epoch 70/100\n",
            "16/16 [==============================] - 0s 4ms/step - loss: 0.2024 - accuracy: 0.9395 - val_loss: 0.1343 - val_accuracy: 0.9766\n",
            "Epoch 71/100\n",
            "16/16 [==============================] - 0s 6ms/step - loss: 0.1924 - accuracy: 0.9355 - val_loss: 0.1332 - val_accuracy: 0.9766\n",
            "Epoch 72/100\n",
            "16/16 [==============================] - 0s 4ms/step - loss: 0.1743 - accuracy: 0.9453 - val_loss: 0.1307 - val_accuracy: 0.9708\n",
            "Epoch 73/100\n",
            "16/16 [==============================] - 0s 4ms/step - loss: 0.2112 - accuracy: 0.9277 - val_loss: 0.1297 - val_accuracy: 0.9708\n",
            "Epoch 74/100\n",
            "16/16 [==============================] - 0s 4ms/step - loss: 0.1952 - accuracy: 0.9414 - val_loss: 0.1286 - val_accuracy: 0.9708\n",
            "Epoch 75/100\n",
            "16/16 [==============================] - 0s 5ms/step - loss: 0.2135 - accuracy: 0.9277 - val_loss: 0.1285 - val_accuracy: 0.9708\n",
            "Epoch 76/100\n",
            "16/16 [==============================] - 0s 5ms/step - loss: 0.1756 - accuracy: 0.9414 - val_loss: 0.1245 - val_accuracy: 0.9825\n",
            "Epoch 77/100\n",
            "16/16 [==============================] - 0s 6ms/step - loss: 0.1954 - accuracy: 0.9434 - val_loss: 0.1240 - val_accuracy: 0.9766\n",
            "Epoch 78/100\n",
            "16/16 [==============================] - 0s 4ms/step - loss: 0.1806 - accuracy: 0.9258 - val_loss: 0.1236 - val_accuracy: 0.9825\n",
            "Epoch 79/100\n",
            "16/16 [==============================] - 0s 4ms/step - loss: 0.1721 - accuracy: 0.9336 - val_loss: 0.1249 - val_accuracy: 0.9766\n",
            "Epoch 80/100\n",
            "16/16 [==============================] - 0s 7ms/step - loss: 0.2009 - accuracy: 0.9297 - val_loss: 0.1236 - val_accuracy: 0.9825\n",
            "Epoch 81/100\n",
            "16/16 [==============================] - 0s 5ms/step - loss: 0.2081 - accuracy: 0.9375 - val_loss: 0.1231 - val_accuracy: 0.9825\n",
            "Epoch 82/100\n",
            "16/16 [==============================] - 0s 4ms/step - loss: 0.2131 - accuracy: 0.9395 - val_loss: 0.1249 - val_accuracy: 0.9825\n",
            "Epoch 83/100\n",
            "16/16 [==============================] - 0s 4ms/step - loss: 0.1847 - accuracy: 0.9375 - val_loss: 0.1253 - val_accuracy: 0.9825\n",
            "Epoch 84/100\n",
            "16/16 [==============================] - 0s 5ms/step - loss: 0.1865 - accuracy: 0.9395 - val_loss: 0.1249 - val_accuracy: 0.9825\n",
            "Epoch 85/100\n",
            "16/16 [==============================] - 0s 7ms/step - loss: 0.1659 - accuracy: 0.9473 - val_loss: 0.1223 - val_accuracy: 0.9825\n",
            "Epoch 86/100\n",
            "16/16 [==============================] - 0s 5ms/step - loss: 0.1822 - accuracy: 0.9395 - val_loss: 0.1225 - val_accuracy: 0.9825\n",
            "Epoch 87/100\n",
            "16/16 [==============================] - 0s 5ms/step - loss: 0.1481 - accuracy: 0.9492 - val_loss: 0.1216 - val_accuracy: 0.9825\n",
            "Epoch 88/100\n",
            "16/16 [==============================] - 0s 5ms/step - loss: 0.1690 - accuracy: 0.9512 - val_loss: 0.1217 - val_accuracy: 0.9825\n",
            "Epoch 89/100\n",
            "16/16 [==============================] - 0s 4ms/step - loss: 0.1768 - accuracy: 0.9453 - val_loss: 0.1195 - val_accuracy: 0.9825\n",
            "Epoch 90/100\n",
            "16/16 [==============================] - 0s 4ms/step - loss: 0.1559 - accuracy: 0.9492 - val_loss: 0.1229 - val_accuracy: 0.9825\n",
            "Epoch 91/100\n",
            "16/16 [==============================] - 0s 5ms/step - loss: 0.1530 - accuracy: 0.9551 - val_loss: 0.1178 - val_accuracy: 0.9825\n",
            "Epoch 92/100\n",
            "16/16 [==============================] - 0s 5ms/step - loss: 0.1744 - accuracy: 0.9512 - val_loss: 0.1177 - val_accuracy: 0.9825\n",
            "Epoch 93/100\n",
            "16/16 [==============================] - 0s 4ms/step - loss: 0.1876 - accuracy: 0.9277 - val_loss: 0.1161 - val_accuracy: 0.9825\n",
            "Epoch 94/100\n",
            "16/16 [==============================] - 0s 5ms/step - loss: 0.1707 - accuracy: 0.9492 - val_loss: 0.1130 - val_accuracy: 0.9825\n",
            "Epoch 95/100\n",
            "16/16 [==============================] - 0s 5ms/step - loss: 0.1535 - accuracy: 0.9492 - val_loss: 0.1137 - val_accuracy: 0.9825\n",
            "Epoch 96/100\n",
            "16/16 [==============================] - 0s 5ms/step - loss: 0.1605 - accuracy: 0.9512 - val_loss: 0.1147 - val_accuracy: 0.9825\n",
            "Epoch 97/100\n",
            "16/16 [==============================] - 0s 5ms/step - loss: 0.2113 - accuracy: 0.9355 - val_loss: 0.1169 - val_accuracy: 0.9825\n",
            "Epoch 98/100\n",
            "16/16 [==============================] - 0s 4ms/step - loss: 0.1598 - accuracy: 0.9434 - val_loss: 0.1140 - val_accuracy: 0.9825\n",
            "Epoch 99/100\n",
            "16/16 [==============================] - 0s 4ms/step - loss: 0.1403 - accuracy: 0.9492 - val_loss: 0.1094 - val_accuracy: 0.9825\n",
            "Epoch 100/100\n",
            "16/16 [==============================] - 0s 5ms/step - loss: 0.1613 - accuracy: 0.9375 - val_loss: 0.1084 - val_accuracy: 0.9825\n"
          ]
        }
      ]
    },
    {
      "cell_type": "code",
      "source": [
        "#visualise the ann\n",
        "from ann_visualizer.visualize import ann_viz;\n",
        "from graphviz import Source\n",
        "ann_viz(ann, view=True, filename='network.gv', title='Breast cancer prediction ANN  - group 13')"
      ],
      "metadata": {
        "id": "2s4MUq3c4Q0W"
      },
      "execution_count": 50,
      "outputs": []
    }
  ]
}
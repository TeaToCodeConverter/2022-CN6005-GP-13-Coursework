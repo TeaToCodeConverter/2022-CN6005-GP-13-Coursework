{
 "cells": [
  {
   "cell_type": "code",
   "execution_count": null,
   "metadata": {},
   "outputs": [],
   "source": [
    "# Graph viz dosnt work\n",
    "\n",
    "import graphviz\n",
    "from sklearn import tree\n",
    "dot_data = tree.export_graphviz(dtc,out_file=None,\n",
    "feature_names=features,\n",
    "class_names=['0','1'],\n",
    "filled=True, rounded=True,)\n",
    "graph = graphviz.Source(dot_data)\n",
    "graph.render(\"breastcancer\")"
   ]
  }
 ],
 "metadata": {
  "kernelspec": {
   "display_name": "Python 3",
   "language": "python",
   "name": "python3"
  },
  "language_info": {
   "name": "python",
   "version": "3.9.5 (tags/v3.9.5:0a7dcbd, May  3 2021, 17:27:52) [MSC v.1928 64 bit (AMD64)]"
  },
  "orig_nbformat": 4,
  "vscode": {
   "interpreter": {
    "hash": "74520a9e03e0f97c27a2c12a49e992bb2cea77ef544a1b23f3b86d7487b1dd89"
   }
  }
 },
 "nbformat": 4,
 "nbformat_minor": 2
}

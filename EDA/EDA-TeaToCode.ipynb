{
 "cells": [
  {
   "cell_type": "code",
   "execution_count": null,
   "metadata": {},
   "outputs": [],
   "source": [
    "## impports very important libraries run this cell first (TeaToCodeConverter)\n",
    "import pandas as pd\n",
    "import numpy as np\n",
    "import matplotlib.pyplot as plt\n",
    "import seaborn as sns\n",
    "import sklearn as sk\n",
    "#import tensorflow as tf"
   ]
  },
  {
   "attachments": {},
   "cell_type": "markdown",
   "metadata": {},
   "source": [
    "# Data Imports\n",
    "\n",
    "importing unlabeled  data as U1\n",
    "importing labeled data as L1"
   ]
  },
  {
   "cell_type": "code",
   "execution_count": null,
   "metadata": {},
   "outputs": [],
   "source": [
    "## creating a custom missing value list\n",
    "missing_values = [\"NA\",\"N/a\",np.nan,\"?\"]\n",
    "\n",
    "u1 = pd.read_csv(\"../DataSets/Breast cancer dataset/breast-cancer-wisconsin.data\",header=None,na_values=missing_values)\n",
    "l1 = pd.read_csv(\"../DataSets/Breast cancer dataset/breast-cancer-wisconsin.data\",header=None,na_values=missing_values, names=['id','clump_thickness','uniformity_of_cell_size','uniformity_of_cell_shape','marginal_adhesion','single_epithelial_cell_size','bare_nuclei','bland_chromatin','normal_nucleoli','mitoses','diagnosis'])\n",
    "\n",
    "##convert the bare_nuclei colmn to a number and drop the rows\n",
    "#l1['bare_nuclei'] = pd.to_numeric(l1['bare_nuclei'],errors='coerce')\n",
    "\n",
    "#check data is clean\n",
    "l1.isnull().sum()\n",
    "l1.head()\n",
    "\n",
    "print(l1.dtypes)\n"
   ]
  },
  {
   "attachments": {},
   "cell_type": "markdown",
   "metadata": {},
   "source": [
    "using Inbuilt tools for data description"
   ]
  },
  {
   "cell_type": "code",
   "execution_count": null,
   "metadata": {},
   "outputs": [],
   "source": [
    "u1.describe()\n",
    "l1.describe()"
   ]
  },
  {
   "cell_type": "code",
   "execution_count": null,
   "metadata": {},
   "outputs": [],
   "source": [
    "u1.shape\n",
    "l1.shape\n"
   ]
  },
  {
   "cell_type": "code",
   "execution_count": null,
   "metadata": {},
   "outputs": [],
   "source": [
    "print(f'clump_thickness: {l1.clump_thickness.count()}')"
   ]
  },
  {
   "cell_type": "code",
   "execution_count": null,
   "metadata": {},
   "outputs": [],
   "source": [
    "l1.columns\n",
    "\n",
    "#unique values in each column\n",
    "\n",
    "for i in l1.columns:\n",
    "    print(f'{i}: {l1[i].nunique()}')\n",
    "\n",
    "#check for null values\n",
    "print(\"Check for null values\")\n",
    "print(l1.isnull().sum())\n",
    "\n",
    "#find boundaries of each column\n",
    "print(\"find boundaries of each column\")\n",
    "for i in l1.columns:\n",
    "    print(f'{i}: {l1[i].min()} - {l1[i].max()}')\n",
    "\n",
    "\n"
   ]
  },
  {
   "cell_type": "code",
   "execution_count": null,
   "metadata": {},
   "outputs": [],
   "source": [
    "#data types of each column\n",
    "\n",
    "l1.dtypes"
   ]
  },
  {
   "cell_type": "code",
   "execution_count": null,
   "metadata": {},
   "outputs": [],
   "source": [
    "#general stats of each column\n",
    "\n",
    "#variance\n",
    "\n",
    "for i in l1.columns:\n",
    "  if i != 'bare_nuclei':\n",
    "    print(f'{i}: {l1[i].var()}')\n",
    "\n",
    "##other method\n",
    "#l1.drop('bare_nuclei',axis=1,inplace=True)\n",
    "\n",
    "#for i in l1.columns: \n",
    "#   print(f'{i}: {l1[i].var()}')\n",
    "\n",
    "#l1 = pd.read_csv(\"../DataSets/Breast cancer dataset/breast-cancer-wisconsin.data\",header=None, names=['id','clump_thickness','uniformity_of_cell_size','uniformity_of_cell_shape','marginal_adhesion','single_epithelial_cell_size','bare_nuclei','bland_chromatin','normal_nucleoli','mitoses','diagnosis'],index_col=0)\n"
   ]
  },
  {
   "cell_type": "code",
   "execution_count": null,
   "metadata": {},
   "outputs": [],
   "source": [
    "#l1.plot.scatter(l1.x,l1.y)\n",
    "## Scatter graphs\n",
    "for i in l1.columns:\n",
    "    print(f'{i}')\n",
    "    plt.scatter(l1[i], l1['diagnosis'])\n",
    "    plt.show()\n"
   ]
  },
  {
   "cell_type": "code",
   "execution_count": null,
   "metadata": {},
   "outputs": [],
   "source": [
    "#histograms\n",
    "\n",
    "#combined columns\n",
    "\n",
    "l1.hist(column=['clump_thickness','uniformity_of_cell_size','uniformity_of_cell_shape','marginal_adhesion','single_epithelial_cell_size','bare_nuclei','bland_chromatin','normal_nucleoli','mitoses'])\n",
    "\n",
    "l1.hist(column=['diagnosis'],bins=2)\n",
    "\n",
    "#seperate \n",
    "for i in l1.columns:\n",
    "    print(f'{i}')\n",
    "    plt.hist(l1[i])\n",
    "    plt.show()\n",
    "    "
   ]
  }
 ],
 "metadata": {
  "kernelspec": {
   "display_name": "Python 3",
   "language": "python",
   "name": "python3"
  },
  "orig_nbformat": 4,
  "vscode": {
   "interpreter": {
    "hash": "916dbcbb3f70747c44a77c7bcd40155683ae19c65e1c03b4aa3499c5328201f1"
   }
  }
 },
 "nbformat": 4,
 "nbformat_minor": 2
}

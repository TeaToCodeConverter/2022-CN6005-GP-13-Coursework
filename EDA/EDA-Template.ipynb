{
 "cells": [
  {
   "cell_type": "code",
<<<<<<< HEAD
   "execution_count": null,
=======
   "execution_count": 33,
>>>>>>> main
   "metadata": {},
   "outputs": [],
   "source": [
    "## impports very important libraries run this cell first (TeaToCodeConverter)\n",
    "import pandas as pd\n",
    "import numpy as np\n",
    "import matplotlib.pyplot as plt\n",
    "import seaborn as sns\n",
    "import sklearn as sk\n",
    "#import tensorflow as tf"
   ]
  },
  {
   "attachments": {},
   "cell_type": "markdown",
   "metadata": {},
   "source": [
    "# Data Imports\n",
    "\n",
    "importing unlabeled  data as U1\n",
    "importing labeled data as L1"
   ]
  },
  {
   "cell_type": "code",
<<<<<<< HEAD
   "execution_count": null,
   "metadata": {},
   "outputs": [],
   "source": [
    "u1 = pd.read_csv(\"../DataSets/Breast cancer dataset/breast-cancer-wisconsin.data\",header=None,index_col=0)\n",
    "l1 = pd.read_csv(\"../DataSets/Breast cancer dataset/breast-cancer-wisconsin.data\",header=None, names=['id','clump_thickness','uniformity_of_cell_size','uniformity_of_cell_shape','marginal_adhesion','single_epithelial_cell_size','bare_nuclei','bland_chromatin','normal_nucleoli','mitoses','class'],index_col=0)\n",
=======
   "execution_count": 34,
   "metadata": {},
   "outputs": [
    {
     "name": "stdout",
     "output_type": "stream",
     "text": [
      "id                               int64\n",
      "clump_thickness                  int64\n",
      "uniformity_of_cell_size          int64\n",
      "uniformity_of_cell_shape         int64\n",
      "marginal_adhesion                int64\n",
      "single_epithelial_cell_size      int64\n",
      "bare_nuclei                    float64\n",
      "bland_chromatin                  int64\n",
      "normal_nucleoli                  int64\n",
      "mitoses                          int64\n",
      "diagnosis                        int64\n",
      "dtype: object\n",
      "u1\n",
      "        0   1   2   3   4   5     6   7   8   9   10\n",
      "0  1000025   5   1   1   1   2   1.0   3   1   1   2\n",
      "1  1002945   5   4   4   5   7  10.0   3   2   1   2\n",
      "2  1015425   3   1   1   1   2   2.0   3   1   1   2\n",
      "3  1016277   6   8   8   1   3   4.0   3   7   1   2\n",
      "4  1017023   4   1   1   3   2   1.0   3   1   1   2\n",
      "l1\n",
      "        id  clump_thickness  uniformity_of_cell_size  \\\n",
      "0  1000025                5                        1   \n",
      "1  1002945                5                        4   \n",
      "2  1015425                3                        1   \n",
      "3  1016277                6                        8   \n",
      "4  1017023                4                        1   \n",
      "\n",
      "   uniformity_of_cell_shape  marginal_adhesion  single_epithelial_cell_size  \\\n",
      "0                         1                  1                            2   \n",
      "1                         4                  5                            7   \n",
      "2                         1                  1                            2   \n",
      "3                         8                  1                            3   \n",
      "4                         1                  3                            2   \n",
      "\n",
      "   bare_nuclei  bland_chromatin  normal_nucleoli  mitoses  diagnosis  \n",
      "0          1.0                3                1        1          2  \n",
      "1         10.0                3                2        1          2  \n",
      "2          2.0                3                1        1          2  \n",
      "3          4.0                3                7        1          2  \n",
      "4          1.0                3                1        1          2  \n"
     ]
    }
   ],
   "source": [
    "## creating a custom missing value list\n",
    "missing_values = [\"NA\",\"N/a\",np.nan,\"?\"]\n",
    "\n",
    "u1 = pd.read_csv(\"../DataSets/Breast cancer dataset/breast-cancer-wisconsin.data\",header=None,na_values=missing_values)\n",
    "l1 = pd.read_csv(\"../DataSets/Breast cancer dataset/breast-cancer-wisconsin.data\",header=None,na_values=missing_values, names=['id','clump_thickness','uniformity_of_cell_size','uniformity_of_cell_shape','marginal_adhesion','single_epithelial_cell_size','bare_nuclei','bland_chromatin','normal_nucleoli','mitoses','diagnosis'])\n",
    "\n",
    "##convert the bare_nuclei colmn to a number and drop the rows\n",
    "#l1['bare_nuclei'] = pd.to_numeric(l1['bare_nuclei'],errors='coerce')\n",
    "\n",
    "#check data is clean\n",
    "l1.isnull().sum()\n",
    "l1.head()\n",
    "\n",
    "print(l1.dtypes)\n",
    "\n",
    "##drop the rows with missing data\n",
    "\n",
    "u1= u1.dropna()\n",
    "l1 = l1.dropna()\n",
    "\n",
    "## lets look at the data\n",
>>>>>>> main
    "print(\"u1\")\n",
    "print(u1.head())\n",
    "print(\"l1\")\n",
    "print(l1.head())"
   ]
<<<<<<< HEAD
=======
  },
  {
   "attachments": {},
   "cell_type": "markdown",
   "metadata": {},
   "source": [
    "## Data Cleaning"
   ]
>>>>>>> main
  }
 ],
 "metadata": {
  "kernelspec": {
   "display_name": "Python 3",
   "language": "python",
   "name": "python3"
  },
  "language_info": {
   "name": "python",
   "version": "3.9.14 (main, Nov  7 2022, 00:00:00) \n[GCC 11.3.1 20220421 (Red Hat 11.3.1-2)]"
  },
  "orig_nbformat": 4,
  "vscode": {
   "interpreter": {
    "hash": "916dbcbb3f70747c44a77c7bcd40155683ae19c65e1c03b4aa3499c5328201f1"
   }
  }
 },
 "nbformat": 4,
 "nbformat_minor": 2
}
